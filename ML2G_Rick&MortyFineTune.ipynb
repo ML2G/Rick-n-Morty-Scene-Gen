{
  "nbformat": 4,
  "nbformat_minor": 0,
  "metadata": {
    "colab": {
      "provenance": [],
      "collapsed_sections": [
        "LyrGljjZEtKR",
        "MxhiSAPmmnDp",
        "v5cca4zILMl-",
        "Qlyi4eYwh0jI",
        "dPiU37EdBOSa"
      ]
    },
    "kernelspec": {
      "name": "python3",
      "display_name": "Python 3"
    },
    "language_info": {
      "name": "python"
    },
    "widgets": {
      "application/vnd.jupyter.widget-state+json": {
        "38990a5764ab4bd6a5056156a2566397": {
          "model_module": "@jupyter-widgets/controls",
          "model_name": "HBoxModel",
          "model_module_version": "1.5.0",
          "state": {
            "_dom_classes": [],
            "_model_module": "@jupyter-widgets/controls",
            "_model_module_version": "1.5.0",
            "_model_name": "HBoxModel",
            "_view_count": null,
            "_view_module": "@jupyter-widgets/controls",
            "_view_module_version": "1.5.0",
            "_view_name": "HBoxView",
            "box_style": "",
            "children": [
              "IPY_MODEL_fca24ead0f3c407681394529f4fe0751",
              "IPY_MODEL_b3ae01b8194744849cc905e56d50974b",
              "IPY_MODEL_788d2954e46c481ca1255078b5f178ab"
            ],
            "layout": "IPY_MODEL_fa021441e65e4c9683d9f24ee2e713fe"
          }
        },
        "fca24ead0f3c407681394529f4fe0751": {
          "model_module": "@jupyter-widgets/controls",
          "model_name": "HTMLModel",
          "model_module_version": "1.5.0",
          "state": {
            "_dom_classes": [],
            "_model_module": "@jupyter-widgets/controls",
            "_model_module_version": "1.5.0",
            "_model_name": "HTMLModel",
            "_view_count": null,
            "_view_module": "@jupyter-widgets/controls",
            "_view_module_version": "1.5.0",
            "_view_name": "HTMLView",
            "description": "",
            "description_tooltip": null,
            "layout": "IPY_MODEL_806464c6f8e2499bbf211cb62e7ababc",
            "placeholder": "​",
            "style": "IPY_MODEL_8f9ffc3aca704e07b11bd035fdf03ead",
            "value": "Downloading readme: 100%"
          }
        },
        "b3ae01b8194744849cc905e56d50974b": {
          "model_module": "@jupyter-widgets/controls",
          "model_name": "FloatProgressModel",
          "model_module_version": "1.5.0",
          "state": {
            "_dom_classes": [],
            "_model_module": "@jupyter-widgets/controls",
            "_model_module_version": "1.5.0",
            "_model_name": "FloatProgressModel",
            "_view_count": null,
            "_view_module": "@jupyter-widgets/controls",
            "_view_module_version": "1.5.0",
            "_view_name": "ProgressView",
            "bar_style": "success",
            "description": "",
            "description_tooltip": null,
            "layout": "IPY_MODEL_eb48ed46d3154f119c09f56fab21e3fa",
            "max": 173,
            "min": 0,
            "orientation": "horizontal",
            "style": "IPY_MODEL_88d75229c7e647beb0217449cceb2bda",
            "value": 173
          }
        },
        "788d2954e46c481ca1255078b5f178ab": {
          "model_module": "@jupyter-widgets/controls",
          "model_name": "HTMLModel",
          "model_module_version": "1.5.0",
          "state": {
            "_dom_classes": [],
            "_model_module": "@jupyter-widgets/controls",
            "_model_module_version": "1.5.0",
            "_model_name": "HTMLModel",
            "_view_count": null,
            "_view_module": "@jupyter-widgets/controls",
            "_view_module_version": "1.5.0",
            "_view_name": "HTMLView",
            "description": "",
            "description_tooltip": null,
            "layout": "IPY_MODEL_ac8f1be2fa0642ebb09e8462bb1fd83b",
            "placeholder": "​",
            "style": "IPY_MODEL_e1902fff273c484ab11c7c0e02921e5f",
            "value": " 173/173 [00:00&lt;00:00, 6.36kB/s]"
          }
        },
        "fa021441e65e4c9683d9f24ee2e713fe": {
          "model_module": "@jupyter-widgets/base",
          "model_name": "LayoutModel",
          "model_module_version": "1.2.0",
          "state": {
            "_model_module": "@jupyter-widgets/base",
            "_model_module_version": "1.2.0",
            "_model_name": "LayoutModel",
            "_view_count": null,
            "_view_module": "@jupyter-widgets/base",
            "_view_module_version": "1.2.0",
            "_view_name": "LayoutView",
            "align_content": null,
            "align_items": null,
            "align_self": null,
            "border": null,
            "bottom": null,
            "display": null,
            "flex": null,
            "flex_flow": null,
            "grid_area": null,
            "grid_auto_columns": null,
            "grid_auto_flow": null,
            "grid_auto_rows": null,
            "grid_column": null,
            "grid_gap": null,
            "grid_row": null,
            "grid_template_areas": null,
            "grid_template_columns": null,
            "grid_template_rows": null,
            "height": null,
            "justify_content": null,
            "justify_items": null,
            "left": null,
            "margin": null,
            "max_height": null,
            "max_width": null,
            "min_height": null,
            "min_width": null,
            "object_fit": null,
            "object_position": null,
            "order": null,
            "overflow": null,
            "overflow_x": null,
            "overflow_y": null,
            "padding": null,
            "right": null,
            "top": null,
            "visibility": null,
            "width": null
          }
        },
        "806464c6f8e2499bbf211cb62e7ababc": {
          "model_module": "@jupyter-widgets/base",
          "model_name": "LayoutModel",
          "model_module_version": "1.2.0",
          "state": {
            "_model_module": "@jupyter-widgets/base",
            "_model_module_version": "1.2.0",
            "_model_name": "LayoutModel",
            "_view_count": null,
            "_view_module": "@jupyter-widgets/base",
            "_view_module_version": "1.2.0",
            "_view_name": "LayoutView",
            "align_content": null,
            "align_items": null,
            "align_self": null,
            "border": null,
            "bottom": null,
            "display": null,
            "flex": null,
            "flex_flow": null,
            "grid_area": null,
            "grid_auto_columns": null,
            "grid_auto_flow": null,
            "grid_auto_rows": null,
            "grid_column": null,
            "grid_gap": null,
            "grid_row": null,
            "grid_template_areas": null,
            "grid_template_columns": null,
            "grid_template_rows": null,
            "height": null,
            "justify_content": null,
            "justify_items": null,
            "left": null,
            "margin": null,
            "max_height": null,
            "max_width": null,
            "min_height": null,
            "min_width": null,
            "object_fit": null,
            "object_position": null,
            "order": null,
            "overflow": null,
            "overflow_x": null,
            "overflow_y": null,
            "padding": null,
            "right": null,
            "top": null,
            "visibility": null,
            "width": null
          }
        },
        "8f9ffc3aca704e07b11bd035fdf03ead": {
          "model_module": "@jupyter-widgets/controls",
          "model_name": "DescriptionStyleModel",
          "model_module_version": "1.5.0",
          "state": {
            "_model_module": "@jupyter-widgets/controls",
            "_model_module_version": "1.5.0",
            "_model_name": "DescriptionStyleModel",
            "_view_count": null,
            "_view_module": "@jupyter-widgets/base",
            "_view_module_version": "1.2.0",
            "_view_name": "StyleView",
            "description_width": ""
          }
        },
        "eb48ed46d3154f119c09f56fab21e3fa": {
          "model_module": "@jupyter-widgets/base",
          "model_name": "LayoutModel",
          "model_module_version": "1.2.0",
          "state": {
            "_model_module": "@jupyter-widgets/base",
            "_model_module_version": "1.2.0",
            "_model_name": "LayoutModel",
            "_view_count": null,
            "_view_module": "@jupyter-widgets/base",
            "_view_module_version": "1.2.0",
            "_view_name": "LayoutView",
            "align_content": null,
            "align_items": null,
            "align_self": null,
            "border": null,
            "bottom": null,
            "display": null,
            "flex": null,
            "flex_flow": null,
            "grid_area": null,
            "grid_auto_columns": null,
            "grid_auto_flow": null,
            "grid_auto_rows": null,
            "grid_column": null,
            "grid_gap": null,
            "grid_row": null,
            "grid_template_areas": null,
            "grid_template_columns": null,
            "grid_template_rows": null,
            "height": null,
            "justify_content": null,
            "justify_items": null,
            "left": null,
            "margin": null,
            "max_height": null,
            "max_width": null,
            "min_height": null,
            "min_width": null,
            "object_fit": null,
            "object_position": null,
            "order": null,
            "overflow": null,
            "overflow_x": null,
            "overflow_y": null,
            "padding": null,
            "right": null,
            "top": null,
            "visibility": null,
            "width": null
          }
        },
        "88d75229c7e647beb0217449cceb2bda": {
          "model_module": "@jupyter-widgets/controls",
          "model_name": "ProgressStyleModel",
          "model_module_version": "1.5.0",
          "state": {
            "_model_module": "@jupyter-widgets/controls",
            "_model_module_version": "1.5.0",
            "_model_name": "ProgressStyleModel",
            "_view_count": null,
            "_view_module": "@jupyter-widgets/base",
            "_view_module_version": "1.2.0",
            "_view_name": "StyleView",
            "bar_color": null,
            "description_width": ""
          }
        },
        "ac8f1be2fa0642ebb09e8462bb1fd83b": {
          "model_module": "@jupyter-widgets/base",
          "model_name": "LayoutModel",
          "model_module_version": "1.2.0",
          "state": {
            "_model_module": "@jupyter-widgets/base",
            "_model_module_version": "1.2.0",
            "_model_name": "LayoutModel",
            "_view_count": null,
            "_view_module": "@jupyter-widgets/base",
            "_view_module_version": "1.2.0",
            "_view_name": "LayoutView",
            "align_content": null,
            "align_items": null,
            "align_self": null,
            "border": null,
            "bottom": null,
            "display": null,
            "flex": null,
            "flex_flow": null,
            "grid_area": null,
            "grid_auto_columns": null,
            "grid_auto_flow": null,
            "grid_auto_rows": null,
            "grid_column": null,
            "grid_gap": null,
            "grid_row": null,
            "grid_template_areas": null,
            "grid_template_columns": null,
            "grid_template_rows": null,
            "height": null,
            "justify_content": null,
            "justify_items": null,
            "left": null,
            "margin": null,
            "max_height": null,
            "max_width": null,
            "min_height": null,
            "min_width": null,
            "object_fit": null,
            "object_position": null,
            "order": null,
            "overflow": null,
            "overflow_x": null,
            "overflow_y": null,
            "padding": null,
            "right": null,
            "top": null,
            "visibility": null,
            "width": null
          }
        },
        "e1902fff273c484ab11c7c0e02921e5f": {
          "model_module": "@jupyter-widgets/controls",
          "model_name": "DescriptionStyleModel",
          "model_module_version": "1.5.0",
          "state": {
            "_model_module": "@jupyter-widgets/controls",
            "_model_module_version": "1.5.0",
            "_model_name": "DescriptionStyleModel",
            "_view_count": null,
            "_view_module": "@jupyter-widgets/base",
            "_view_module_version": "1.2.0",
            "_view_name": "StyleView",
            "description_width": ""
          }
        },
        "fdb2247cb8054487a4e61a046bce60c8": {
          "model_module": "@jupyter-widgets/controls",
          "model_name": "HBoxModel",
          "model_module_version": "1.5.0",
          "state": {
            "_dom_classes": [],
            "_model_module": "@jupyter-widgets/controls",
            "_model_module_version": "1.5.0",
            "_model_name": "HBoxModel",
            "_view_count": null,
            "_view_module": "@jupyter-widgets/controls",
            "_view_module_version": "1.5.0",
            "_view_name": "HBoxView",
            "box_style": "",
            "children": [
              "IPY_MODEL_c639784562874d8c9fb5a6cd2d197a72",
              "IPY_MODEL_8f9d42656b7243138ce0e331c4296f8d",
              "IPY_MODEL_42711ee9465f481eb0250cb01cf5ee50"
            ],
            "layout": "IPY_MODEL_8f5c7f8201b14f8f828acfaf2381fbe9"
          }
        },
        "c639784562874d8c9fb5a6cd2d197a72": {
          "model_module": "@jupyter-widgets/controls",
          "model_name": "HTMLModel",
          "model_module_version": "1.5.0",
          "state": {
            "_dom_classes": [],
            "_model_module": "@jupyter-widgets/controls",
            "_model_module_version": "1.5.0",
            "_model_name": "HTMLModel",
            "_view_count": null,
            "_view_module": "@jupyter-widgets/controls",
            "_view_module_version": "1.5.0",
            "_view_name": "HTMLView",
            "description": "",
            "description_tooltip": null,
            "layout": "IPY_MODEL_615063cb5c3a4fbf87512ecea7853d09",
            "placeholder": "​",
            "style": "IPY_MODEL_b3e912fda7604e5f82c10c54cc6b009f",
            "value": "Downloading data: 100%"
          }
        },
        "8f9d42656b7243138ce0e331c4296f8d": {
          "model_module": "@jupyter-widgets/controls",
          "model_name": "FloatProgressModel",
          "model_module_version": "1.5.0",
          "state": {
            "_dom_classes": [],
            "_model_module": "@jupyter-widgets/controls",
            "_model_module_version": "1.5.0",
            "_model_name": "FloatProgressModel",
            "_view_count": null,
            "_view_module": "@jupyter-widgets/controls",
            "_view_module_version": "1.5.0",
            "_view_name": "ProgressView",
            "bar_style": "success",
            "description": "",
            "description_tooltip": null,
            "layout": "IPY_MODEL_549e127909a8443aaa5eb85b5305cadd",
            "max": 210094,
            "min": 0,
            "orientation": "horizontal",
            "style": "IPY_MODEL_cec9295643104f37a5e6d097701ac19f",
            "value": 210094
          }
        },
        "42711ee9465f481eb0250cb01cf5ee50": {
          "model_module": "@jupyter-widgets/controls",
          "model_name": "HTMLModel",
          "model_module_version": "1.5.0",
          "state": {
            "_dom_classes": [],
            "_model_module": "@jupyter-widgets/controls",
            "_model_module_version": "1.5.0",
            "_model_name": "HTMLModel",
            "_view_count": null,
            "_view_module": "@jupyter-widgets/controls",
            "_view_module_version": "1.5.0",
            "_view_name": "HTMLView",
            "description": "",
            "description_tooltip": null,
            "layout": "IPY_MODEL_0117323e97ff4ece84c3c41aec91a5e7",
            "placeholder": "​",
            "style": "IPY_MODEL_9a84ac53e139435bb52fce3fbd4c93ec",
            "value": " 210k/210k [00:00&lt;00:00, 4.02MB/s]"
          }
        },
        "8f5c7f8201b14f8f828acfaf2381fbe9": {
          "model_module": "@jupyter-widgets/base",
          "model_name": "LayoutModel",
          "model_module_version": "1.2.0",
          "state": {
            "_model_module": "@jupyter-widgets/base",
            "_model_module_version": "1.2.0",
            "_model_name": "LayoutModel",
            "_view_count": null,
            "_view_module": "@jupyter-widgets/base",
            "_view_module_version": "1.2.0",
            "_view_name": "LayoutView",
            "align_content": null,
            "align_items": null,
            "align_self": null,
            "border": null,
            "bottom": null,
            "display": null,
            "flex": null,
            "flex_flow": null,
            "grid_area": null,
            "grid_auto_columns": null,
            "grid_auto_flow": null,
            "grid_auto_rows": null,
            "grid_column": null,
            "grid_gap": null,
            "grid_row": null,
            "grid_template_areas": null,
            "grid_template_columns": null,
            "grid_template_rows": null,
            "height": null,
            "justify_content": null,
            "justify_items": null,
            "left": null,
            "margin": null,
            "max_height": null,
            "max_width": null,
            "min_height": null,
            "min_width": null,
            "object_fit": null,
            "object_position": null,
            "order": null,
            "overflow": null,
            "overflow_x": null,
            "overflow_y": null,
            "padding": null,
            "right": null,
            "top": null,
            "visibility": null,
            "width": null
          }
        },
        "615063cb5c3a4fbf87512ecea7853d09": {
          "model_module": "@jupyter-widgets/base",
          "model_name": "LayoutModel",
          "model_module_version": "1.2.0",
          "state": {
            "_model_module": "@jupyter-widgets/base",
            "_model_module_version": "1.2.0",
            "_model_name": "LayoutModel",
            "_view_count": null,
            "_view_module": "@jupyter-widgets/base",
            "_view_module_version": "1.2.0",
            "_view_name": "LayoutView",
            "align_content": null,
            "align_items": null,
            "align_self": null,
            "border": null,
            "bottom": null,
            "display": null,
            "flex": null,
            "flex_flow": null,
            "grid_area": null,
            "grid_auto_columns": null,
            "grid_auto_flow": null,
            "grid_auto_rows": null,
            "grid_column": null,
            "grid_gap": null,
            "grid_row": null,
            "grid_template_areas": null,
            "grid_template_columns": null,
            "grid_template_rows": null,
            "height": null,
            "justify_content": null,
            "justify_items": null,
            "left": null,
            "margin": null,
            "max_height": null,
            "max_width": null,
            "min_height": null,
            "min_width": null,
            "object_fit": null,
            "object_position": null,
            "order": null,
            "overflow": null,
            "overflow_x": null,
            "overflow_y": null,
            "padding": null,
            "right": null,
            "top": null,
            "visibility": null,
            "width": null
          }
        },
        "b3e912fda7604e5f82c10c54cc6b009f": {
          "model_module": "@jupyter-widgets/controls",
          "model_name": "DescriptionStyleModel",
          "model_module_version": "1.5.0",
          "state": {
            "_model_module": "@jupyter-widgets/controls",
            "_model_module_version": "1.5.0",
            "_model_name": "DescriptionStyleModel",
            "_view_count": null,
            "_view_module": "@jupyter-widgets/base",
            "_view_module_version": "1.2.0",
            "_view_name": "StyleView",
            "description_width": ""
          }
        },
        "549e127909a8443aaa5eb85b5305cadd": {
          "model_module": "@jupyter-widgets/base",
          "model_name": "LayoutModel",
          "model_module_version": "1.2.0",
          "state": {
            "_model_module": "@jupyter-widgets/base",
            "_model_module_version": "1.2.0",
            "_model_name": "LayoutModel",
            "_view_count": null,
            "_view_module": "@jupyter-widgets/base",
            "_view_module_version": "1.2.0",
            "_view_name": "LayoutView",
            "align_content": null,
            "align_items": null,
            "align_self": null,
            "border": null,
            "bottom": null,
            "display": null,
            "flex": null,
            "flex_flow": null,
            "grid_area": null,
            "grid_auto_columns": null,
            "grid_auto_flow": null,
            "grid_auto_rows": null,
            "grid_column": null,
            "grid_gap": null,
            "grid_row": null,
            "grid_template_areas": null,
            "grid_template_columns": null,
            "grid_template_rows": null,
            "height": null,
            "justify_content": null,
            "justify_items": null,
            "left": null,
            "margin": null,
            "max_height": null,
            "max_width": null,
            "min_height": null,
            "min_width": null,
            "object_fit": null,
            "object_position": null,
            "order": null,
            "overflow": null,
            "overflow_x": null,
            "overflow_y": null,
            "padding": null,
            "right": null,
            "top": null,
            "visibility": null,
            "width": null
          }
        },
        "cec9295643104f37a5e6d097701ac19f": {
          "model_module": "@jupyter-widgets/controls",
          "model_name": "ProgressStyleModel",
          "model_module_version": "1.5.0",
          "state": {
            "_model_module": "@jupyter-widgets/controls",
            "_model_module_version": "1.5.0",
            "_model_name": "ProgressStyleModel",
            "_view_count": null,
            "_view_module": "@jupyter-widgets/base",
            "_view_module_version": "1.2.0",
            "_view_name": "StyleView",
            "bar_color": null,
            "description_width": ""
          }
        },
        "0117323e97ff4ece84c3c41aec91a5e7": {
          "model_module": "@jupyter-widgets/base",
          "model_name": "LayoutModel",
          "model_module_version": "1.2.0",
          "state": {
            "_model_module": "@jupyter-widgets/base",
            "_model_module_version": "1.2.0",
            "_model_name": "LayoutModel",
            "_view_count": null,
            "_view_module": "@jupyter-widgets/base",
            "_view_module_version": "1.2.0",
            "_view_name": "LayoutView",
            "align_content": null,
            "align_items": null,
            "align_self": null,
            "border": null,
            "bottom": null,
            "display": null,
            "flex": null,
            "flex_flow": null,
            "grid_area": null,
            "grid_auto_columns": null,
            "grid_auto_flow": null,
            "grid_auto_rows": null,
            "grid_column": null,
            "grid_gap": null,
            "grid_row": null,
            "grid_template_areas": null,
            "grid_template_columns": null,
            "grid_template_rows": null,
            "height": null,
            "justify_content": null,
            "justify_items": null,
            "left": null,
            "margin": null,
            "max_height": null,
            "max_width": null,
            "min_height": null,
            "min_width": null,
            "object_fit": null,
            "object_position": null,
            "order": null,
            "overflow": null,
            "overflow_x": null,
            "overflow_y": null,
            "padding": null,
            "right": null,
            "top": null,
            "visibility": null,
            "width": null
          }
        },
        "9a84ac53e139435bb52fce3fbd4c93ec": {
          "model_module": "@jupyter-widgets/controls",
          "model_name": "DescriptionStyleModel",
          "model_module_version": "1.5.0",
          "state": {
            "_model_module": "@jupyter-widgets/controls",
            "_model_module_version": "1.5.0",
            "_model_name": "DescriptionStyleModel",
            "_view_count": null,
            "_view_module": "@jupyter-widgets/base",
            "_view_module_version": "1.2.0",
            "_view_name": "StyleView",
            "description_width": ""
          }
        },
        "fcdceed849334a359f5614f6b32dbb2c": {
          "model_module": "@jupyter-widgets/controls",
          "model_name": "HBoxModel",
          "model_module_version": "1.5.0",
          "state": {
            "_dom_classes": [],
            "_model_module": "@jupyter-widgets/controls",
            "_model_module_version": "1.5.0",
            "_model_name": "HBoxModel",
            "_view_count": null,
            "_view_module": "@jupyter-widgets/controls",
            "_view_module_version": "1.5.0",
            "_view_name": "HBoxView",
            "box_style": "",
            "children": [
              "IPY_MODEL_82b97f08fcf749b4b38dc6a1e6389186",
              "IPY_MODEL_100646f4ea744315b2f1113c4177ed46",
              "IPY_MODEL_11fcf0550d184445a37b95dc9928c042"
            ],
            "layout": "IPY_MODEL_558502e4ef58438b80a6facfd5a7a0f4"
          }
        },
        "82b97f08fcf749b4b38dc6a1e6389186": {
          "model_module": "@jupyter-widgets/controls",
          "model_name": "HTMLModel",
          "model_module_version": "1.5.0",
          "state": {
            "_dom_classes": [],
            "_model_module": "@jupyter-widgets/controls",
            "_model_module_version": "1.5.0",
            "_model_name": "HTMLModel",
            "_view_count": null,
            "_view_module": "@jupyter-widgets/controls",
            "_view_module_version": "1.5.0",
            "_view_name": "HTMLView",
            "description": "",
            "description_tooltip": null,
            "layout": "IPY_MODEL_ddb7bc002658474fa0b770c6cd086a81",
            "placeholder": "​",
            "style": "IPY_MODEL_b592e60919a24c36b86869d39a916b3d",
            "value": "Generating train split: "
          }
        },
        "100646f4ea744315b2f1113c4177ed46": {
          "model_module": "@jupyter-widgets/controls",
          "model_name": "FloatProgressModel",
          "model_module_version": "1.5.0",
          "state": {
            "_dom_classes": [],
            "_model_module": "@jupyter-widgets/controls",
            "_model_module_version": "1.5.0",
            "_model_name": "FloatProgressModel",
            "_view_count": null,
            "_view_module": "@jupyter-widgets/controls",
            "_view_module_version": "1.5.0",
            "_view_name": "ProgressView",
            "bar_style": "success",
            "description": "",
            "description_tooltip": null,
            "layout": "IPY_MODEL_2103599d0d6a4097a58e27ac058e8db4",
            "max": 1,
            "min": 0,
            "orientation": "horizontal",
            "style": "IPY_MODEL_6c58b9d1ff7149bbab38ff5f08e83901",
            "value": 1
          }
        },
        "11fcf0550d184445a37b95dc9928c042": {
          "model_module": "@jupyter-widgets/controls",
          "model_name": "HTMLModel",
          "model_module_version": "1.5.0",
          "state": {
            "_dom_classes": [],
            "_model_module": "@jupyter-widgets/controls",
            "_model_module_version": "1.5.0",
            "_model_name": "HTMLModel",
            "_view_count": null,
            "_view_module": "@jupyter-widgets/controls",
            "_view_module_version": "1.5.0",
            "_view_name": "HTMLView",
            "description": "",
            "description_tooltip": null,
            "layout": "IPY_MODEL_8c97a24953374f4e8c6a025a83d723c5",
            "placeholder": "​",
            "style": "IPY_MODEL_0debb438d1b9426397444f24f070686e",
            "value": " 1905/0 [00:00&lt;00:00, 26507.74 examples/s]"
          }
        },
        "558502e4ef58438b80a6facfd5a7a0f4": {
          "model_module": "@jupyter-widgets/base",
          "model_name": "LayoutModel",
          "model_module_version": "1.2.0",
          "state": {
            "_model_module": "@jupyter-widgets/base",
            "_model_module_version": "1.2.0",
            "_model_name": "LayoutModel",
            "_view_count": null,
            "_view_module": "@jupyter-widgets/base",
            "_view_module_version": "1.2.0",
            "_view_name": "LayoutView",
            "align_content": null,
            "align_items": null,
            "align_self": null,
            "border": null,
            "bottom": null,
            "display": null,
            "flex": null,
            "flex_flow": null,
            "grid_area": null,
            "grid_auto_columns": null,
            "grid_auto_flow": null,
            "grid_auto_rows": null,
            "grid_column": null,
            "grid_gap": null,
            "grid_row": null,
            "grid_template_areas": null,
            "grid_template_columns": null,
            "grid_template_rows": null,
            "height": null,
            "justify_content": null,
            "justify_items": null,
            "left": null,
            "margin": null,
            "max_height": null,
            "max_width": null,
            "min_height": null,
            "min_width": null,
            "object_fit": null,
            "object_position": null,
            "order": null,
            "overflow": null,
            "overflow_x": null,
            "overflow_y": null,
            "padding": null,
            "right": null,
            "top": null,
            "visibility": null,
            "width": null
          }
        },
        "ddb7bc002658474fa0b770c6cd086a81": {
          "model_module": "@jupyter-widgets/base",
          "model_name": "LayoutModel",
          "model_module_version": "1.2.0",
          "state": {
            "_model_module": "@jupyter-widgets/base",
            "_model_module_version": "1.2.0",
            "_model_name": "LayoutModel",
            "_view_count": null,
            "_view_module": "@jupyter-widgets/base",
            "_view_module_version": "1.2.0",
            "_view_name": "LayoutView",
            "align_content": null,
            "align_items": null,
            "align_self": null,
            "border": null,
            "bottom": null,
            "display": null,
            "flex": null,
            "flex_flow": null,
            "grid_area": null,
            "grid_auto_columns": null,
            "grid_auto_flow": null,
            "grid_auto_rows": null,
            "grid_column": null,
            "grid_gap": null,
            "grid_row": null,
            "grid_template_areas": null,
            "grid_template_columns": null,
            "grid_template_rows": null,
            "height": null,
            "justify_content": null,
            "justify_items": null,
            "left": null,
            "margin": null,
            "max_height": null,
            "max_width": null,
            "min_height": null,
            "min_width": null,
            "object_fit": null,
            "object_position": null,
            "order": null,
            "overflow": null,
            "overflow_x": null,
            "overflow_y": null,
            "padding": null,
            "right": null,
            "top": null,
            "visibility": null,
            "width": null
          }
        },
        "b592e60919a24c36b86869d39a916b3d": {
          "model_module": "@jupyter-widgets/controls",
          "model_name": "DescriptionStyleModel",
          "model_module_version": "1.5.0",
          "state": {
            "_model_module": "@jupyter-widgets/controls",
            "_model_module_version": "1.5.0",
            "_model_name": "DescriptionStyleModel",
            "_view_count": null,
            "_view_module": "@jupyter-widgets/base",
            "_view_module_version": "1.2.0",
            "_view_name": "StyleView",
            "description_width": ""
          }
        },
        "2103599d0d6a4097a58e27ac058e8db4": {
          "model_module": "@jupyter-widgets/base",
          "model_name": "LayoutModel",
          "model_module_version": "1.2.0",
          "state": {
            "_model_module": "@jupyter-widgets/base",
            "_model_module_version": "1.2.0",
            "_model_name": "LayoutModel",
            "_view_count": null,
            "_view_module": "@jupyter-widgets/base",
            "_view_module_version": "1.2.0",
            "_view_name": "LayoutView",
            "align_content": null,
            "align_items": null,
            "align_self": null,
            "border": null,
            "bottom": null,
            "display": null,
            "flex": null,
            "flex_flow": null,
            "grid_area": null,
            "grid_auto_columns": null,
            "grid_auto_flow": null,
            "grid_auto_rows": null,
            "grid_column": null,
            "grid_gap": null,
            "grid_row": null,
            "grid_template_areas": null,
            "grid_template_columns": null,
            "grid_template_rows": null,
            "height": null,
            "justify_content": null,
            "justify_items": null,
            "left": null,
            "margin": null,
            "max_height": null,
            "max_width": null,
            "min_height": null,
            "min_width": null,
            "object_fit": null,
            "object_position": null,
            "order": null,
            "overflow": null,
            "overflow_x": null,
            "overflow_y": null,
            "padding": null,
            "right": null,
            "top": null,
            "visibility": null,
            "width": "20px"
          }
        },
        "6c58b9d1ff7149bbab38ff5f08e83901": {
          "model_module": "@jupyter-widgets/controls",
          "model_name": "ProgressStyleModel",
          "model_module_version": "1.5.0",
          "state": {
            "_model_module": "@jupyter-widgets/controls",
            "_model_module_version": "1.5.0",
            "_model_name": "ProgressStyleModel",
            "_view_count": null,
            "_view_module": "@jupyter-widgets/base",
            "_view_module_version": "1.2.0",
            "_view_name": "StyleView",
            "bar_color": null,
            "description_width": ""
          }
        },
        "8c97a24953374f4e8c6a025a83d723c5": {
          "model_module": "@jupyter-widgets/base",
          "model_name": "LayoutModel",
          "model_module_version": "1.2.0",
          "state": {
            "_model_module": "@jupyter-widgets/base",
            "_model_module_version": "1.2.0",
            "_model_name": "LayoutModel",
            "_view_count": null,
            "_view_module": "@jupyter-widgets/base",
            "_view_module_version": "1.2.0",
            "_view_name": "LayoutView",
            "align_content": null,
            "align_items": null,
            "align_self": null,
            "border": null,
            "bottom": null,
            "display": null,
            "flex": null,
            "flex_flow": null,
            "grid_area": null,
            "grid_auto_columns": null,
            "grid_auto_flow": null,
            "grid_auto_rows": null,
            "grid_column": null,
            "grid_gap": null,
            "grid_row": null,
            "grid_template_areas": null,
            "grid_template_columns": null,
            "grid_template_rows": null,
            "height": null,
            "justify_content": null,
            "justify_items": null,
            "left": null,
            "margin": null,
            "max_height": null,
            "max_width": null,
            "min_height": null,
            "min_width": null,
            "object_fit": null,
            "object_position": null,
            "order": null,
            "overflow": null,
            "overflow_x": null,
            "overflow_y": null,
            "padding": null,
            "right": null,
            "top": null,
            "visibility": null,
            "width": null
          }
        },
        "0debb438d1b9426397444f24f070686e": {
          "model_module": "@jupyter-widgets/controls",
          "model_name": "DescriptionStyleModel",
          "model_module_version": "1.5.0",
          "state": {
            "_model_module": "@jupyter-widgets/controls",
            "_model_module_version": "1.5.0",
            "_model_name": "DescriptionStyleModel",
            "_view_count": null,
            "_view_module": "@jupyter-widgets/base",
            "_view_module_version": "1.2.0",
            "_view_name": "StyleView",
            "description_width": ""
          }
        }
      }
    }
  },
  "cells": [
    {
      "cell_type": "markdown",
      "source": [
        "# This notebook uses Anyscale & Huggingface Datasets to train a LLaMA model on Rick and Morty scenes.\n",
        "\n",
        "After training a model, we'll create a chatbot system where we can create a system prompt to set the scene and have Rick & Morty converse with eachother.\n",
        "\n",
        "To run this notebook, you will need to create an Anyscale account and API key. You can create one for free [here](https://app.endpoints.anyscale.com/welcome). Anyscale will provide you with $10 in free credits when you create your account."
      ],
      "metadata": {
        "id": "7oVnwAV2ECYX"
      }
    },
    {
      "cell_type": "markdown",
      "source": [
        "## Setup"
      ],
      "metadata": {
        "id": "e-_LxfWREaV_"
      }
    },
    {
      "cell_type": "markdown",
      "source": [
        "The first step is to install dependencies. After you run this cell. Comment it out and re-run the notebook."
      ],
      "metadata": {
        "id": "t1GYY_GhEc8a"
      }
    },
    {
      "cell_type": "code",
      "source": [
        "# !pip install datasets\n",
        "# !pip install openai"
      ],
      "metadata": {
        "id": "BazqBJa1iWIM"
      },
      "execution_count": 1,
      "outputs": []
    },
    {
      "cell_type": "markdown",
      "source": [
        "Import libraries."
      ],
      "metadata": {
        "id": "ZojrYZzdEmiE"
      }
    },
    {
      "cell_type": "code",
      "source": [
        "import json\n",
        "import pandas as pd\n",
        "import openai\n",
        "import transformers\n",
        "from datasets import load_dataset\n",
        "from IPython.display import display, JSON\n",
        "from google.colab import drive\n"
      ],
      "metadata": {
        "id": "d7LWJDHAiL1f"
      },
      "execution_count": 2,
      "outputs": []
    },
    {
      "cell_type": "code",
      "source": [
        "# Mount google drive\n",
        "drive.mount('/content/drive')"
      ],
      "metadata": {
        "colab": {
          "base_uri": "https://localhost:8080/"
        },
        "id": "TKh7OccvKJ80",
        "outputId": "660ade57-5978-41c6-bb5d-36fcb6a43ec4"
      },
      "execution_count": 3,
      "outputs": [
        {
          "output_type": "stream",
          "name": "stdout",
          "text": [
            "Mounted at /content/drive\n"
          ]
        }
      ]
    },
    {
      "cell_type": "markdown",
      "source": [
        "## Training"
      ],
      "metadata": {
        "id": "w_aDTmDoEowY"
      }
    },
    {
      "cell_type": "markdown",
      "source": [
        "### Load rick & morty dataset from huggingface"
      ],
      "metadata": {
        "id": "LyrGljjZEtKR"
      }
    },
    {
      "cell_type": "code",
      "source": [
        "dataset = load_dataset(\"ysharma/rickandmorty\")"
      ],
      "metadata": {
        "colab": {
          "base_uri": "https://localhost:8080/",
          "height": 272,
          "referenced_widgets": [
            "38990a5764ab4bd6a5056156a2566397",
            "fca24ead0f3c407681394529f4fe0751",
            "b3ae01b8194744849cc905e56d50974b",
            "788d2954e46c481ca1255078b5f178ab",
            "fa021441e65e4c9683d9f24ee2e713fe",
            "806464c6f8e2499bbf211cb62e7ababc",
            "8f9ffc3aca704e07b11bd035fdf03ead",
            "eb48ed46d3154f119c09f56fab21e3fa",
            "88d75229c7e647beb0217449cceb2bda",
            "ac8f1be2fa0642ebb09e8462bb1fd83b",
            "e1902fff273c484ab11c7c0e02921e5f",
            "fdb2247cb8054487a4e61a046bce60c8",
            "c639784562874d8c9fb5a6cd2d197a72",
            "8f9d42656b7243138ce0e331c4296f8d",
            "42711ee9465f481eb0250cb01cf5ee50",
            "8f5c7f8201b14f8f828acfaf2381fbe9",
            "615063cb5c3a4fbf87512ecea7853d09",
            "b3e912fda7604e5f82c10c54cc6b009f",
            "549e127909a8443aaa5eb85b5305cadd",
            "cec9295643104f37a5e6d097701ac19f",
            "0117323e97ff4ece84c3c41aec91a5e7",
            "9a84ac53e139435bb52fce3fbd4c93ec",
            "fcdceed849334a359f5614f6b32dbb2c",
            "82b97f08fcf749b4b38dc6a1e6389186",
            "100646f4ea744315b2f1113c4177ed46",
            "11fcf0550d184445a37b95dc9928c042",
            "558502e4ef58438b80a6facfd5a7a0f4",
            "ddb7bc002658474fa0b770c6cd086a81",
            "b592e60919a24c36b86869d39a916b3d",
            "2103599d0d6a4097a58e27ac058e8db4",
            "6c58b9d1ff7149bbab38ff5f08e83901",
            "8c97a24953374f4e8c6a025a83d723c5",
            "0debb438d1b9426397444f24f070686e"
          ]
        },
        "id": "qU7xH2lgjlxi",
        "outputId": "02276547-db6c-48aa-8da3-e1fd659c5cb3"
      },
      "execution_count": 4,
      "outputs": [
        {
          "output_type": "stream",
          "name": "stderr",
          "text": [
            "/usr/local/lib/python3.10/dist-packages/huggingface_hub/utils/_token.py:88: UserWarning: \n",
            "The secret `HF_TOKEN` does not exist in your Colab secrets.\n",
            "To authenticate with the Hugging Face Hub, create a token in your settings tab (https://huggingface.co/settings/tokens), set it as secret in your Google Colab and restart your session.\n",
            "You will be able to reuse this secret in all of your notebooks.\n",
            "Please note that authentication is recommended but still optional to access public models or datasets.\n",
            "  warnings.warn(\n"
          ]
        },
        {
          "output_type": "display_data",
          "data": {
            "text/plain": [
              "Downloading readme:   0%|          | 0.00/173 [00:00<?, ?B/s]"
            ],
            "application/vnd.jupyter.widget-view+json": {
              "version_major": 2,
              "version_minor": 0,
              "model_id": "38990a5764ab4bd6a5056156a2566397"
            }
          },
          "metadata": {}
        },
        {
          "output_type": "stream",
          "name": "stderr",
          "text": [
            "/usr/local/lib/python3.10/dist-packages/huggingface_hub/repocard.py:105: UserWarning: Repo card metadata block was not found. Setting CardData to empty.\n",
            "  warnings.warn(\"Repo card metadata block was not found. Setting CardData to empty.\")\n"
          ]
        },
        {
          "output_type": "display_data",
          "data": {
            "text/plain": [
              "Downloading data:   0%|          | 0.00/210k [00:00<?, ?B/s]"
            ],
            "application/vnd.jupyter.widget-view+json": {
              "version_major": 2,
              "version_minor": 0,
              "model_id": "fdb2247cb8054487a4e61a046bce60c8"
            }
          },
          "metadata": {}
        },
        {
          "output_type": "display_data",
          "data": {
            "text/plain": [
              "Generating train split: 0 examples [00:00, ? examples/s]"
            ],
            "application/vnd.jupyter.widget-view+json": {
              "version_major": 2,
              "version_minor": 0,
              "model_id": "fcdceed849334a359f5614f6b32dbb2c"
            }
          },
          "metadata": {}
        }
      ]
    },
    {
      "cell_type": "markdown",
      "source": [
        "Use pandas to transform the dataset object to a dataframe, making it a bit easier for us to work with."
      ],
      "metadata": {
        "id": "g_9KXEzYE2a3"
      }
    },
    {
      "cell_type": "code",
      "source": [
        "df = pd.DataFrame(dataset)\n",
        "df.head()"
      ],
      "metadata": {
        "colab": {
          "base_uri": "https://localhost:8080/",
          "height": 206
        },
        "id": "8X0zLk7zkVYc",
        "outputId": "12d559a5-bff2-46a7-97de-1234f08d918d"
      },
      "execution_count": 5,
      "outputs": [
        {
          "output_type": "execute_result",
          "data": {
            "text/plain": [
              "                                               train\n",
              "0  {'index': 0, 'season no.': 1, 'episode no.': 1...\n",
              "1  {'index': 1, 'season no.': 1, 'episode no.': 1...\n",
              "2  {'index': 2, 'season no.': 1, 'episode no.': 1...\n",
              "3  {'index': 3, 'season no.': 1, 'episode no.': 1...\n",
              "4  {'index': 4, 'season no.': 1, 'episode no.': 1..."
            ],
            "text/html": [
              "\n",
              "  <div id=\"df-5d494e40-ba5d-4542-829c-9b7bcb81e083\" class=\"colab-df-container\">\n",
              "    <div>\n",
              "<style scoped>\n",
              "    .dataframe tbody tr th:only-of-type {\n",
              "        vertical-align: middle;\n",
              "    }\n",
              "\n",
              "    .dataframe tbody tr th {\n",
              "        vertical-align: top;\n",
              "    }\n",
              "\n",
              "    .dataframe thead th {\n",
              "        text-align: right;\n",
              "    }\n",
              "</style>\n",
              "<table border=\"1\" class=\"dataframe\">\n",
              "  <thead>\n",
              "    <tr style=\"text-align: right;\">\n",
              "      <th></th>\n",
              "      <th>train</th>\n",
              "    </tr>\n",
              "  </thead>\n",
              "  <tbody>\n",
              "    <tr>\n",
              "      <th>0</th>\n",
              "      <td>{'index': 0, 'season no.': 1, 'episode no.': 1...</td>\n",
              "    </tr>\n",
              "    <tr>\n",
              "      <th>1</th>\n",
              "      <td>{'index': 1, 'season no.': 1, 'episode no.': 1...</td>\n",
              "    </tr>\n",
              "    <tr>\n",
              "      <th>2</th>\n",
              "      <td>{'index': 2, 'season no.': 1, 'episode no.': 1...</td>\n",
              "    </tr>\n",
              "    <tr>\n",
              "      <th>3</th>\n",
              "      <td>{'index': 3, 'season no.': 1, 'episode no.': 1...</td>\n",
              "    </tr>\n",
              "    <tr>\n",
              "      <th>4</th>\n",
              "      <td>{'index': 4, 'season no.': 1, 'episode no.': 1...</td>\n",
              "    </tr>\n",
              "  </tbody>\n",
              "</table>\n",
              "</div>\n",
              "    <div class=\"colab-df-buttons\">\n",
              "\n",
              "  <div class=\"colab-df-container\">\n",
              "    <button class=\"colab-df-convert\" onclick=\"convertToInteractive('df-5d494e40-ba5d-4542-829c-9b7bcb81e083')\"\n",
              "            title=\"Convert this dataframe to an interactive table.\"\n",
              "            style=\"display:none;\">\n",
              "\n",
              "  <svg xmlns=\"http://www.w3.org/2000/svg\" height=\"24px\" viewBox=\"0 -960 960 960\">\n",
              "    <path d=\"M120-120v-720h720v720H120Zm60-500h600v-160H180v160Zm220 220h160v-160H400v160Zm0 220h160v-160H400v160ZM180-400h160v-160H180v160Zm440 0h160v-160H620v160ZM180-180h160v-160H180v160Zm440 0h160v-160H620v160Z\"/>\n",
              "  </svg>\n",
              "    </button>\n",
              "\n",
              "  <style>\n",
              "    .colab-df-container {\n",
              "      display:flex;\n",
              "      gap: 12px;\n",
              "    }\n",
              "\n",
              "    .colab-df-convert {\n",
              "      background-color: #E8F0FE;\n",
              "      border: none;\n",
              "      border-radius: 50%;\n",
              "      cursor: pointer;\n",
              "      display: none;\n",
              "      fill: #1967D2;\n",
              "      height: 32px;\n",
              "      padding: 0 0 0 0;\n",
              "      width: 32px;\n",
              "    }\n",
              "\n",
              "    .colab-df-convert:hover {\n",
              "      background-color: #E2EBFA;\n",
              "      box-shadow: 0px 1px 2px rgba(60, 64, 67, 0.3), 0px 1px 3px 1px rgba(60, 64, 67, 0.15);\n",
              "      fill: #174EA6;\n",
              "    }\n",
              "\n",
              "    .colab-df-buttons div {\n",
              "      margin-bottom: 4px;\n",
              "    }\n",
              "\n",
              "    [theme=dark] .colab-df-convert {\n",
              "      background-color: #3B4455;\n",
              "      fill: #D2E3FC;\n",
              "    }\n",
              "\n",
              "    [theme=dark] .colab-df-convert:hover {\n",
              "      background-color: #434B5C;\n",
              "      box-shadow: 0px 1px 3px 1px rgba(0, 0, 0, 0.15);\n",
              "      filter: drop-shadow(0px 1px 2px rgba(0, 0, 0, 0.3));\n",
              "      fill: #FFFFFF;\n",
              "    }\n",
              "  </style>\n",
              "\n",
              "    <script>\n",
              "      const buttonEl =\n",
              "        document.querySelector('#df-5d494e40-ba5d-4542-829c-9b7bcb81e083 button.colab-df-convert');\n",
              "      buttonEl.style.display =\n",
              "        google.colab.kernel.accessAllowed ? 'block' : 'none';\n",
              "\n",
              "      async function convertToInteractive(key) {\n",
              "        const element = document.querySelector('#df-5d494e40-ba5d-4542-829c-9b7bcb81e083');\n",
              "        const dataTable =\n",
              "          await google.colab.kernel.invokeFunction('convertToInteractive',\n",
              "                                                    [key], {});\n",
              "        if (!dataTable) return;\n",
              "\n",
              "        const docLinkHtml = 'Like what you see? Visit the ' +\n",
              "          '<a target=\"_blank\" href=https://colab.research.google.com/notebooks/data_table.ipynb>data table notebook</a>'\n",
              "          + ' to learn more about interactive tables.';\n",
              "        element.innerHTML = '';\n",
              "        dataTable['output_type'] = 'display_data';\n",
              "        await google.colab.output.renderOutput(dataTable, element);\n",
              "        const docLink = document.createElement('div');\n",
              "        docLink.innerHTML = docLinkHtml;\n",
              "        element.appendChild(docLink);\n",
              "      }\n",
              "    </script>\n",
              "  </div>\n",
              "\n",
              "\n",
              "<div id=\"df-680e3831-b21d-4fcc-aa3f-1d0d8232e20e\">\n",
              "  <button class=\"colab-df-quickchart\" onclick=\"quickchart('df-680e3831-b21d-4fcc-aa3f-1d0d8232e20e')\"\n",
              "            title=\"Suggest charts\"\n",
              "            style=\"display:none;\">\n",
              "\n",
              "<svg xmlns=\"http://www.w3.org/2000/svg\" height=\"24px\"viewBox=\"0 0 24 24\"\n",
              "     width=\"24px\">\n",
              "    <g>\n",
              "        <path d=\"M19 3H5c-1.1 0-2 .9-2 2v14c0 1.1.9 2 2 2h14c1.1 0 2-.9 2-2V5c0-1.1-.9-2-2-2zM9 17H7v-7h2v7zm4 0h-2V7h2v10zm4 0h-2v-4h2v4z\"/>\n",
              "    </g>\n",
              "</svg>\n",
              "  </button>\n",
              "\n",
              "<style>\n",
              "  .colab-df-quickchart {\n",
              "      --bg-color: #E8F0FE;\n",
              "      --fill-color: #1967D2;\n",
              "      --hover-bg-color: #E2EBFA;\n",
              "      --hover-fill-color: #174EA6;\n",
              "      --disabled-fill-color: #AAA;\n",
              "      --disabled-bg-color: #DDD;\n",
              "  }\n",
              "\n",
              "  [theme=dark] .colab-df-quickchart {\n",
              "      --bg-color: #3B4455;\n",
              "      --fill-color: #D2E3FC;\n",
              "      --hover-bg-color: #434B5C;\n",
              "      --hover-fill-color: #FFFFFF;\n",
              "      --disabled-bg-color: #3B4455;\n",
              "      --disabled-fill-color: #666;\n",
              "  }\n",
              "\n",
              "  .colab-df-quickchart {\n",
              "    background-color: var(--bg-color);\n",
              "    border: none;\n",
              "    border-radius: 50%;\n",
              "    cursor: pointer;\n",
              "    display: none;\n",
              "    fill: var(--fill-color);\n",
              "    height: 32px;\n",
              "    padding: 0;\n",
              "    width: 32px;\n",
              "  }\n",
              "\n",
              "  .colab-df-quickchart:hover {\n",
              "    background-color: var(--hover-bg-color);\n",
              "    box-shadow: 0 1px 2px rgba(60, 64, 67, 0.3), 0 1px 3px 1px rgba(60, 64, 67, 0.15);\n",
              "    fill: var(--button-hover-fill-color);\n",
              "  }\n",
              "\n",
              "  .colab-df-quickchart-complete:disabled,\n",
              "  .colab-df-quickchart-complete:disabled:hover {\n",
              "    background-color: var(--disabled-bg-color);\n",
              "    fill: var(--disabled-fill-color);\n",
              "    box-shadow: none;\n",
              "  }\n",
              "\n",
              "  .colab-df-spinner {\n",
              "    border: 2px solid var(--fill-color);\n",
              "    border-color: transparent;\n",
              "    border-bottom-color: var(--fill-color);\n",
              "    animation:\n",
              "      spin 1s steps(1) infinite;\n",
              "  }\n",
              "\n",
              "  @keyframes spin {\n",
              "    0% {\n",
              "      border-color: transparent;\n",
              "      border-bottom-color: var(--fill-color);\n",
              "      border-left-color: var(--fill-color);\n",
              "    }\n",
              "    20% {\n",
              "      border-color: transparent;\n",
              "      border-left-color: var(--fill-color);\n",
              "      border-top-color: var(--fill-color);\n",
              "    }\n",
              "    30% {\n",
              "      border-color: transparent;\n",
              "      border-left-color: var(--fill-color);\n",
              "      border-top-color: var(--fill-color);\n",
              "      border-right-color: var(--fill-color);\n",
              "    }\n",
              "    40% {\n",
              "      border-color: transparent;\n",
              "      border-right-color: var(--fill-color);\n",
              "      border-top-color: var(--fill-color);\n",
              "    }\n",
              "    60% {\n",
              "      border-color: transparent;\n",
              "      border-right-color: var(--fill-color);\n",
              "    }\n",
              "    80% {\n",
              "      border-color: transparent;\n",
              "      border-right-color: var(--fill-color);\n",
              "      border-bottom-color: var(--fill-color);\n",
              "    }\n",
              "    90% {\n",
              "      border-color: transparent;\n",
              "      border-bottom-color: var(--fill-color);\n",
              "    }\n",
              "  }\n",
              "</style>\n",
              "\n",
              "  <script>\n",
              "    async function quickchart(key) {\n",
              "      const quickchartButtonEl =\n",
              "        document.querySelector('#' + key + ' button');\n",
              "      quickchartButtonEl.disabled = true;  // To prevent multiple clicks.\n",
              "      quickchartButtonEl.classList.add('colab-df-spinner');\n",
              "      try {\n",
              "        const charts = await google.colab.kernel.invokeFunction(\n",
              "            'suggestCharts', [key], {});\n",
              "      } catch (error) {\n",
              "        console.error('Error during call to suggestCharts:', error);\n",
              "      }\n",
              "      quickchartButtonEl.classList.remove('colab-df-spinner');\n",
              "      quickchartButtonEl.classList.add('colab-df-quickchart-complete');\n",
              "    }\n",
              "    (() => {\n",
              "      let quickchartButtonEl =\n",
              "        document.querySelector('#df-680e3831-b21d-4fcc-aa3f-1d0d8232e20e button');\n",
              "      quickchartButtonEl.style.display =\n",
              "        google.colab.kernel.accessAllowed ? 'block' : 'none';\n",
              "    })();\n",
              "  </script>\n",
              "</div>\n",
              "\n",
              "    </div>\n",
              "  </div>\n"
            ],
            "application/vnd.google.colaboratory.intrinsic+json": {
              "type": "dataframe",
              "variable_name": "df",
              "repr_error": "unhashable type: 'dict'"
            }
          },
          "metadata": {},
          "execution_count": 5
        }
      ]
    },
    {
      "cell_type": "markdown",
      "source": [
        "## Data Transformations\n",
        "\n",
        "Create a function that transforms our data so that prompts are represented by a single characters line, while completions are the next characters line. We also add a `prompt_character` and `completion_character` field to easily extract who is saying what.\n"
      ],
      "metadata": {
        "id": "MxhiSAPmmnDp"
      }
    },
    {
      "cell_type": "code",
      "source": [
        "import pandas as pd\n",
        "from datasets import load_dataset\n",
        "\n",
        "# Load the dataset\n",
        "dataset = load_dataset(\"ysharma/rickandmorty\", split='train')\n",
        "\n",
        "# Convert the dataset to a pandas DataFrame\n",
        "df = pd.DataFrame(dataset)\n",
        "\n",
        "def transform_dataset(df):\n",
        "  # Initialize columns for 'prompt', 'completion', 'prompt_character', and 'completion_character'\n",
        "  df['prompt'] = None\n",
        "  df['completion'] = None\n",
        "  df['prompt_character'] = None\n",
        "  df['completion_character'] = None\n",
        "\n",
        "  # Iterate through the DataFrame to fill the new columns\n",
        "  for i in range(len(df) - 1):  # Exclude the last row to avoid index out of bounds\n",
        "      # Fill in the prompt and completion text\n",
        "      df.at[i, 'prompt'] = f\"{df.at[i, 'line']}'\"\n",
        "      df.at[i, 'completion'] = f\"{df.at[i + 1, 'line']}'\"\n",
        "\n",
        "      # Fill in the prompt and completion character names\n",
        "      df.at[i, 'prompt_character'] = df.at[i, 'name']\n",
        "      df.at[i, 'completion_character'] = df.at[i + 1, 'name']\n",
        "\n",
        "  # Drop the last row as it does not have a following line for completion\n",
        "  df = df[:-1]\n",
        "\n",
        "  # Display the first few rows to check the new structure\n",
        "  return df[['prompt', 'completion', 'prompt_character', 'completion_character']]\n",
        "\n",
        "df = transform_dataset(df)\n",
        "df.head()"
      ],
      "metadata": {
        "colab": {
          "base_uri": "https://localhost:8080/",
          "height": 241
        },
        "id": "KdX59F7-mpb2",
        "outputId": "8ead5e00-bbb7-4bce-ddbd-a14bd7f34574"
      },
      "execution_count": 6,
      "outputs": [
        {
          "output_type": "stream",
          "name": "stderr",
          "text": [
            "/usr/local/lib/python3.10/dist-packages/huggingface_hub/repocard.py:105: UserWarning: Repo card metadata block was not found. Setting CardData to empty.\n",
            "  warnings.warn(\"Repo card metadata block was not found. Setting CardData to empty.\")\n"
          ]
        },
        {
          "output_type": "execute_result",
          "data": {
            "text/plain": [
              "                                              prompt  \\\n",
              "0  Morty! You gotta come on. Jus'... you gotta co...   \n",
              "1                      What, Rick? What’s going on?'   \n",
              "2                  I got a surprise for you, Morty.'   \n",
              "3  It's the middle of the night. What are you tal...   \n",
              "4  Come on, I got a surprise for you.  Come on, h...   \n",
              "\n",
              "                                          completion prompt_character  \\\n",
              "0                      What, Rick? What’s going on?'             Rick   \n",
              "1                  I got a surprise for you, Morty.'            Morty   \n",
              "2  It's the middle of the night. What are you tal...             Rick   \n",
              "3  Come on, I got a surprise for you.  Come on, h...            Morty   \n",
              "4               Ow! Ow! You're tugging me too hard!'             Rick   \n",
              "\n",
              "  completion_character  \n",
              "0                Morty  \n",
              "1                 Rick  \n",
              "2                Morty  \n",
              "3                 Rick  \n",
              "4                Morty  "
            ],
            "text/html": [
              "\n",
              "  <div id=\"df-6818d6f1-c8b4-4a90-a82e-de3b64cae787\" class=\"colab-df-container\">\n",
              "    <div>\n",
              "<style scoped>\n",
              "    .dataframe tbody tr th:only-of-type {\n",
              "        vertical-align: middle;\n",
              "    }\n",
              "\n",
              "    .dataframe tbody tr th {\n",
              "        vertical-align: top;\n",
              "    }\n",
              "\n",
              "    .dataframe thead th {\n",
              "        text-align: right;\n",
              "    }\n",
              "</style>\n",
              "<table border=\"1\" class=\"dataframe\">\n",
              "  <thead>\n",
              "    <tr style=\"text-align: right;\">\n",
              "      <th></th>\n",
              "      <th>prompt</th>\n",
              "      <th>completion</th>\n",
              "      <th>prompt_character</th>\n",
              "      <th>completion_character</th>\n",
              "    </tr>\n",
              "  </thead>\n",
              "  <tbody>\n",
              "    <tr>\n",
              "      <th>0</th>\n",
              "      <td>Morty! You gotta come on. Jus'... you gotta co...</td>\n",
              "      <td>What, Rick? What’s going on?'</td>\n",
              "      <td>Rick</td>\n",
              "      <td>Morty</td>\n",
              "    </tr>\n",
              "    <tr>\n",
              "      <th>1</th>\n",
              "      <td>What, Rick? What’s going on?'</td>\n",
              "      <td>I got a surprise for you, Morty.'</td>\n",
              "      <td>Morty</td>\n",
              "      <td>Rick</td>\n",
              "    </tr>\n",
              "    <tr>\n",
              "      <th>2</th>\n",
              "      <td>I got a surprise for you, Morty.'</td>\n",
              "      <td>It's the middle of the night. What are you tal...</td>\n",
              "      <td>Rick</td>\n",
              "      <td>Morty</td>\n",
              "    </tr>\n",
              "    <tr>\n",
              "      <th>3</th>\n",
              "      <td>It's the middle of the night. What are you tal...</td>\n",
              "      <td>Come on, I got a surprise for you.  Come on, h...</td>\n",
              "      <td>Morty</td>\n",
              "      <td>Rick</td>\n",
              "    </tr>\n",
              "    <tr>\n",
              "      <th>4</th>\n",
              "      <td>Come on, I got a surprise for you.  Come on, h...</td>\n",
              "      <td>Ow! Ow! You're tugging me too hard!'</td>\n",
              "      <td>Rick</td>\n",
              "      <td>Morty</td>\n",
              "    </tr>\n",
              "  </tbody>\n",
              "</table>\n",
              "</div>\n",
              "    <div class=\"colab-df-buttons\">\n",
              "\n",
              "  <div class=\"colab-df-container\">\n",
              "    <button class=\"colab-df-convert\" onclick=\"convertToInteractive('df-6818d6f1-c8b4-4a90-a82e-de3b64cae787')\"\n",
              "            title=\"Convert this dataframe to an interactive table.\"\n",
              "            style=\"display:none;\">\n",
              "\n",
              "  <svg xmlns=\"http://www.w3.org/2000/svg\" height=\"24px\" viewBox=\"0 -960 960 960\">\n",
              "    <path d=\"M120-120v-720h720v720H120Zm60-500h600v-160H180v160Zm220 220h160v-160H400v160Zm0 220h160v-160H400v160ZM180-400h160v-160H180v160Zm440 0h160v-160H620v160ZM180-180h160v-160H180v160Zm440 0h160v-160H620v160Z\"/>\n",
              "  </svg>\n",
              "    </button>\n",
              "\n",
              "  <style>\n",
              "    .colab-df-container {\n",
              "      display:flex;\n",
              "      gap: 12px;\n",
              "    }\n",
              "\n",
              "    .colab-df-convert {\n",
              "      background-color: #E8F0FE;\n",
              "      border: none;\n",
              "      border-radius: 50%;\n",
              "      cursor: pointer;\n",
              "      display: none;\n",
              "      fill: #1967D2;\n",
              "      height: 32px;\n",
              "      padding: 0 0 0 0;\n",
              "      width: 32px;\n",
              "    }\n",
              "\n",
              "    .colab-df-convert:hover {\n",
              "      background-color: #E2EBFA;\n",
              "      box-shadow: 0px 1px 2px rgba(60, 64, 67, 0.3), 0px 1px 3px 1px rgba(60, 64, 67, 0.15);\n",
              "      fill: #174EA6;\n",
              "    }\n",
              "\n",
              "    .colab-df-buttons div {\n",
              "      margin-bottom: 4px;\n",
              "    }\n",
              "\n",
              "    [theme=dark] .colab-df-convert {\n",
              "      background-color: #3B4455;\n",
              "      fill: #D2E3FC;\n",
              "    }\n",
              "\n",
              "    [theme=dark] .colab-df-convert:hover {\n",
              "      background-color: #434B5C;\n",
              "      box-shadow: 0px 1px 3px 1px rgba(0, 0, 0, 0.15);\n",
              "      filter: drop-shadow(0px 1px 2px rgba(0, 0, 0, 0.3));\n",
              "      fill: #FFFFFF;\n",
              "    }\n",
              "  </style>\n",
              "\n",
              "    <script>\n",
              "      const buttonEl =\n",
              "        document.querySelector('#df-6818d6f1-c8b4-4a90-a82e-de3b64cae787 button.colab-df-convert');\n",
              "      buttonEl.style.display =\n",
              "        google.colab.kernel.accessAllowed ? 'block' : 'none';\n",
              "\n",
              "      async function convertToInteractive(key) {\n",
              "        const element = document.querySelector('#df-6818d6f1-c8b4-4a90-a82e-de3b64cae787');\n",
              "        const dataTable =\n",
              "          await google.colab.kernel.invokeFunction('convertToInteractive',\n",
              "                                                    [key], {});\n",
              "        if (!dataTable) return;\n",
              "\n",
              "        const docLinkHtml = 'Like what you see? Visit the ' +\n",
              "          '<a target=\"_blank\" href=https://colab.research.google.com/notebooks/data_table.ipynb>data table notebook</a>'\n",
              "          + ' to learn more about interactive tables.';\n",
              "        element.innerHTML = '';\n",
              "        dataTable['output_type'] = 'display_data';\n",
              "        await google.colab.output.renderOutput(dataTable, element);\n",
              "        const docLink = document.createElement('div');\n",
              "        docLink.innerHTML = docLinkHtml;\n",
              "        element.appendChild(docLink);\n",
              "      }\n",
              "    </script>\n",
              "  </div>\n",
              "\n",
              "\n",
              "<div id=\"df-4574e738-fc86-4c35-b74a-77ec2deae939\">\n",
              "  <button class=\"colab-df-quickchart\" onclick=\"quickchart('df-4574e738-fc86-4c35-b74a-77ec2deae939')\"\n",
              "            title=\"Suggest charts\"\n",
              "            style=\"display:none;\">\n",
              "\n",
              "<svg xmlns=\"http://www.w3.org/2000/svg\" height=\"24px\"viewBox=\"0 0 24 24\"\n",
              "     width=\"24px\">\n",
              "    <g>\n",
              "        <path d=\"M19 3H5c-1.1 0-2 .9-2 2v14c0 1.1.9 2 2 2h14c1.1 0 2-.9 2-2V5c0-1.1-.9-2-2-2zM9 17H7v-7h2v7zm4 0h-2V7h2v10zm4 0h-2v-4h2v4z\"/>\n",
              "    </g>\n",
              "</svg>\n",
              "  </button>\n",
              "\n",
              "<style>\n",
              "  .colab-df-quickchart {\n",
              "      --bg-color: #E8F0FE;\n",
              "      --fill-color: #1967D2;\n",
              "      --hover-bg-color: #E2EBFA;\n",
              "      --hover-fill-color: #174EA6;\n",
              "      --disabled-fill-color: #AAA;\n",
              "      --disabled-bg-color: #DDD;\n",
              "  }\n",
              "\n",
              "  [theme=dark] .colab-df-quickchart {\n",
              "      --bg-color: #3B4455;\n",
              "      --fill-color: #D2E3FC;\n",
              "      --hover-bg-color: #434B5C;\n",
              "      --hover-fill-color: #FFFFFF;\n",
              "      --disabled-bg-color: #3B4455;\n",
              "      --disabled-fill-color: #666;\n",
              "  }\n",
              "\n",
              "  .colab-df-quickchart {\n",
              "    background-color: var(--bg-color);\n",
              "    border: none;\n",
              "    border-radius: 50%;\n",
              "    cursor: pointer;\n",
              "    display: none;\n",
              "    fill: var(--fill-color);\n",
              "    height: 32px;\n",
              "    padding: 0;\n",
              "    width: 32px;\n",
              "  }\n",
              "\n",
              "  .colab-df-quickchart:hover {\n",
              "    background-color: var(--hover-bg-color);\n",
              "    box-shadow: 0 1px 2px rgba(60, 64, 67, 0.3), 0 1px 3px 1px rgba(60, 64, 67, 0.15);\n",
              "    fill: var(--button-hover-fill-color);\n",
              "  }\n",
              "\n",
              "  .colab-df-quickchart-complete:disabled,\n",
              "  .colab-df-quickchart-complete:disabled:hover {\n",
              "    background-color: var(--disabled-bg-color);\n",
              "    fill: var(--disabled-fill-color);\n",
              "    box-shadow: none;\n",
              "  }\n",
              "\n",
              "  .colab-df-spinner {\n",
              "    border: 2px solid var(--fill-color);\n",
              "    border-color: transparent;\n",
              "    border-bottom-color: var(--fill-color);\n",
              "    animation:\n",
              "      spin 1s steps(1) infinite;\n",
              "  }\n",
              "\n",
              "  @keyframes spin {\n",
              "    0% {\n",
              "      border-color: transparent;\n",
              "      border-bottom-color: var(--fill-color);\n",
              "      border-left-color: var(--fill-color);\n",
              "    }\n",
              "    20% {\n",
              "      border-color: transparent;\n",
              "      border-left-color: var(--fill-color);\n",
              "      border-top-color: var(--fill-color);\n",
              "    }\n",
              "    30% {\n",
              "      border-color: transparent;\n",
              "      border-left-color: var(--fill-color);\n",
              "      border-top-color: var(--fill-color);\n",
              "      border-right-color: var(--fill-color);\n",
              "    }\n",
              "    40% {\n",
              "      border-color: transparent;\n",
              "      border-right-color: var(--fill-color);\n",
              "      border-top-color: var(--fill-color);\n",
              "    }\n",
              "    60% {\n",
              "      border-color: transparent;\n",
              "      border-right-color: var(--fill-color);\n",
              "    }\n",
              "    80% {\n",
              "      border-color: transparent;\n",
              "      border-right-color: var(--fill-color);\n",
              "      border-bottom-color: var(--fill-color);\n",
              "    }\n",
              "    90% {\n",
              "      border-color: transparent;\n",
              "      border-bottom-color: var(--fill-color);\n",
              "    }\n",
              "  }\n",
              "</style>\n",
              "\n",
              "  <script>\n",
              "    async function quickchart(key) {\n",
              "      const quickchartButtonEl =\n",
              "        document.querySelector('#' + key + ' button');\n",
              "      quickchartButtonEl.disabled = true;  // To prevent multiple clicks.\n",
              "      quickchartButtonEl.classList.add('colab-df-spinner');\n",
              "      try {\n",
              "        const charts = await google.colab.kernel.invokeFunction(\n",
              "            'suggestCharts', [key], {});\n",
              "      } catch (error) {\n",
              "        console.error('Error during call to suggestCharts:', error);\n",
              "      }\n",
              "      quickchartButtonEl.classList.remove('colab-df-spinner');\n",
              "      quickchartButtonEl.classList.add('colab-df-quickchart-complete');\n",
              "    }\n",
              "    (() => {\n",
              "      let quickchartButtonEl =\n",
              "        document.querySelector('#df-4574e738-fc86-4c35-b74a-77ec2deae939 button');\n",
              "      quickchartButtonEl.style.display =\n",
              "        google.colab.kernel.accessAllowed ? 'block' : 'none';\n",
              "    })();\n",
              "  </script>\n",
              "</div>\n",
              "\n",
              "    </div>\n",
              "  </div>\n"
            ],
            "application/vnd.google.colaboratory.intrinsic+json": {
              "type": "dataframe",
              "variable_name": "df",
              "summary": "{\n  \"name\": \"df\",\n  \"rows\": 1904,\n  \"fields\": [\n    {\n      \"column\": \"prompt\",\n      \"properties\": {\n        \"dtype\": \"string\",\n        \"samples\": [\n          \"Yeah, and once those seeds wear off, you're gonna lose most of your motor skills, and you're also gonna lose a significant amount of brain functionality for 72 hours, Morty.'\",\n          \"You know, that's a real comforting idea, Rick.'\",\n          \"Not until I finish what I started. And that is how you get level-nine access without a password.'\"\n        ],\n        \"num_unique_values\": 1859,\n        \"semantic_type\": \"\",\n        \"description\": \"\"\n      }\n    },\n    {\n      \"column\": \"completion\",\n      \"properties\": {\n        \"dtype\": \"string\",\n        \"samples\": [\n          \"Ohh, man.  Oh, geez! Ohh.'\",\n          \"What do you know, Morty? What do you know?'\",\n          \"Employee of the month, ladies and gentlemen.'\"\n        ],\n        \"num_unique_values\": 1859,\n        \"semantic_type\": \"\",\n        \"description\": \"\"\n      }\n    },\n    {\n      \"column\": \"prompt_character\",\n      \"properties\": {\n        \"dtype\": \"category\",\n        \"samples\": [\n          \"Cornvelious Daniel\",\n          \"Candidate Morty\",\n          \"Alien Doctor\"\n        ],\n        \"num_unique_values\": 48,\n        \"semantic_type\": \"\",\n        \"description\": \"\"\n      }\n    },\n    {\n      \"column\": \"completion_character\",\n      \"properties\": {\n        \"dtype\": \"category\",\n        \"samples\": [\n          \"Cornvelious Daniel\",\n          \"Candidate Morty\",\n          \"Alien Doctor\"\n        ],\n        \"num_unique_values\": 48,\n        \"semantic_type\": \"\",\n        \"description\": \"\"\n      }\n    }\n  ]\n}"
            }
          },
          "metadata": {},
          "execution_count": 6
        }
      ]
    },
    {
      "cell_type": "markdown",
      "source": [
        "Here we create a function that can split the dataset by character. The dataset contains many characters from Rick and Morty, including Rick, Morty, Summer, Jerry,.. among others. We will focus on just Rick & Morty characters.\n",
        "\n"
      ],
      "metadata": {
        "id": "TaOIfuBY-rxm"
      }
    },
    {
      "cell_type": "code",
      "source": [
        "def split_by_character(df, character):\n",
        "    \"\"\"\n",
        "    Split the dataset by the specified character\n",
        "    \"\"\"\n",
        "    # Filter the dataset to only include rows where the character name matches the specified character\n",
        "    df = df[df['completion_character'] == character]\n",
        "    return df\n",
        "\n",
        "# Split the dataset by the character 'Morty'\n",
        "morty_df = split_by_character(df, 'Morty')\n",
        "\n",
        "# Split the dataset by the character 'John'\n",
        "rick_df = split_by_character(df, 'Rick')"
      ],
      "metadata": {
        "id": "UCQ9Ua2K-wrd"
      },
      "execution_count": 7,
      "outputs": []
    },
    {
      "cell_type": "code",
      "source": [
        "# check the lengths of rick & morty dataset\n",
        "print(len(morty_df))\n",
        "print(len(rick_df))"
      ],
      "metadata": {
        "colab": {
          "base_uri": "https://localhost:8080/"
        },
        "id": "Fua6qsLJQhrk",
        "outputId": "3087a401-f0da-4018-a796-fa996c1fef09"
      },
      "execution_count": 8,
      "outputs": [
        {
          "output_type": "stream",
          "name": "stdout",
          "text": [
            "347\n",
            "419\n"
          ]
        }
      ]
    },
    {
      "cell_type": "code",
      "source": [
        "# create dataset of only rick and morty characters in the prompt_character and completion_character columns\n",
        "df = df[df['prompt_character'].isin(['Rick', 'Morty'])]\n",
        "df = df[df['completion_character'].isin(['Rick', 'Morty'])]\n",
        "\n",
        "df.head()"
      ],
      "metadata": {
        "colab": {
          "base_uri": "https://localhost:8080/",
          "height": 206
        },
        "id": "xZjG9FxZQVp9",
        "outputId": "31bfae40-8ccd-4fff-f920-0944e487ad00"
      },
      "execution_count": 9,
      "outputs": [
        {
          "output_type": "execute_result",
          "data": {
            "text/plain": [
              "                                              prompt  \\\n",
              "0  Morty! You gotta come on. Jus'... you gotta co...   \n",
              "1                      What, Rick? What’s going on?'   \n",
              "2                  I got a surprise for you, Morty.'   \n",
              "3  It's the middle of the night. What are you tal...   \n",
              "4  Come on, I got a surprise for you.  Come on, h...   \n",
              "\n",
              "                                          completion prompt_character  \\\n",
              "0                      What, Rick? What’s going on?'             Rick   \n",
              "1                  I got a surprise for you, Morty.'            Morty   \n",
              "2  It's the middle of the night. What are you tal...             Rick   \n",
              "3  Come on, I got a surprise for you.  Come on, h...            Morty   \n",
              "4               Ow! Ow! You're tugging me too hard!'             Rick   \n",
              "\n",
              "  completion_character  \n",
              "0                Morty  \n",
              "1                 Rick  \n",
              "2                Morty  \n",
              "3                 Rick  \n",
              "4                Morty  "
            ],
            "text/html": [
              "\n",
              "  <div id=\"df-8c8ced3b-2c84-4f02-8ddd-97d4b8e18aa1\" class=\"colab-df-container\">\n",
              "    <div>\n",
              "<style scoped>\n",
              "    .dataframe tbody tr th:only-of-type {\n",
              "        vertical-align: middle;\n",
              "    }\n",
              "\n",
              "    .dataframe tbody tr th {\n",
              "        vertical-align: top;\n",
              "    }\n",
              "\n",
              "    .dataframe thead th {\n",
              "        text-align: right;\n",
              "    }\n",
              "</style>\n",
              "<table border=\"1\" class=\"dataframe\">\n",
              "  <thead>\n",
              "    <tr style=\"text-align: right;\">\n",
              "      <th></th>\n",
              "      <th>prompt</th>\n",
              "      <th>completion</th>\n",
              "      <th>prompt_character</th>\n",
              "      <th>completion_character</th>\n",
              "    </tr>\n",
              "  </thead>\n",
              "  <tbody>\n",
              "    <tr>\n",
              "      <th>0</th>\n",
              "      <td>Morty! You gotta come on. Jus'... you gotta co...</td>\n",
              "      <td>What, Rick? What’s going on?'</td>\n",
              "      <td>Rick</td>\n",
              "      <td>Morty</td>\n",
              "    </tr>\n",
              "    <tr>\n",
              "      <th>1</th>\n",
              "      <td>What, Rick? What’s going on?'</td>\n",
              "      <td>I got a surprise for you, Morty.'</td>\n",
              "      <td>Morty</td>\n",
              "      <td>Rick</td>\n",
              "    </tr>\n",
              "    <tr>\n",
              "      <th>2</th>\n",
              "      <td>I got a surprise for you, Morty.'</td>\n",
              "      <td>It's the middle of the night. What are you tal...</td>\n",
              "      <td>Rick</td>\n",
              "      <td>Morty</td>\n",
              "    </tr>\n",
              "    <tr>\n",
              "      <th>3</th>\n",
              "      <td>It's the middle of the night. What are you tal...</td>\n",
              "      <td>Come on, I got a surprise for you.  Come on, h...</td>\n",
              "      <td>Morty</td>\n",
              "      <td>Rick</td>\n",
              "    </tr>\n",
              "    <tr>\n",
              "      <th>4</th>\n",
              "      <td>Come on, I got a surprise for you.  Come on, h...</td>\n",
              "      <td>Ow! Ow! You're tugging me too hard!'</td>\n",
              "      <td>Rick</td>\n",
              "      <td>Morty</td>\n",
              "    </tr>\n",
              "  </tbody>\n",
              "</table>\n",
              "</div>\n",
              "    <div class=\"colab-df-buttons\">\n",
              "\n",
              "  <div class=\"colab-df-container\">\n",
              "    <button class=\"colab-df-convert\" onclick=\"convertToInteractive('df-8c8ced3b-2c84-4f02-8ddd-97d4b8e18aa1')\"\n",
              "            title=\"Convert this dataframe to an interactive table.\"\n",
              "            style=\"display:none;\">\n",
              "\n",
              "  <svg xmlns=\"http://www.w3.org/2000/svg\" height=\"24px\" viewBox=\"0 -960 960 960\">\n",
              "    <path d=\"M120-120v-720h720v720H120Zm60-500h600v-160H180v160Zm220 220h160v-160H400v160Zm0 220h160v-160H400v160ZM180-400h160v-160H180v160Zm440 0h160v-160H620v160ZM180-180h160v-160H180v160Zm440 0h160v-160H620v160Z\"/>\n",
              "  </svg>\n",
              "    </button>\n",
              "\n",
              "  <style>\n",
              "    .colab-df-container {\n",
              "      display:flex;\n",
              "      gap: 12px;\n",
              "    }\n",
              "\n",
              "    .colab-df-convert {\n",
              "      background-color: #E8F0FE;\n",
              "      border: none;\n",
              "      border-radius: 50%;\n",
              "      cursor: pointer;\n",
              "      display: none;\n",
              "      fill: #1967D2;\n",
              "      height: 32px;\n",
              "      padding: 0 0 0 0;\n",
              "      width: 32px;\n",
              "    }\n",
              "\n",
              "    .colab-df-convert:hover {\n",
              "      background-color: #E2EBFA;\n",
              "      box-shadow: 0px 1px 2px rgba(60, 64, 67, 0.3), 0px 1px 3px 1px rgba(60, 64, 67, 0.15);\n",
              "      fill: #174EA6;\n",
              "    }\n",
              "\n",
              "    .colab-df-buttons div {\n",
              "      margin-bottom: 4px;\n",
              "    }\n",
              "\n",
              "    [theme=dark] .colab-df-convert {\n",
              "      background-color: #3B4455;\n",
              "      fill: #D2E3FC;\n",
              "    }\n",
              "\n",
              "    [theme=dark] .colab-df-convert:hover {\n",
              "      background-color: #434B5C;\n",
              "      box-shadow: 0px 1px 3px 1px rgba(0, 0, 0, 0.15);\n",
              "      filter: drop-shadow(0px 1px 2px rgba(0, 0, 0, 0.3));\n",
              "      fill: #FFFFFF;\n",
              "    }\n",
              "  </style>\n",
              "\n",
              "    <script>\n",
              "      const buttonEl =\n",
              "        document.querySelector('#df-8c8ced3b-2c84-4f02-8ddd-97d4b8e18aa1 button.colab-df-convert');\n",
              "      buttonEl.style.display =\n",
              "        google.colab.kernel.accessAllowed ? 'block' : 'none';\n",
              "\n",
              "      async function convertToInteractive(key) {\n",
              "        const element = document.querySelector('#df-8c8ced3b-2c84-4f02-8ddd-97d4b8e18aa1');\n",
              "        const dataTable =\n",
              "          await google.colab.kernel.invokeFunction('convertToInteractive',\n",
              "                                                    [key], {});\n",
              "        if (!dataTable) return;\n",
              "\n",
              "        const docLinkHtml = 'Like what you see? Visit the ' +\n",
              "          '<a target=\"_blank\" href=https://colab.research.google.com/notebooks/data_table.ipynb>data table notebook</a>'\n",
              "          + ' to learn more about interactive tables.';\n",
              "        element.innerHTML = '';\n",
              "        dataTable['output_type'] = 'display_data';\n",
              "        await google.colab.output.renderOutput(dataTable, element);\n",
              "        const docLink = document.createElement('div');\n",
              "        docLink.innerHTML = docLinkHtml;\n",
              "        element.appendChild(docLink);\n",
              "      }\n",
              "    </script>\n",
              "  </div>\n",
              "\n",
              "\n",
              "<div id=\"df-3a9ee6ce-8163-46a6-9f85-03d4e426a36f\">\n",
              "  <button class=\"colab-df-quickchart\" onclick=\"quickchart('df-3a9ee6ce-8163-46a6-9f85-03d4e426a36f')\"\n",
              "            title=\"Suggest charts\"\n",
              "            style=\"display:none;\">\n",
              "\n",
              "<svg xmlns=\"http://www.w3.org/2000/svg\" height=\"24px\"viewBox=\"0 0 24 24\"\n",
              "     width=\"24px\">\n",
              "    <g>\n",
              "        <path d=\"M19 3H5c-1.1 0-2 .9-2 2v14c0 1.1.9 2 2 2h14c1.1 0 2-.9 2-2V5c0-1.1-.9-2-2-2zM9 17H7v-7h2v7zm4 0h-2V7h2v10zm4 0h-2v-4h2v4z\"/>\n",
              "    </g>\n",
              "</svg>\n",
              "  </button>\n",
              "\n",
              "<style>\n",
              "  .colab-df-quickchart {\n",
              "      --bg-color: #E8F0FE;\n",
              "      --fill-color: #1967D2;\n",
              "      --hover-bg-color: #E2EBFA;\n",
              "      --hover-fill-color: #174EA6;\n",
              "      --disabled-fill-color: #AAA;\n",
              "      --disabled-bg-color: #DDD;\n",
              "  }\n",
              "\n",
              "  [theme=dark] .colab-df-quickchart {\n",
              "      --bg-color: #3B4455;\n",
              "      --fill-color: #D2E3FC;\n",
              "      --hover-bg-color: #434B5C;\n",
              "      --hover-fill-color: #FFFFFF;\n",
              "      --disabled-bg-color: #3B4455;\n",
              "      --disabled-fill-color: #666;\n",
              "  }\n",
              "\n",
              "  .colab-df-quickchart {\n",
              "    background-color: var(--bg-color);\n",
              "    border: none;\n",
              "    border-radius: 50%;\n",
              "    cursor: pointer;\n",
              "    display: none;\n",
              "    fill: var(--fill-color);\n",
              "    height: 32px;\n",
              "    padding: 0;\n",
              "    width: 32px;\n",
              "  }\n",
              "\n",
              "  .colab-df-quickchart:hover {\n",
              "    background-color: var(--hover-bg-color);\n",
              "    box-shadow: 0 1px 2px rgba(60, 64, 67, 0.3), 0 1px 3px 1px rgba(60, 64, 67, 0.15);\n",
              "    fill: var(--button-hover-fill-color);\n",
              "  }\n",
              "\n",
              "  .colab-df-quickchart-complete:disabled,\n",
              "  .colab-df-quickchart-complete:disabled:hover {\n",
              "    background-color: var(--disabled-bg-color);\n",
              "    fill: var(--disabled-fill-color);\n",
              "    box-shadow: none;\n",
              "  }\n",
              "\n",
              "  .colab-df-spinner {\n",
              "    border: 2px solid var(--fill-color);\n",
              "    border-color: transparent;\n",
              "    border-bottom-color: var(--fill-color);\n",
              "    animation:\n",
              "      spin 1s steps(1) infinite;\n",
              "  }\n",
              "\n",
              "  @keyframes spin {\n",
              "    0% {\n",
              "      border-color: transparent;\n",
              "      border-bottom-color: var(--fill-color);\n",
              "      border-left-color: var(--fill-color);\n",
              "    }\n",
              "    20% {\n",
              "      border-color: transparent;\n",
              "      border-left-color: var(--fill-color);\n",
              "      border-top-color: var(--fill-color);\n",
              "    }\n",
              "    30% {\n",
              "      border-color: transparent;\n",
              "      border-left-color: var(--fill-color);\n",
              "      border-top-color: var(--fill-color);\n",
              "      border-right-color: var(--fill-color);\n",
              "    }\n",
              "    40% {\n",
              "      border-color: transparent;\n",
              "      border-right-color: var(--fill-color);\n",
              "      border-top-color: var(--fill-color);\n",
              "    }\n",
              "    60% {\n",
              "      border-color: transparent;\n",
              "      border-right-color: var(--fill-color);\n",
              "    }\n",
              "    80% {\n",
              "      border-color: transparent;\n",
              "      border-right-color: var(--fill-color);\n",
              "      border-bottom-color: var(--fill-color);\n",
              "    }\n",
              "    90% {\n",
              "      border-color: transparent;\n",
              "      border-bottom-color: var(--fill-color);\n",
              "    }\n",
              "  }\n",
              "</style>\n",
              "\n",
              "  <script>\n",
              "    async function quickchart(key) {\n",
              "      const quickchartButtonEl =\n",
              "        document.querySelector('#' + key + ' button');\n",
              "      quickchartButtonEl.disabled = true;  // To prevent multiple clicks.\n",
              "      quickchartButtonEl.classList.add('colab-df-spinner');\n",
              "      try {\n",
              "        const charts = await google.colab.kernel.invokeFunction(\n",
              "            'suggestCharts', [key], {});\n",
              "      } catch (error) {\n",
              "        console.error('Error during call to suggestCharts:', error);\n",
              "      }\n",
              "      quickchartButtonEl.classList.remove('colab-df-spinner');\n",
              "      quickchartButtonEl.classList.add('colab-df-quickchart-complete');\n",
              "    }\n",
              "    (() => {\n",
              "      let quickchartButtonEl =\n",
              "        document.querySelector('#df-3a9ee6ce-8163-46a6-9f85-03d4e426a36f button');\n",
              "      quickchartButtonEl.style.display =\n",
              "        google.colab.kernel.accessAllowed ? 'block' : 'none';\n",
              "    })();\n",
              "  </script>\n",
              "</div>\n",
              "\n",
              "    </div>\n",
              "  </div>\n"
            ],
            "application/vnd.google.colaboratory.intrinsic+json": {
              "type": "dataframe",
              "variable_name": "df",
              "summary": "{\n  \"name\": \"df\",\n  \"rows\": 450,\n  \"fields\": [\n    {\n      \"column\": \"prompt\",\n      \"properties\": {\n        \"dtype\": \"string\",\n        \"samples\": [\n          \"That\\u2019s it!'\",\n          \"Oh, geez, Rick, that's not good. W-what are we gonna do? I-I have to be back at school right now. How are we gonna get back home?'\",\n          \"That, Morty, is why you don't go to therapy.'\"\n        ],\n        \"num_unique_values\": 440,\n        \"semantic_type\": \"\",\n        \"description\": \"\"\n      }\n    },\n    {\n      \"column\": \"completion\",\n      \"properties\": {\n        \"dtype\": \"string\",\n        \"samples\": [\n          \"Whoa, whoa! Morty! Give me that!'\",\n          \"There's ways to get back home, Morty. It's just it's just gonna be a little bit of a hassle. We're gonna have to go through interdimensional customs, so you're gonna have to do me a real solid.'\",\n          \"Don't let any of those things get away, Morty. If their DNA gets into Earth's food chain, our entire species could be sterilized.'\"\n        ],\n        \"num_unique_values\": 440,\n        \"semantic_type\": \"\",\n        \"description\": \"\"\n      }\n    },\n    {\n      \"column\": \"prompt_character\",\n      \"properties\": {\n        \"dtype\": \"category\",\n        \"samples\": [\n          \"Morty\",\n          \"Rick\"\n        ],\n        \"num_unique_values\": 2,\n        \"semantic_type\": \"\",\n        \"description\": \"\"\n      }\n    },\n    {\n      \"column\": \"completion_character\",\n      \"properties\": {\n        \"dtype\": \"category\",\n        \"samples\": [\n          \"Rick\",\n          \"Morty\"\n        ],\n        \"num_unique_values\": 2,\n        \"semantic_type\": \"\",\n        \"description\": \"\"\n      }\n    }\n  ]\n}"
            }
          },
          "metadata": {},
          "execution_count": 9
        }
      ]
    },
    {
      "cell_type": "code",
      "source": [
        "# check the lengths of the combined dataset\n",
        "print(len(df))"
      ],
      "metadata": {
        "colab": {
          "base_uri": "https://localhost:8080/"
        },
        "id": "v74daMF9QxMD",
        "outputId": "7724f842-d1a8-48d1-9bc0-574bf47860e2"
      },
      "execution_count": 10,
      "outputs": [
        {
          "output_type": "stream",
          "name": "stdout",
          "text": [
            "450\n"
          ]
        }
      ]
    },
    {
      "cell_type": "markdown",
      "source": [
        "## Train, test, split"
      ],
      "metadata": {
        "id": "v5cca4zILMl-"
      }
    },
    {
      "cell_type": "markdown",
      "source": [
        "This dataset doesn't have a test split defined in the hugginface file so we'll create one."
      ],
      "metadata": {
        "id": "7hoJFjraqD5O"
      }
    },
    {
      "cell_type": "code",
      "source": [
        "# train, test, split\n",
        "from sklearn.model_selection import train_test_split\n",
        "\n",
        "# Split the dataset into train and test sets\n",
        "train_df, test_df = train_test_split(df, test_size=0.2, random_state=42)\n",
        "\n",
        "# Display the first few rows of the train and test sets\n",
        "display(train_df.head())\n",
        "display(test_df.head())"
      ],
      "metadata": {
        "colab": {
          "base_uri": "https://localhost:8080/",
          "height": 395
        },
        "id": "IwGrlqHiP3dE",
        "outputId": "bb36a989-0fbc-430f-8130-25a31c77c487"
      },
      "execution_count": 11,
      "outputs": [
        {
          "output_type": "display_data",
          "data": {
            "text/plain": [
              "                                                prompt  \\\n",
              "24        I don't care about Jessica! Y-Yyyyyyyyyyou—'   \n",
              "17                        And Jessica's gonna be Eve.'   \n",
              "135  Yeah, I can see that. But do you think you'll ...   \n",
              "316       Whooooa! Whoooooooa! Whoa! Whooooooooaaaaa!'   \n",
              "815                  Rick, are you really a musician?'   \n",
              "\n",
              "                                            completion prompt_character  \\\n",
              "24   You know what, Morty? You're right.  Let's for...            Morty   \n",
              "17                                         Whhhh-wha?'             Rick   \n",
              "135  Are you kidding me?! That's it, Rick! That's t...             Rick   \n",
              "316      AAAAAAAAAAAAAAAAAAAAAAAAHHHHHHHHHH!!!!!!!!!!'            Morty   \n",
              "815                      Who’s NOT a musician, Morty?'            Morty   \n",
              "\n",
              "    completion_character  \n",
              "24                  Rick  \n",
              "17                 Morty  \n",
              "135                Morty  \n",
              "316                Morty  \n",
              "815                 Rick  "
            ],
            "text/html": [
              "\n",
              "  <div id=\"df-07db6d8f-3689-4dcc-814d-a76240a8706e\" class=\"colab-df-container\">\n",
              "    <div>\n",
              "<style scoped>\n",
              "    .dataframe tbody tr th:only-of-type {\n",
              "        vertical-align: middle;\n",
              "    }\n",
              "\n",
              "    .dataframe tbody tr th {\n",
              "        vertical-align: top;\n",
              "    }\n",
              "\n",
              "    .dataframe thead th {\n",
              "        text-align: right;\n",
              "    }\n",
              "</style>\n",
              "<table border=\"1\" class=\"dataframe\">\n",
              "  <thead>\n",
              "    <tr style=\"text-align: right;\">\n",
              "      <th></th>\n",
              "      <th>prompt</th>\n",
              "      <th>completion</th>\n",
              "      <th>prompt_character</th>\n",
              "      <th>completion_character</th>\n",
              "    </tr>\n",
              "  </thead>\n",
              "  <tbody>\n",
              "    <tr>\n",
              "      <th>24</th>\n",
              "      <td>I don't care about Jessica! Y-Yyyyyyyyyyou—'</td>\n",
              "      <td>You know what, Morty? You're right.  Let's for...</td>\n",
              "      <td>Morty</td>\n",
              "      <td>Rick</td>\n",
              "    </tr>\n",
              "    <tr>\n",
              "      <th>17</th>\n",
              "      <td>And Jessica's gonna be Eve.'</td>\n",
              "      <td>Whhhh-wha?'</td>\n",
              "      <td>Rick</td>\n",
              "      <td>Morty</td>\n",
              "    </tr>\n",
              "    <tr>\n",
              "      <th>135</th>\n",
              "      <td>Yeah, I can see that. But do you think you'll ...</td>\n",
              "      <td>Are you kidding me?! That's it, Rick! That's t...</td>\n",
              "      <td>Rick</td>\n",
              "      <td>Morty</td>\n",
              "    </tr>\n",
              "    <tr>\n",
              "      <th>316</th>\n",
              "      <td>Whooooa! Whoooooooa! Whoa! Whooooooooaaaaa!'</td>\n",
              "      <td>AAAAAAAAAAAAAAAAAAAAAAAAHHHHHHHHHH!!!!!!!!!!'</td>\n",
              "      <td>Morty</td>\n",
              "      <td>Morty</td>\n",
              "    </tr>\n",
              "    <tr>\n",
              "      <th>815</th>\n",
              "      <td>Rick, are you really a musician?'</td>\n",
              "      <td>Who’s NOT a musician, Morty?'</td>\n",
              "      <td>Morty</td>\n",
              "      <td>Rick</td>\n",
              "    </tr>\n",
              "  </tbody>\n",
              "</table>\n",
              "</div>\n",
              "    <div class=\"colab-df-buttons\">\n",
              "\n",
              "  <div class=\"colab-df-container\">\n",
              "    <button class=\"colab-df-convert\" onclick=\"convertToInteractive('df-07db6d8f-3689-4dcc-814d-a76240a8706e')\"\n",
              "            title=\"Convert this dataframe to an interactive table.\"\n",
              "            style=\"display:none;\">\n",
              "\n",
              "  <svg xmlns=\"http://www.w3.org/2000/svg\" height=\"24px\" viewBox=\"0 -960 960 960\">\n",
              "    <path d=\"M120-120v-720h720v720H120Zm60-500h600v-160H180v160Zm220 220h160v-160H400v160Zm0 220h160v-160H400v160ZM180-400h160v-160H180v160Zm440 0h160v-160H620v160ZM180-180h160v-160H180v160Zm440 0h160v-160H620v160Z\"/>\n",
              "  </svg>\n",
              "    </button>\n",
              "\n",
              "  <style>\n",
              "    .colab-df-container {\n",
              "      display:flex;\n",
              "      gap: 12px;\n",
              "    }\n",
              "\n",
              "    .colab-df-convert {\n",
              "      background-color: #E8F0FE;\n",
              "      border: none;\n",
              "      border-radius: 50%;\n",
              "      cursor: pointer;\n",
              "      display: none;\n",
              "      fill: #1967D2;\n",
              "      height: 32px;\n",
              "      padding: 0 0 0 0;\n",
              "      width: 32px;\n",
              "    }\n",
              "\n",
              "    .colab-df-convert:hover {\n",
              "      background-color: #E2EBFA;\n",
              "      box-shadow: 0px 1px 2px rgba(60, 64, 67, 0.3), 0px 1px 3px 1px rgba(60, 64, 67, 0.15);\n",
              "      fill: #174EA6;\n",
              "    }\n",
              "\n",
              "    .colab-df-buttons div {\n",
              "      margin-bottom: 4px;\n",
              "    }\n",
              "\n",
              "    [theme=dark] .colab-df-convert {\n",
              "      background-color: #3B4455;\n",
              "      fill: #D2E3FC;\n",
              "    }\n",
              "\n",
              "    [theme=dark] .colab-df-convert:hover {\n",
              "      background-color: #434B5C;\n",
              "      box-shadow: 0px 1px 3px 1px rgba(0, 0, 0, 0.15);\n",
              "      filter: drop-shadow(0px 1px 2px rgba(0, 0, 0, 0.3));\n",
              "      fill: #FFFFFF;\n",
              "    }\n",
              "  </style>\n",
              "\n",
              "    <script>\n",
              "      const buttonEl =\n",
              "        document.querySelector('#df-07db6d8f-3689-4dcc-814d-a76240a8706e button.colab-df-convert');\n",
              "      buttonEl.style.display =\n",
              "        google.colab.kernel.accessAllowed ? 'block' : 'none';\n",
              "\n",
              "      async function convertToInteractive(key) {\n",
              "        const element = document.querySelector('#df-07db6d8f-3689-4dcc-814d-a76240a8706e');\n",
              "        const dataTable =\n",
              "          await google.colab.kernel.invokeFunction('convertToInteractive',\n",
              "                                                    [key], {});\n",
              "        if (!dataTable) return;\n",
              "\n",
              "        const docLinkHtml = 'Like what you see? Visit the ' +\n",
              "          '<a target=\"_blank\" href=https://colab.research.google.com/notebooks/data_table.ipynb>data table notebook</a>'\n",
              "          + ' to learn more about interactive tables.';\n",
              "        element.innerHTML = '';\n",
              "        dataTable['output_type'] = 'display_data';\n",
              "        await google.colab.output.renderOutput(dataTable, element);\n",
              "        const docLink = document.createElement('div');\n",
              "        docLink.innerHTML = docLinkHtml;\n",
              "        element.appendChild(docLink);\n",
              "      }\n",
              "    </script>\n",
              "  </div>\n",
              "\n",
              "\n",
              "<div id=\"df-a390b0d9-de38-424d-8530-c69b192a73ba\">\n",
              "  <button class=\"colab-df-quickchart\" onclick=\"quickchart('df-a390b0d9-de38-424d-8530-c69b192a73ba')\"\n",
              "            title=\"Suggest charts\"\n",
              "            style=\"display:none;\">\n",
              "\n",
              "<svg xmlns=\"http://www.w3.org/2000/svg\" height=\"24px\"viewBox=\"0 0 24 24\"\n",
              "     width=\"24px\">\n",
              "    <g>\n",
              "        <path d=\"M19 3H5c-1.1 0-2 .9-2 2v14c0 1.1.9 2 2 2h14c1.1 0 2-.9 2-2V5c0-1.1-.9-2-2-2zM9 17H7v-7h2v7zm4 0h-2V7h2v10zm4 0h-2v-4h2v4z\"/>\n",
              "    </g>\n",
              "</svg>\n",
              "  </button>\n",
              "\n",
              "<style>\n",
              "  .colab-df-quickchart {\n",
              "      --bg-color: #E8F0FE;\n",
              "      --fill-color: #1967D2;\n",
              "      --hover-bg-color: #E2EBFA;\n",
              "      --hover-fill-color: #174EA6;\n",
              "      --disabled-fill-color: #AAA;\n",
              "      --disabled-bg-color: #DDD;\n",
              "  }\n",
              "\n",
              "  [theme=dark] .colab-df-quickchart {\n",
              "      --bg-color: #3B4455;\n",
              "      --fill-color: #D2E3FC;\n",
              "      --hover-bg-color: #434B5C;\n",
              "      --hover-fill-color: #FFFFFF;\n",
              "      --disabled-bg-color: #3B4455;\n",
              "      --disabled-fill-color: #666;\n",
              "  }\n",
              "\n",
              "  .colab-df-quickchart {\n",
              "    background-color: var(--bg-color);\n",
              "    border: none;\n",
              "    border-radius: 50%;\n",
              "    cursor: pointer;\n",
              "    display: none;\n",
              "    fill: var(--fill-color);\n",
              "    height: 32px;\n",
              "    padding: 0;\n",
              "    width: 32px;\n",
              "  }\n",
              "\n",
              "  .colab-df-quickchart:hover {\n",
              "    background-color: var(--hover-bg-color);\n",
              "    box-shadow: 0 1px 2px rgba(60, 64, 67, 0.3), 0 1px 3px 1px rgba(60, 64, 67, 0.15);\n",
              "    fill: var(--button-hover-fill-color);\n",
              "  }\n",
              "\n",
              "  .colab-df-quickchart-complete:disabled,\n",
              "  .colab-df-quickchart-complete:disabled:hover {\n",
              "    background-color: var(--disabled-bg-color);\n",
              "    fill: var(--disabled-fill-color);\n",
              "    box-shadow: none;\n",
              "  }\n",
              "\n",
              "  .colab-df-spinner {\n",
              "    border: 2px solid var(--fill-color);\n",
              "    border-color: transparent;\n",
              "    border-bottom-color: var(--fill-color);\n",
              "    animation:\n",
              "      spin 1s steps(1) infinite;\n",
              "  }\n",
              "\n",
              "  @keyframes spin {\n",
              "    0% {\n",
              "      border-color: transparent;\n",
              "      border-bottom-color: var(--fill-color);\n",
              "      border-left-color: var(--fill-color);\n",
              "    }\n",
              "    20% {\n",
              "      border-color: transparent;\n",
              "      border-left-color: var(--fill-color);\n",
              "      border-top-color: var(--fill-color);\n",
              "    }\n",
              "    30% {\n",
              "      border-color: transparent;\n",
              "      border-left-color: var(--fill-color);\n",
              "      border-top-color: var(--fill-color);\n",
              "      border-right-color: var(--fill-color);\n",
              "    }\n",
              "    40% {\n",
              "      border-color: transparent;\n",
              "      border-right-color: var(--fill-color);\n",
              "      border-top-color: var(--fill-color);\n",
              "    }\n",
              "    60% {\n",
              "      border-color: transparent;\n",
              "      border-right-color: var(--fill-color);\n",
              "    }\n",
              "    80% {\n",
              "      border-color: transparent;\n",
              "      border-right-color: var(--fill-color);\n",
              "      border-bottom-color: var(--fill-color);\n",
              "    }\n",
              "    90% {\n",
              "      border-color: transparent;\n",
              "      border-bottom-color: var(--fill-color);\n",
              "    }\n",
              "  }\n",
              "</style>\n",
              "\n",
              "  <script>\n",
              "    async function quickchart(key) {\n",
              "      const quickchartButtonEl =\n",
              "        document.querySelector('#' + key + ' button');\n",
              "      quickchartButtonEl.disabled = true;  // To prevent multiple clicks.\n",
              "      quickchartButtonEl.classList.add('colab-df-spinner');\n",
              "      try {\n",
              "        const charts = await google.colab.kernel.invokeFunction(\n",
              "            'suggestCharts', [key], {});\n",
              "      } catch (error) {\n",
              "        console.error('Error during call to suggestCharts:', error);\n",
              "      }\n",
              "      quickchartButtonEl.classList.remove('colab-df-spinner');\n",
              "      quickchartButtonEl.classList.add('colab-df-quickchart-complete');\n",
              "    }\n",
              "    (() => {\n",
              "      let quickchartButtonEl =\n",
              "        document.querySelector('#df-a390b0d9-de38-424d-8530-c69b192a73ba button');\n",
              "      quickchartButtonEl.style.display =\n",
              "        google.colab.kernel.accessAllowed ? 'block' : 'none';\n",
              "    })();\n",
              "  </script>\n",
              "</div>\n",
              "\n",
              "    </div>\n",
              "  </div>\n"
            ],
            "application/vnd.google.colaboratory.intrinsic+json": {
              "type": "dataframe",
              "summary": "{\n  \"name\": \"display(test_df\",\n  \"rows\": 5,\n  \"fields\": [\n    {\n      \"column\": \"prompt\",\n      \"properties\": {\n        \"dtype\": \"string\",\n        \"samples\": [\n          \"And Jessica's gonna be Eve.'\",\n          \"Rick, are you really a musician?'\",\n          \"Yeah, I can see that. But do you think you'll still be able to help me collect my seeds, Morty?'\"\n        ],\n        \"num_unique_values\": 5,\n        \"semantic_type\": \"\",\n        \"description\": \"\"\n      }\n    },\n    {\n      \"column\": \"completion\",\n      \"properties\": {\n        \"dtype\": \"string\",\n        \"samples\": [\n          \"Whhhh-wha?'\",\n          \"Who\\u2019s NOT a musician, Morty?'\",\n          \"Are you kidding me?! That's it, Rick! That's the last straw! I can't believe this! I'm sitting here with both of my legs broken, and you're still asking me about getting those seeds?! Ooh! Ow! Oh! Y-y-you're a monster. Y-you're like Hitler, but-but even Hitler cared about Germany or something.'\"\n        ],\n        \"num_unique_values\": 5,\n        \"semantic_type\": \"\",\n        \"description\": \"\"\n      }\n    },\n    {\n      \"column\": \"prompt_character\",\n      \"properties\": {\n        \"dtype\": \"category\",\n        \"samples\": [\n          \"Rick\",\n          \"Morty\"\n        ],\n        \"num_unique_values\": 2,\n        \"semantic_type\": \"\",\n        \"description\": \"\"\n      }\n    },\n    {\n      \"column\": \"completion_character\",\n      \"properties\": {\n        \"dtype\": \"category\",\n        \"samples\": [\n          \"Morty\",\n          \"Rick\"\n        ],\n        \"num_unique_values\": 2,\n        \"semantic_type\": \"\",\n        \"description\": \"\"\n      }\n    }\n  ]\n}"
            }
          },
          "metadata": {}
        },
        {
          "output_type": "display_data",
          "data": {
            "text/plain": [
              "                                                 prompt  \\\n",
              "1634  I-It's just something Rick starts talking abou...   \n",
              "1745  Well, you can keep wondering that while we go ...   \n",
              "236   Full disclosure, Morty it's not. Temporary sup...   \n",
              "30    Alright. I'll-I'll land. I'll land. I'll land....   \n",
              "1661  Jesus Christ, what a shitty neutrino bomb. it'...   \n",
              "\n",
              "                                             completion prompt_character  \\\n",
              "1634  W-What? In w--In w-w-what--In what way? Like, ...            Morty   \n",
              "1745                    Man. Glad I’m not one of them!'             Rick   \n",
              "236                                           Aw, man.'             Rick   \n",
              "30    We'll park it right here, Morty. Right here on...             Rick   \n",
              "1661  Oh, I don't know. You managed to destroy just ...             Rick   \n",
              "\n",
              "     completion_character  \n",
              "1634                 Rick  \n",
              "1745                Morty  \n",
              "236                 Morty  \n",
              "30                   Rick  \n",
              "1661                Morty  "
            ],
            "text/html": [
              "\n",
              "  <div id=\"df-7081a5a4-5bed-4fbb-9080-fc8c97406ded\" class=\"colab-df-container\">\n",
              "    <div>\n",
              "<style scoped>\n",
              "    .dataframe tbody tr th:only-of-type {\n",
              "        vertical-align: middle;\n",
              "    }\n",
              "\n",
              "    .dataframe tbody tr th {\n",
              "        vertical-align: top;\n",
              "    }\n",
              "\n",
              "    .dataframe thead th {\n",
              "        text-align: right;\n",
              "    }\n",
              "</style>\n",
              "<table border=\"1\" class=\"dataframe\">\n",
              "  <thead>\n",
              "    <tr style=\"text-align: right;\">\n",
              "      <th></th>\n",
              "      <th>prompt</th>\n",
              "      <th>completion</th>\n",
              "      <th>prompt_character</th>\n",
              "      <th>completion_character</th>\n",
              "    </tr>\n",
              "  </thead>\n",
              "  <tbody>\n",
              "    <tr>\n",
              "      <th>1634</th>\n",
              "      <td>I-It's just something Rick starts talking abou...</td>\n",
              "      <td>W-What? In w--In w-w-what--In what way? Like, ...</td>\n",
              "      <td>Morty</td>\n",
              "      <td>Rick</td>\n",
              "    </tr>\n",
              "    <tr>\n",
              "      <th>1745</th>\n",
              "      <td>Well, you can keep wondering that while we go ...</td>\n",
              "      <td>Man. Glad I’m not one of them!'</td>\n",
              "      <td>Rick</td>\n",
              "      <td>Morty</td>\n",
              "    </tr>\n",
              "    <tr>\n",
              "      <th>236</th>\n",
              "      <td>Full disclosure, Morty it's not. Temporary sup...</td>\n",
              "      <td>Aw, man.'</td>\n",
              "      <td>Rick</td>\n",
              "      <td>Morty</td>\n",
              "    </tr>\n",
              "    <tr>\n",
              "      <th>30</th>\n",
              "      <td>Alright. I'll-I'll land. I'll land. I'll land....</td>\n",
              "      <td>We'll park it right here, Morty. Right here on...</td>\n",
              "      <td>Rick</td>\n",
              "      <td>Rick</td>\n",
              "    </tr>\n",
              "    <tr>\n",
              "      <th>1661</th>\n",
              "      <td>Jesus Christ, what a shitty neutrino bomb. it'...</td>\n",
              "      <td>Oh, I don't know. You managed to destroy just ...</td>\n",
              "      <td>Rick</td>\n",
              "      <td>Morty</td>\n",
              "    </tr>\n",
              "  </tbody>\n",
              "</table>\n",
              "</div>\n",
              "    <div class=\"colab-df-buttons\">\n",
              "\n",
              "  <div class=\"colab-df-container\">\n",
              "    <button class=\"colab-df-convert\" onclick=\"convertToInteractive('df-7081a5a4-5bed-4fbb-9080-fc8c97406ded')\"\n",
              "            title=\"Convert this dataframe to an interactive table.\"\n",
              "            style=\"display:none;\">\n",
              "\n",
              "  <svg xmlns=\"http://www.w3.org/2000/svg\" height=\"24px\" viewBox=\"0 -960 960 960\">\n",
              "    <path d=\"M120-120v-720h720v720H120Zm60-500h600v-160H180v160Zm220 220h160v-160H400v160Zm0 220h160v-160H400v160ZM180-400h160v-160H180v160Zm440 0h160v-160H620v160ZM180-180h160v-160H180v160Zm440 0h160v-160H620v160Z\"/>\n",
              "  </svg>\n",
              "    </button>\n",
              "\n",
              "  <style>\n",
              "    .colab-df-container {\n",
              "      display:flex;\n",
              "      gap: 12px;\n",
              "    }\n",
              "\n",
              "    .colab-df-convert {\n",
              "      background-color: #E8F0FE;\n",
              "      border: none;\n",
              "      border-radius: 50%;\n",
              "      cursor: pointer;\n",
              "      display: none;\n",
              "      fill: #1967D2;\n",
              "      height: 32px;\n",
              "      padding: 0 0 0 0;\n",
              "      width: 32px;\n",
              "    }\n",
              "\n",
              "    .colab-df-convert:hover {\n",
              "      background-color: #E2EBFA;\n",
              "      box-shadow: 0px 1px 2px rgba(60, 64, 67, 0.3), 0px 1px 3px 1px rgba(60, 64, 67, 0.15);\n",
              "      fill: #174EA6;\n",
              "    }\n",
              "\n",
              "    .colab-df-buttons div {\n",
              "      margin-bottom: 4px;\n",
              "    }\n",
              "\n",
              "    [theme=dark] .colab-df-convert {\n",
              "      background-color: #3B4455;\n",
              "      fill: #D2E3FC;\n",
              "    }\n",
              "\n",
              "    [theme=dark] .colab-df-convert:hover {\n",
              "      background-color: #434B5C;\n",
              "      box-shadow: 0px 1px 3px 1px rgba(0, 0, 0, 0.15);\n",
              "      filter: drop-shadow(0px 1px 2px rgba(0, 0, 0, 0.3));\n",
              "      fill: #FFFFFF;\n",
              "    }\n",
              "  </style>\n",
              "\n",
              "    <script>\n",
              "      const buttonEl =\n",
              "        document.querySelector('#df-7081a5a4-5bed-4fbb-9080-fc8c97406ded button.colab-df-convert');\n",
              "      buttonEl.style.display =\n",
              "        google.colab.kernel.accessAllowed ? 'block' : 'none';\n",
              "\n",
              "      async function convertToInteractive(key) {\n",
              "        const element = document.querySelector('#df-7081a5a4-5bed-4fbb-9080-fc8c97406ded');\n",
              "        const dataTable =\n",
              "          await google.colab.kernel.invokeFunction('convertToInteractive',\n",
              "                                                    [key], {});\n",
              "        if (!dataTable) return;\n",
              "\n",
              "        const docLinkHtml = 'Like what you see? Visit the ' +\n",
              "          '<a target=\"_blank\" href=https://colab.research.google.com/notebooks/data_table.ipynb>data table notebook</a>'\n",
              "          + ' to learn more about interactive tables.';\n",
              "        element.innerHTML = '';\n",
              "        dataTable['output_type'] = 'display_data';\n",
              "        await google.colab.output.renderOutput(dataTable, element);\n",
              "        const docLink = document.createElement('div');\n",
              "        docLink.innerHTML = docLinkHtml;\n",
              "        element.appendChild(docLink);\n",
              "      }\n",
              "    </script>\n",
              "  </div>\n",
              "\n",
              "\n",
              "<div id=\"df-7f1fa057-2682-4c9b-853c-c33698ab4b32\">\n",
              "  <button class=\"colab-df-quickchart\" onclick=\"quickchart('df-7f1fa057-2682-4c9b-853c-c33698ab4b32')\"\n",
              "            title=\"Suggest charts\"\n",
              "            style=\"display:none;\">\n",
              "\n",
              "<svg xmlns=\"http://www.w3.org/2000/svg\" height=\"24px\"viewBox=\"0 0 24 24\"\n",
              "     width=\"24px\">\n",
              "    <g>\n",
              "        <path d=\"M19 3H5c-1.1 0-2 .9-2 2v14c0 1.1.9 2 2 2h14c1.1 0 2-.9 2-2V5c0-1.1-.9-2-2-2zM9 17H7v-7h2v7zm4 0h-2V7h2v10zm4 0h-2v-4h2v4z\"/>\n",
              "    </g>\n",
              "</svg>\n",
              "  </button>\n",
              "\n",
              "<style>\n",
              "  .colab-df-quickchart {\n",
              "      --bg-color: #E8F0FE;\n",
              "      --fill-color: #1967D2;\n",
              "      --hover-bg-color: #E2EBFA;\n",
              "      --hover-fill-color: #174EA6;\n",
              "      --disabled-fill-color: #AAA;\n",
              "      --disabled-bg-color: #DDD;\n",
              "  }\n",
              "\n",
              "  [theme=dark] .colab-df-quickchart {\n",
              "      --bg-color: #3B4455;\n",
              "      --fill-color: #D2E3FC;\n",
              "      --hover-bg-color: #434B5C;\n",
              "      --hover-fill-color: #FFFFFF;\n",
              "      --disabled-bg-color: #3B4455;\n",
              "      --disabled-fill-color: #666;\n",
              "  }\n",
              "\n",
              "  .colab-df-quickchart {\n",
              "    background-color: var(--bg-color);\n",
              "    border: none;\n",
              "    border-radius: 50%;\n",
              "    cursor: pointer;\n",
              "    display: none;\n",
              "    fill: var(--fill-color);\n",
              "    height: 32px;\n",
              "    padding: 0;\n",
              "    width: 32px;\n",
              "  }\n",
              "\n",
              "  .colab-df-quickchart:hover {\n",
              "    background-color: var(--hover-bg-color);\n",
              "    box-shadow: 0 1px 2px rgba(60, 64, 67, 0.3), 0 1px 3px 1px rgba(60, 64, 67, 0.15);\n",
              "    fill: var(--button-hover-fill-color);\n",
              "  }\n",
              "\n",
              "  .colab-df-quickchart-complete:disabled,\n",
              "  .colab-df-quickchart-complete:disabled:hover {\n",
              "    background-color: var(--disabled-bg-color);\n",
              "    fill: var(--disabled-fill-color);\n",
              "    box-shadow: none;\n",
              "  }\n",
              "\n",
              "  .colab-df-spinner {\n",
              "    border: 2px solid var(--fill-color);\n",
              "    border-color: transparent;\n",
              "    border-bottom-color: var(--fill-color);\n",
              "    animation:\n",
              "      spin 1s steps(1) infinite;\n",
              "  }\n",
              "\n",
              "  @keyframes spin {\n",
              "    0% {\n",
              "      border-color: transparent;\n",
              "      border-bottom-color: var(--fill-color);\n",
              "      border-left-color: var(--fill-color);\n",
              "    }\n",
              "    20% {\n",
              "      border-color: transparent;\n",
              "      border-left-color: var(--fill-color);\n",
              "      border-top-color: var(--fill-color);\n",
              "    }\n",
              "    30% {\n",
              "      border-color: transparent;\n",
              "      border-left-color: var(--fill-color);\n",
              "      border-top-color: var(--fill-color);\n",
              "      border-right-color: var(--fill-color);\n",
              "    }\n",
              "    40% {\n",
              "      border-color: transparent;\n",
              "      border-right-color: var(--fill-color);\n",
              "      border-top-color: var(--fill-color);\n",
              "    }\n",
              "    60% {\n",
              "      border-color: transparent;\n",
              "      border-right-color: var(--fill-color);\n",
              "    }\n",
              "    80% {\n",
              "      border-color: transparent;\n",
              "      border-right-color: var(--fill-color);\n",
              "      border-bottom-color: var(--fill-color);\n",
              "    }\n",
              "    90% {\n",
              "      border-color: transparent;\n",
              "      border-bottom-color: var(--fill-color);\n",
              "    }\n",
              "  }\n",
              "</style>\n",
              "\n",
              "  <script>\n",
              "    async function quickchart(key) {\n",
              "      const quickchartButtonEl =\n",
              "        document.querySelector('#' + key + ' button');\n",
              "      quickchartButtonEl.disabled = true;  // To prevent multiple clicks.\n",
              "      quickchartButtonEl.classList.add('colab-df-spinner');\n",
              "      try {\n",
              "        const charts = await google.colab.kernel.invokeFunction(\n",
              "            'suggestCharts', [key], {});\n",
              "      } catch (error) {\n",
              "        console.error('Error during call to suggestCharts:', error);\n",
              "      }\n",
              "      quickchartButtonEl.classList.remove('colab-df-spinner');\n",
              "      quickchartButtonEl.classList.add('colab-df-quickchart-complete');\n",
              "    }\n",
              "    (() => {\n",
              "      let quickchartButtonEl =\n",
              "        document.querySelector('#df-7f1fa057-2682-4c9b-853c-c33698ab4b32 button');\n",
              "      quickchartButtonEl.style.display =\n",
              "        google.colab.kernel.accessAllowed ? 'block' : 'none';\n",
              "    })();\n",
              "  </script>\n",
              "</div>\n",
              "\n",
              "    </div>\n",
              "  </div>\n"
            ],
            "application/vnd.google.colaboratory.intrinsic+json": {
              "type": "dataframe",
              "summary": "{\n  \"name\": \"display(test_df\",\n  \"rows\": 5,\n  \"fields\": [\n    {\n      \"column\": \"prompt\",\n      \"properties\": {\n        \"dtype\": \"string\",\n        \"samples\": [\n          \"Well, you can keep wondering that while we go on our fun, fresh, self-contained adventure to Atlantis.  Anyone continuing to explore the Citadel is either stupid, or one of the unfortunate millions held hostage by their terrible ideas.'\",\n          \"Jesus Christ, what a shitty neutrino bomb. it's a miracle I actually every destroy anything.'\",\n          \"Full disclosure, Morty it's not. Temporary superintelligence is just a side effect of the mega seeds dissolving in your rectal cavity.'\"\n        ],\n        \"num_unique_values\": 5,\n        \"semantic_type\": \"\",\n        \"description\": \"\"\n      }\n    },\n    {\n      \"column\": \"completion\",\n      \"properties\": {\n        \"dtype\": \"string\",\n        \"samples\": [\n          \"Man. Glad I\\u2019m not one of them!'\",\n          \"Oh, I don't know. You managed to destroy just about everything today; the villains, the heroes, the lines between them, my childhood...'\",\n          \"Aw, man.'\"\n        ],\n        \"num_unique_values\": 5,\n        \"semantic_type\": \"\",\n        \"description\": \"\"\n      }\n    },\n    {\n      \"column\": \"prompt_character\",\n      \"properties\": {\n        \"dtype\": \"category\",\n        \"samples\": [\n          \"Rick\",\n          \"Morty\"\n        ],\n        \"num_unique_values\": 2,\n        \"semantic_type\": \"\",\n        \"description\": \"\"\n      }\n    },\n    {\n      \"column\": \"completion_character\",\n      \"properties\": {\n        \"dtype\": \"category\",\n        \"samples\": [\n          \"Morty\",\n          \"Rick\"\n        ],\n        \"num_unique_values\": 2,\n        \"semantic_type\": \"\",\n        \"description\": \"\"\n      }\n    }\n  ]\n}"
            }
          },
          "metadata": {}
        }
      ]
    },
    {
      "cell_type": "markdown",
      "source": [
        "## jsonl object & file generation\n",
        "\n",
        "The file structure required for training payload using Anyscale is .jsonl, which is also the same type needed for training with the openAI api."
      ],
      "metadata": {
        "id": "Qlyi4eYwh0jI"
      }
    },
    {
      "cell_type": "markdown",
      "source": [
        "Create a function to convert a row to the specified JSON structure."
      ],
      "metadata": {
        "id": "eURUYoJGh966"
      }
    },
    {
      "cell_type": "code",
      "source": [
        "def row_to_jsonl(row):\n",
        "    prompt_character = row['prompt_character']\n",
        "    completion_character = row['completion_character']\n",
        "    return {\n",
        "        'messages': [\n",
        "            {'role': 'system', 'content': f'You are a Rick & Morty dialogue generator. Given the following {prompt_character} line, respond as {completion_character}.' },\n",
        "            {'role': 'user', 'content': row['prompt']},\n",
        "            {'role': 'assistant', 'content': row['completion']}\n",
        "        ]\n",
        "    }\n",
        "\n",
        "for i in range(5):\n",
        "    print(row_to_jsonl(train_df.iloc[i]))"
      ],
      "metadata": {
        "colab": {
          "base_uri": "https://localhost:8080/"
        },
        "id": "nG3ej4Msh_45",
        "outputId": "498eeb6f-652b-4098-83f7-ea539203d43b"
      },
      "execution_count": 12,
      "outputs": [
        {
          "output_type": "stream",
          "name": "stdout",
          "text": [
            "{'messages': [{'role': 'system', 'content': 'You are a Rick & Morty dialogue generator. Given the following Morty line, respond as Rick.'}, {'role': 'user', 'content': \"I don't care about Jessica! Y-Yyyyyyyyyyou—'\"}, {'role': 'assistant', 'content': \"You know what, Morty? You're right.  Let's forget the girl altogether. She, she's probably nothing but trouble, anyways.'\"}]}\n",
            "{'messages': [{'role': 'system', 'content': 'You are a Rick & Morty dialogue generator. Given the following Rick line, respond as Morty.'}, {'role': 'user', 'content': \"And Jessica's gonna be Eve.'\"}, {'role': 'assistant', 'content': \"Whhhh-wha?'\"}]}\n",
            "{'messages': [{'role': 'system', 'content': 'You are a Rick & Morty dialogue generator. Given the following Rick line, respond as Morty.'}, {'role': 'user', 'content': \"Yeah, I can see that. But do you think you'll still be able to help me collect my seeds, Morty?'\"}, {'role': 'assistant', 'content': \"Are you kidding me?! That's it, Rick! That's the last straw! I can't believe this! I'm sitting here with both of my legs broken, and you're still asking me about getting those seeds?! Ooh! Ow! Oh! Y-y-you're a monster. Y-you're like Hitler, but-but even Hitler cared about Germany or something.'\"}]}\n",
            "{'messages': [{'role': 'system', 'content': 'You are a Rick & Morty dialogue generator. Given the following Morty line, respond as Morty.'}, {'role': 'user', 'content': \"Whooooa! Whoooooooa! Whoa! Whooooooooaaaaa!'\"}, {'role': 'assistant', 'content': \"AAAAAAAAAAAAAAAAAAAAAAAAHHHHHHHHHH!!!!!!!!!!'\"}]}\n",
            "{'messages': [{'role': 'system', 'content': 'You are a Rick & Morty dialogue generator. Given the following Morty line, respond as Rick.'}, {'role': 'user', 'content': \"Rick, are you really a musician?'\"}, {'role': 'assistant', 'content': \"Who’s NOT a musician, Morty?'\"}]}\n"
          ]
        }
      ]
    },
    {
      "cell_type": "markdown",
      "source": [
        "Convert each row in the filtered DataFrame to the desired JSON structure"
      ],
      "metadata": {
        "id": "l6Kylp6NiBeb"
      }
    },
    {
      "cell_type": "code",
      "source": [
        "train_json_objects = [row_to_jsonl(row) for index, row in train_df.iterrows()]\n",
        "test_json_objects = [row_to_jsonl(row) for index, row in test_df.iterrows()]"
      ],
      "metadata": {
        "id": "TkAb1uRQiCfk"
      },
      "execution_count": 13,
      "outputs": []
    },
    {
      "cell_type": "code",
      "source": [
        "print(train_json_objects[0])\n",
        "print(test_json_objects[0])"
      ],
      "metadata": {
        "colab": {
          "base_uri": "https://localhost:8080/"
        },
        "id": "ZMSdHlxQDXLw",
        "outputId": "f520941a-4e79-4283-b7d1-c49e2dcd6a1c"
      },
      "execution_count": 14,
      "outputs": [
        {
          "output_type": "stream",
          "name": "stdout",
          "text": [
            "{'messages': [{'role': 'system', 'content': 'You are a Rick & Morty dialogue generator. Given the following Morty line, respond as Rick.'}, {'role': 'user', 'content': \"I don't care about Jessica! Y-Yyyyyyyyyyou—'\"}, {'role': 'assistant', 'content': \"You know what, Morty? You're right.  Let's forget the girl altogether. She, she's probably nothing but trouble, anyways.'\"}]}\n",
            "{'messages': [{'role': 'system', 'content': 'You are a Rick & Morty dialogue generator. Given the following Morty line, respond as Rick.'}, {'role': 'user', 'content': \"I-It's just something Rick starts talking about whenever he's blackout drunk.'\"}, {'role': 'assistant', 'content': \"W-What? In w--In w-w-what--In what way? Like, w-w-what's my point?'\"}]}\n"
          ]
        }
      ]
    },
    {
      "cell_type": "markdown",
      "source": [
        "Define the path for the output .jsonl file"
      ],
      "metadata": {
        "id": "F3Mxe7PWiFE7"
      }
    },
    {
      "cell_type": "code",
      "source": [
        "train_output_file_path = 'converted_train_rick_n_morty.jsonl'\n",
        "test_output_file_path = 'converted_test_rick_n_morty.jsonl'"
      ],
      "metadata": {
        "id": "FVhoKSnNiHDX"
      },
      "execution_count": 15,
      "outputs": []
    },
    {
      "cell_type": "markdown",
      "source": [
        "Write the JSON objects to a .jsonl file"
      ],
      "metadata": {
        "id": "y2cqSML5iI8-"
      }
    },
    {
      "cell_type": "code",
      "source": [
        "with open(train_output_file_path, 'w') as outfile:\n",
        "    for obj in train_json_objects:\n",
        "        json_line = json.dumps(obj)  # Convert the dictionary to a JSON string\n",
        "        outfile.write(json_line + '\\n')"
      ],
      "metadata": {
        "id": "QB208xEgiH-9"
      },
      "execution_count": 16,
      "outputs": []
    },
    {
      "cell_type": "code",
      "source": [
        "with open(test_output_file_path, 'w') as outfile:\n",
        "    for obj in test_json_objects:\n",
        "        json_line = json.dumps(obj)  # Convert the dictionary to a JSON string\n",
        "        outfile.write(json_line + '\\n')"
      ],
      "metadata": {
        "id": "GgvOiVL4RYzS"
      },
      "execution_count": 17,
      "outputs": []
    },
    {
      "cell_type": "markdown",
      "source": [
        "# Anyscale Training"
      ],
      "metadata": {
        "id": "9IGcYTcYG4TW"
      }
    },
    {
      "cell_type": "markdown",
      "source": [
        "Get our API key. You can set up yours with the little keys icon on the left-side pane in colab."
      ],
      "metadata": {
        "id": "ChnJLNfhVovC"
      }
    },
    {
      "cell_type": "code",
      "source": [
        "from google.colab import userdata\n",
        "# userdata.get('ANYSCALE_API_KEY')"
      ],
      "metadata": {
        "id": "QBfzzwzwG7aK"
      },
      "execution_count": 18,
      "outputs": []
    },
    {
      "cell_type": "markdown",
      "source": [
        "Initiate the openAI client pointed at the Anyscale endpoint."
      ],
      "metadata": {
        "id": "DzMTk4XnVvL3"
      }
    },
    {
      "cell_type": "code",
      "source": [
        "client = openai.OpenAI(\n",
        "    base_url = \"https://api.endpoints.anyscale.com/v1\",\n",
        "    api_key = userdata.get('ANYSCALE_API_KEY')\n",
        ")"
      ],
      "metadata": {
        "id": "hpJq28IBINdX"
      },
      "execution_count": 19,
      "outputs": []
    },
    {
      "cell_type": "markdown",
      "source": [
        "Load in our training payloads to begin the job."
      ],
      "metadata": {
        "id": "_G2fyV1lV1Hi"
      }
    },
    {
      "cell_type": "code",
      "source": [
        "# Upload training payloads\n",
        "\n",
        "training_file_id = client.files.create(\n",
        "    file=open('converted_train_rick_n_morty.jsonl','rb'),\n",
        "    purpose=\"fine-tune\",).id\n",
        "\n",
        "valid_file_id = client.files.create(\n",
        "    file=open('converted_test_rick_n_morty.jsonl','rb'),\n",
        "    purpose=\"fine-tune\",).id\n",
        "\n",
        "model=\"meta-llama/Llama-2-70b-chat-hf\"\n",
        "\n",
        "finetuning_job_id = client.fine_tuning.jobs.create(\n",
        "    training_file=training_file_id,\n",
        "    validation_file=valid_file_id,\n",
        "    model=model,).id"
      ],
      "metadata": {
        "id": "FcicUXy4H1NP"
      },
      "execution_count": 34,
      "outputs": []
    },
    {
      "cell_type": "code",
      "source": [
        "# Log fine-tuning payload ids\n",
        "\n",
        "print((training_file_id, valid_file_id), finetuning_job_id)"
      ],
      "metadata": {
        "colab": {
          "base_uri": "https://localhost:8080/"
        },
        "id": "lxmiarQHII0s",
        "outputId": "efba4958-e285-411a-835a-630722072b2b"
      },
      "execution_count": 35,
      "outputs": [
        {
          "output_type": "stream",
          "name": "stdout",
          "text": [
            "('file_m8ui79bs863rvbnzn5628zm3mv', 'file_1ggqptcn7x8pami91mn78iiix3') eftjob_6s4edi1el2f93vqtq7hd1yyfnx\n"
          ]
        }
      ]
    },
    {
      "cell_type": "code",
      "source": [
        "# Check fine-tuning job\n",
        "\n",
        "for stat in client.fine_tuning.jobs.retrieve(finetuning_job_id):\n",
        "    print(stat)"
      ],
      "metadata": {
        "colab": {
          "base_uri": "https://localhost:8080/"
        },
        "id": "o3X5AF0jIMSy",
        "outputId": "1ba5b0df-b21c-4f7a-bff4-8df2cba6f539"
      },
      "execution_count": 36,
      "outputs": [
        {
          "output_type": "stream",
          "name": "stdout",
          "text": [
            "('id', 'eftjob_6s4edi1el2f93vqtq7hd1yyfnx')\n",
            "('created_at', '2024-02-18T16:15:15.787550+00:00')\n",
            "('error', None)\n",
            "('fine_tuned_model', 'meta-llama/Llama-2-70b-chat-hf:kenny:fn92vRY')\n",
            "('finished_at', None)\n",
            "('hyperparameters', Hyperparameters(n_epochs=None, context_length=None))\n",
            "('model', 'meta-llama/Llama-2-70b-chat-hf')\n",
            "('object', None)\n",
            "('organization_id', None)\n",
            "('result_files', [])\n",
            "('status', 'running')\n",
            "('trained_tokens', None)\n",
            "('training_file', 'file_m8ui79bs863rvbnzn5628zm3mv')\n",
            "('validation_file', 'file_1ggqptcn7x8pami91mn78iiix3')\n",
            "('creator_id', 'euser_3zg18wwutlpn765eudnpmx4fkg')\n"
          ]
        }
      ]
    },
    {
      "cell_type": "code",
      "source": [
        "result = client.fine_tuning.jobs.retrieve(finetuning_job_id)\n",
        "display(result)\n",
        "\n",
        "# you can run this when the job is done to get the file_id of the tuned model, otherwise it will throw an error\n",
        "# result_file_id = result.result_files[0]\n",
        "# display(client.files.retrieve_content(result_file_id))"
      ],
      "metadata": {
        "colab": {
          "base_uri": "https://localhost:8080/",
          "height": 86
        },
        "id": "MUlG_vi5X0i7",
        "outputId": "b6b02863-3712-401b-8d33-2931712c0209"
      },
      "execution_count": 44,
      "outputs": [
        {
          "output_type": "display_data",
          "data": {
            "text/plain": [
              "FineTuningJob(id='eftjob_6s4edi1el2f93vqtq7hd1yyfnx', created_at='2024-02-18T16:15:15.787550+00:00', error=None, fine_tuned_model='meta-llama/Llama-2-70b-chat-hf:kenny:fn92vRY', finished_at=None, hyperparameters=Hyperparameters(n_epochs=None, context_length=None), model='meta-llama/Llama-2-70b-chat-hf', object=None, organization_id=None, result_files=[], status='running', trained_tokens=None, training_file='file_m8ui79bs863rvbnzn5628zm3mv', validation_file='file_1ggqptcn7x8pami91mn78iiix3', creator_id='euser_3zg18wwutlpn765eudnpmx4fkg')"
            ]
          },
          "metadata": {}
        }
      ]
    },
    {
      "cell_type": "code",
      "source": [
        "# extract all the good stuff from the file_id_result\n",
        "# for item in client.files.retrieve_content(result_file_id).split('\\n'):\n",
        "#     if item:\n",
        "#         print(item)"
      ],
      "metadata": {
        "id": "ODsypqm8YmQ-"
      },
      "execution_count": 24,
      "outputs": []
    },
    {
      "cell_type": "markdown",
      "source": [
        "## Chatting"
      ],
      "metadata": {
        "id": "IbmZUa6uJ9DZ"
      }
    },
    {
      "cell_type": "code",
      "source": [
        "# Generate a morty line given a rick line\n",
        "chat_completion = client.chat.completions.create(\n",
        "    model=\"meta-llama/Llama-2-7b-chat-hf:kenny:4I5P834\",\n",
        "    messages=[{'role': 'system', 'content': f'You are a Rick & Morty dialogue generator. Given the following Rick line, respond as Morty.' },\n",
        "              {\"role\": \"user\", \"content\": \"Morty, We gotta go! Grab the portal gun! Now, now, now!\"}],\n",
        "    temperature=0.7)\n",
        "\n",
        "display(chat_completion.model_dump())"
      ],
      "metadata": {
        "colab": {
          "base_uri": "https://localhost:8080/",
          "height": 260
        },
        "id": "k0skTRNgJ98u",
        "outputId": "09964dd9-4d1a-4944-fe7b-586aca5434fd"
      },
      "execution_count": 45,
      "outputs": [
        {
          "output_type": "display_data",
          "data": {
            "text/plain": [
              "{'id': 'meta-llama/Llama-2-7b-chat-hf:kenny:4I5P834-814ea968-a393-410d-957e-59f0c952c000',\n",
              " 'choices': [{'finish_reason': 'stop',\n",
              "   'index': 0,\n",
              "   'logprobs': None,\n",
              "   'message': {'content': \" I'm not letting you murder someone, Rick!'  \",\n",
              "    'role': 'assistant',\n",
              "    'function_call': None,\n",
              "    'tool_calls': None,\n",
              "    'tool_call_id': None}}],\n",
              " 'created': 1708273164,\n",
              " 'model': 'meta-llama/Llama-2-7b-chat-hf:kenny:4I5P834',\n",
              " 'object': 'text_completion',\n",
              " 'system_fingerprint': None,\n",
              " 'usage': {'completion_tokens': 13, 'prompt_tokens': 63, 'total_tokens': 76}}"
            ]
          },
          "metadata": {}
        }
      ]
    },
    {
      "cell_type": "markdown",
      "source": [
        "Let's functionalize it."
      ],
      "metadata": {
        "id": "wAnGWvRwVtOR"
      }
    },
    {
      "cell_type": "code",
      "source": [
        "# Generate a rick line, given a morty line\n",
        "\n",
        "model = \"meta-llama/Llama-2-7b-chat-hf:kenny:4I5P834\"\n",
        "\n",
        "def get_AI_response(messages, model):\n",
        "  response = client.chat.completions.create(\n",
        "      model=model,\n",
        "      messages=messages,\n",
        "      temperature=0.5\n",
        "  )\n",
        "  return response.choices[0].message.content\n",
        "\n",
        "system_prompt = f'You are a Rick & Morty dialogue generator. Given the following Rick line, respond as Morty.'\n",
        "prompt = 'Morty, We gotta go! Grab the portal gun! Now, now, now!'\n",
        "messages =[\n",
        "          {'role': 'system', 'content': system_prompt},\n",
        "          {\"role\": 'user', \"content\": prompt},\n",
        "      ]\n",
        "\n",
        "morty_completion = get_AI_response(messages, model)\n",
        "\n",
        "display(morty_completion)"
      ],
      "metadata": {
        "colab": {
          "base_uri": "https://localhost:8080/",
          "height": 35
        },
        "id": "DYcDNfHDNv-m",
        "outputId": "823bb845-8af3-466f-92dd-4def90660c22"
      },
      "execution_count": 46,
      "outputs": [
        {
          "output_type": "display_data",
          "data": {
            "text/plain": [
              "\" Oh, man, Rick, I'm not doing it like that!' [/INST\""
            ],
            "application/vnd.google.colaboratory.intrinsic+json": {
              "type": "string"
            }
          },
          "metadata": {}
        }
      ]
    },
    {
      "cell_type": "markdown",
      "source": [
        "## Building The Scene Generator"
      ],
      "metadata": {
        "id": "K7yj967WU33Y"
      }
    },
    {
      "cell_type": "markdown",
      "source": [
        "To build a scene generator, we'll build out a few classes and functions that should help us construct the flow."
      ],
      "metadata": {
        "id": "M9kVzNYnU-of"
      }
    },
    {
      "cell_type": "markdown",
      "source": [
        "#### Character class\n",
        "This is how we will define characters. We can give them additional attributes to shape the way they behave."
      ],
      "metadata": {
        "id": "dPiU37EdBOSa"
      }
    },
    {
      "cell_type": "code",
      "source": [
        "class Character:\n",
        "    def __init__(self, name, bio, personality, attributes):\n",
        "        \"\"\"\n",
        "        Initialize a character with basic information.\n",
        "        \"\"\"\n",
        "        self.name = name\n",
        "        self.bio = bio\n",
        "        self.personality = personality\n",
        "        self.attributes = attributes\n",
        "        self.character_card = {\"name\": self.name,\n",
        "                               \"bio\": self.bio,\n",
        "                               \"personality\": self.personality,\n",
        "                               \"attributes\": self.attributes,\n",
        "                               }\n",
        "\n",
        "    def character_card(self):\n",
        "        \"\"\"\n",
        "        Display character's information.\n",
        "        \"\"\"\n",
        "\n",
        "        return self.character_card\n",
        "\n",
        "    # update a characters information, could be all or any. fields optional\n",
        "    def update_character_card(self, name=None, bio=None, personality=None, attributes=None):\n",
        "        \"\"\"\n",
        "        Update\n",
        "        \"\"\"\n",
        "        if name:\n",
        "            self.name = name\n",
        "        if bio:\n",
        "            self.bio = bio\n",
        "        if personality:\n",
        "            self.personality = personality\n",
        "        if attributes:\n",
        "            self.attributes = attributes\n",
        "        self.character_card = {\"name\": self.name,\n",
        "                               \"bio\": self.bio,\n",
        "                               \"personality\": self.personality,\n",
        "                               \"attributes\": self.attributes,\n",
        "                               }"
      ],
      "metadata": {
        "id": "n2OzVqrYU2zr"
      },
      "execution_count": 106,
      "outputs": []
    },
    {
      "cell_type": "code",
      "source": [
        "# Example setup\n",
        "rick = Character('Rick'\n",
        "                , 'Mad Scientist Rick Sanchez from the show Rick & Morty.'\n",
        "                , 'Loving grandfather'\n",
        "                , 'Genius-level intellect, expert in science and invention')\n",
        "display(rick.character_card)\n",
        "rick.update_character_card(bio = 'Secretly loving but outwardly, madly insane brilliant genius grandfather who loves his grandson')\n",
        "display(rick.character_card)\n",
        "\n",
        "# Morty character card\n",
        "morty = Character('Morty'\n",
        "                , 'Typically nervous and easily distressed, Morty is Rick’s grandson who often finds himself dragged into Rick’s adventures.'\n",
        "                , 'Timid and moral, yet loyal to Rick'\n",
        "                , 'Courage under pressure, moral compass'\n",
        "                )\n",
        "display(morty.character_card)"
      ],
      "metadata": {
        "colab": {
          "base_uri": "https://localhost:8080/",
          "height": 225
        },
        "id": "V7HHV43IyvvJ",
        "outputId": "24d5e1b5-100a-4ce7-a9bd-c4031c5ce3c1"
      },
      "execution_count": 107,
      "outputs": [
        {
          "output_type": "display_data",
          "data": {
            "text/plain": [
              "{'name': 'Rick',\n",
              " 'bio': 'Mad Scientist Rick Sanchez from the show Rick & Morty.',\n",
              " 'personality': 'Loving grandfather',\n",
              " 'attributes': 'Genius-level intellect, expert in science and invention'}"
            ]
          },
          "metadata": {}
        },
        {
          "output_type": "display_data",
          "data": {
            "text/plain": [
              "{'name': 'Rick',\n",
              " 'bio': 'Secretly loving but outwardly, madly insane brilliant genius grandfather who loves his grandson',\n",
              " 'personality': 'Loving grandfather',\n",
              " 'attributes': 'Genius-level intellect, expert in science and invention'}"
            ]
          },
          "metadata": {}
        },
        {
          "output_type": "display_data",
          "data": {
            "text/plain": [
              "{'name': 'Morty',\n",
              " 'bio': 'Typically nervous and easily distressed, Morty is Rick’s grandson who often finds himself dragged into Rick’s adventures.',\n",
              " 'personality': 'Timid and moral, yet loyal to Rick',\n",
              " 'attributes': 'Courage under pressure, moral compass'}"
            ]
          },
          "metadata": {}
        }
      ]
    },
    {
      "cell_type": "markdown",
      "source": [
        "#### Conversation class\n",
        "We'll create a conversation class to help us handle conversation history and easily displaying the conversation."
      ],
      "metadata": {
        "id": "1UYBS0YdDOu9"
      }
    },
    {
      "cell_type": "code",
      "source": [
        "from termcolor import colored\n",
        "\n",
        "class Conversation:\n",
        "    def __init__(self):\n",
        "        self.conversation_history = [] # empty list to initiate the history\n",
        "\n",
        "    def clear_conversation(self):\n",
        "        \"\"\"\n",
        "        Clear the conversation history.\n",
        "        \"\"\"\n",
        "        self.conversation_history = [] # function we can run to clear history\n",
        "\n",
        "    def add_message(self, role, content):\n",
        "        \"\"\"\n",
        "        Add a message to the conversation history.\n",
        "        \"\"\"\n",
        "        messages = {\"role\": role, \"content\": content}\n",
        "        self.conversation_history.append(messages) # append the message to the conversation history\n",
        "\n",
        "    def update_system_prompt(self, system_prompt):\n",
        "        \"\"\"\n",
        "        Update the system prompt.\n",
        "        \"\"\"\n",
        "        self.conversation_history[0][\"content\"] = system_prompt\n",
        "\n",
        "    def display_conversation(self):\n",
        "        \"\"\"\n",
        "        Display the conversation history.\n",
        "        \"\"\"\n",
        "        role_to_color = {\n",
        "            \"system\": \"red\",\n",
        "            \"user\": \"green\",\n",
        "            \"assistant\": \"blue\",\n",
        "            \"function\": \"magenta\",\n",
        "        }\n",
        "        for message in self.conversation_history:\n",
        "            print(\n",
        "                colored(\n",
        "                    f\"{message['role']}: {message['content']}\\n\\n\",\n",
        "                    role_to_color[message[\"role\"]],\n",
        "                )\n",
        "            )"
      ],
      "metadata": {
        "id": "xZZuWzHpCmcI"
      },
      "execution_count": 108,
      "outputs": []
    },
    {
      "cell_type": "code",
      "source": [
        "conversation = Conversation()\n"
      ],
      "metadata": {
        "id": "P8sLpoOQwDuX"
      },
      "execution_count": 109,
      "outputs": []
    },
    {
      "cell_type": "markdown",
      "source": [
        "Lets test this out."
      ],
      "metadata": {
        "id": "_Bw4jmeIWCro"
      }
    },
    {
      "cell_type": "code",
      "source": [
        "# create some conversation history to start\n",
        "conversation.clear_conversation()\n",
        "\n",
        "rick_system_prompt=f'You are a Rick & Morty dialogue generator. Given the following {rick.name} line, respond as {morty.name}.'\n",
        "start_prompt_rick = \"Morty, We gotta go! Grab the portal gun! Now, now, now!\"\n",
        "\n",
        "\n",
        "conversation.add_message(role='system', content=rick_system_prompt)\n",
        "conversation.add_message(role='user', content=start_prompt_rick)\n",
        "\n",
        "conversation.display_conversation()"
      ],
      "metadata": {
        "colab": {
          "base_uri": "https://localhost:8080/"
        },
        "id": "zvy25GnJxySv",
        "outputId": "9d9a3a70-ec47-465c-9dc8-42257b9081da"
      },
      "execution_count": 110,
      "outputs": [
        {
          "output_type": "stream",
          "name": "stdout",
          "text": [
            "system: You are a Rick & Morty dialogue generator. Given the following Rick line, respond as Morty.\n",
            "\n",
            "\n",
            "user: Morty, We gotta go! Grab the portal gun! Now, now, now!\n",
            "\n",
            "\n"
          ]
        }
      ]
    },
    {
      "cell_type": "code",
      "source": [
        "# Generate new outputs\n",
        "\n",
        "\n",
        "model = \"meta-llama/Llama-2-7b-chat-hf:kenny:4I5P834\"\n",
        "\n",
        "generate_morty_response = get_AI_response(conversation.conversation_history, model)\n",
        "\n",
        "conversation.add_message(role='assistant', content=generate_morty_response)\n",
        "\n",
        "conversation.display_conversation()"
      ],
      "metadata": {
        "colab": {
          "base_uri": "https://localhost:8080/"
        },
        "id": "jr8a6mUf34v5",
        "outputId": "bd89d58c-fcef-4332-85cb-3daada1759d4"
      },
      "execution_count": 111,
      "outputs": [
        {
          "output_type": "stream",
          "name": "stdout",
          "text": [
            "system: You are a Rick & Morty dialogue generator. Given the following Rick line, respond as Morty.\n",
            "\n",
            "\n",
            "user: Morty, We gotta go! Grab the portal gun! Now, now, now!\n",
            "\n",
            "\n",
            "assistant:  What the hell, Rick?! Why would the Vindicators need to kidnap me?!'  \n",
            "\n",
            "\n"
          ]
        }
      ]
    },
    {
      "cell_type": "markdown",
      "source": [
        "## Dialogue Generator"
      ],
      "metadata": {
        "id": "wYA5JrymWEm0"
      }
    },
    {
      "cell_type": "markdown",
      "source": [
        "Lets first design some utility functions."
      ],
      "metadata": {
        "id": "hdeWhjcrWHJV"
      }
    },
    {
      "cell_type": "code",
      "source": [
        "def swap_roles(conversation_history):\n",
        "    \"\"\"\n",
        "    Swap 'assistant' and 'user' roles in the conversation history.\n",
        "\n",
        "    Args:\n",
        "        conversation_history (list of dicts): The original conversation history.\n",
        "\n",
        "    Returns:\n",
        "        list of dicts: A new conversation history with swapped roles.\n",
        "    \"\"\"\n",
        "    swapped_history = []\n",
        "    for message in conversation_history:\n",
        "        # Swap the roles\n",
        "        if message['role'] == 'assistant':\n",
        "            new_role = 'user'\n",
        "        elif message['role'] == 'user':\n",
        "            new_role = 'assistant'\n",
        "        else:\n",
        "            new_role = message['role']  # Keep the role as is for system messages or any other role\n",
        "\n",
        "        # Create a new message with the swapped role and add it to the swapped history\n",
        "        swapped_message = {'role': new_role, 'content': message['content']}\n",
        "        swapped_history.append(swapped_message)\n",
        "\n",
        "    return swapped_history"
      ],
      "metadata": {
        "id": "AvjmWuhHUYH5"
      },
      "execution_count": 150,
      "outputs": []
    },
    {
      "cell_type": "markdown",
      "source": [
        "#### Writing our dialogue generator"
      ],
      "metadata": {
        "id": "hzzi4L3qWKsJ"
      }
    },
    {
      "cell_type": "code",
      "source": [
        "def dialogue(first_character, second_character, scene, num_iterations, model):\n",
        "    conversation = Conversation()\n",
        "\n",
        "    # Initial system prompt setup with a placeholder for instructions.\n",
        "    system_prompt_base = f\"\"\"You are a Rick & Morty dialogue generator. Given the scene below, generate a dialogue.\n",
        "    ####\n",
        "    Scene:\n",
        "    {scene}\n",
        "\n",
        "    ####\n",
        "    Character Info:\n",
        "    {first_character.name}: {first_character.character_card}\n",
        "    {second_character.name}: {second_character.character_card}\n",
        "    ####\n",
        "\n",
        "    \"\"\"\n",
        "\n",
        "    # Instruction templates for each character.\n",
        "    init_instructions = f\"Generate the first line as {first_character.name}.\"\n",
        "    char_1_instructions = f\"Given the following line from {first_character.name}, respond as {second_character.name}.\"\n",
        "    char_2_instructions = f\"Given the following line from {second_character.name}, respond as {first_character.name}.\"\n",
        "\n",
        "    # Set the initial system prompt with the initial instructions.\n",
        "    conversation.add_message(role='system', content=system_prompt_base)\n",
        "\n",
        "    # add a first user message to instruct the first character to generate a line:\n",
        "    conversation.add_message(role='user', content=init_instructions)\n",
        "\n",
        "    # Generate the first line from the first character.\n",
        "    first_line = get_AI_response(conversation.conversation_history, model)\n",
        "    print(f'{first_character.name}: {first_line}')\n",
        "\n",
        "    # Add the first line to the conversation history.\n",
        "    conversation.add_message(role='assistant', content=first_line)\n",
        "\n",
        "    # start the iteration from the second character\n",
        "    for i in range(num_iterations):\n",
        "      if i % 2 == 0:  # Second character's turn.\n",
        "        # get the correct instructions\n",
        "        new_instructions = char_2_instructions\n",
        "        # update the system prompt with the correct characters instructions\n",
        "        conversation.update_system_prompt(system_prompt_base + new_instructions)\n",
        "        # get a new response from the model\n",
        "        swapped_history = swap_roles(conversation.conversation_history)\n",
        "        response = get_AI_response(swapped_history, model)\n",
        "        # print the response with the characters name\n",
        "        print(f'{second_character.name}: {response}')\n",
        "        conversation.add_message(role='user', content=response) # add the message(the second character will be added as user)\n",
        "        # print(conversation.conversation_history)\n",
        "      if i % 2 == 1:  # Back to the first character's turn.\n",
        "        new_instructions = char_1_instructions\n",
        "        conversation.update_system_prompt(system_prompt_base + new_instructions)\n",
        "        response = get_AI_response(conversation.conversation_history, model)\n",
        "        print(f'{first_character.name}: {response}')\n",
        "        conversation.add_message(role='assistant', content=response) # the first charater will be added as assistant\n",
        "\n",
        "    return conversation\n"
      ],
      "metadata": {
        "id": "t1I1HA3hId0f"
      },
      "execution_count": 157,
      "outputs": []
    },
    {
      "cell_type": "code",
      "source": [
        "# Example usage\n",
        "# conversation.clear_conversation()\n",
        "rick = Character('Rick', 'Mad scientist', 'Genius', ['Alcoholic', 'Sarcastic'])\n",
        "morty = Character('Morty', 'Grandson', 'Timid', ['Clumsy', 'Loyal'])\n",
        "scene = 'Rick and Morty are in the garage, working on a new invention.'\n",
        "num_iterations = 4\n",
        "\n",
        "# Assuming `get_AI_response` is defined elsewhere and 'model' is initialized\n",
        "# Example usage:\n",
        "conversation = dialogue(rick, morty, scene, num_iterations, model)"
      ],
      "metadata": {
        "colab": {
          "base_uri": "https://localhost:8080/"
        },
        "id": "FC25UyywKIIm",
        "outputId": "71fa7add-cd5f-479b-e20f-7aac8ed8fbe5"
      },
      "execution_count": 159,
      "outputs": [
        {
          "output_type": "stream",
          "name": "stdout",
          "text": [
            "Rick:  Alright, Morty, I need you to go to the kitchen, and get me a drinking straw.'  \n",
            "Morty:  Alright, okay.'  \n",
            "Rick:  I want you to go to the kitchen and get me a drinking straw, Morty. I've got a surprise for you.  It's a special surprise. You can't tell your parents anything about it, Morty. I mean it, Morty. I'll just kill you if you do.'  \n",
            "Morty:  Oh, geez, Rick, I don't know, man...'  \n",
            "Rick:  Oh, come on! It's not every day you get a surprise like this, Morty! You gotta be adventurous once in a while! Come on! Come on! Come on! Come on! Come on! Come on! Come on! Come on! Come on! Come on! Come on! Come on! Come on! Come on! Come on! Come on! Come on! Come on! Come on! Come on! Come on! Come on! Come on! Come on! Come on! Come on! Come on! Come on! Come on! Come on! Come on! Come on! Come on! Come on! Come on! Come on! Come on! Come on! Come on! Come on! Come on! Come on! Come on! Come on! Come on! Come on! Come on! Come on! Come on! Come on! Come on! Come on! Come on! Come on! Come on! Come on! Come on! Come on! Come on! Come on! Come on! Come on! Come on! Come on! Come on! Come on! Come on! Come on! Come on! Come on! Come on! Come on! Come on! Come on! Come on! Come on! Come on! Come on! Come on! Come on! Come on! Come on! Come on! Come on! Come on! Come on! Come on! Come on! Come on! Come on! Come on! Come on! Come on! Come on! Come on! Come on! Come on! Come on! Come on! Come on! Come on! Come on! Come on! Come on! Come on! Come on! Come on! Come on! Come on! Come on! Come on! Come on! Come on! Come on! Come on! Come on! Come on! Come on! Come on! Come on! Come on! Come on! Come on! Come on! Come on! Come on! Come on! Come on! Come on! Come on! Come on! Come on! Come on! Come on! Come on! Come on! Come on! Come on! Come on! Come on! Come on! Come on! Come on! Come on! Come on! Come on! Come on! Come on! Come on! Come on! Come on! Come on! Come on! Come on! Come on! Come on! Come on! Come on! Come on! Come on! Come on! Come on! Come on! Come on! Come on! Come on! Come on! Come on! Come on! Come on! Come on! Come on! Come on! Come on! Come on! Come on! Come on! Come on! Come on! Come on! Come on! Come on! Come on! Come on! Come on! Come on! Come on! Come on! Come on! Come on! Come on! Come on! Come on! Come on! Come on! Come on! Come on! Come on! Come on! Come on! Come on! Come on! Come on! Come on! Come on! Come on! Come on! Come on! Come on! Come on! Come on! Come on! Come on! Come on! Come on! Come on! Come on! Come on! Come on! Come on! Come on! Come on! Come on! Come on! Come on! Come on! Come on! Come on! Come on! Come on! Come on! Come on! Come on! Come on! Come on! Come on! Come on! Come on! Come on! Come on! Come on! Come on! Come on! Come on! Come on! Come on! Come on! Come on! Come on! Come on! Come on! Come on! Come on! Come on! Come on! Come on! Come on! Come on! Come on! Come on! Come on! Come on! Come on! Come on! Come on! Come on! Come on! Come on! Come on! Come on! Come on! Come on! Come on! Come on! Come on! Come on! Come on! Come on! Come on! Come on! Come on! Come on! Come on! Come on! Come on! Come on! Come on! Come on! Come on! Come on! Come on! Come on! Come on! Come on! Come on! Come on! Come on! Come on! Come on! Come on! Come on! Come on! Come on! Come on! Come on! Come on! Come on! Come on! Come on! Come on! Come on! Come on! Come on! Come on! Come on! Come on! Come on! Come on! Come on! Come on! Come on! Come on! Come on! Come on! Come on! Come on! Come on! Come on! Come on! Come on! Come on! Come on! Come on! Come on! Come on! Come on! Come on! Come on! Come on! Come on! Come on! Come on! Come on! Come on! Come on! Come on! Come on! Come on! Come on! Come on! Come on! Come on! Come on! Come on! Come on! Come on! Come on! Come on! Come on! Come on! Come on! Come on! Come on! Come on! Come on! Come on! Come on! Come on! Come on! Come on! Come on! Come on! Come on! Come on! Come on! Come on! Come on! Come on! Come on! Come on! Come on! Come on! Come on! Come on! Come on! Come on! Come on! Come on! Come on! Come on! Come on! Come on! Come on! Come on! Come on! Come on! Come on! Come on! Come on! Come on! Come on! Come on! Come on! Come on! Come on! Come on! Come on! Come on! Come on! Come on! Come on! Come on! Come on! Come on! Come on! Come on! Come on! Come on! Come on! Come on! Come on! Come on! Come on! Come on! Come on! Come on! Come on! Come on! Come on! Come on! Come on! Come on! Come on! Come on! Come on! Come on! Come on! Come on! Come on! Come on! Come on! Come on! Come on! Come on! Come on! Come on! Come on! Come on! Come on! Come on! Come on! Come on! Come on! Come on! Come on! Come on! Come on! Come on! Come on! Come on! Come on! Come on! Come on! Come on! Come on! Come on! Come on! Come on! Come on! Come on! Come on! Come on! Come on! Come on! Come on! Come on! Come on! Come on! Come on! Come on! Come on! Come on! Come on! Come on! Come on! Come on! Come on! Come on! Come on! Come on! Come on! Come on! Come on! Come on! Come on! Come on! Come on! Come on! Come on! Come on! Come on! Come on! Come on! Come on! Come on! Come on! Come on! Come on! Come on! Come on! Come on! Come on! Come on! Come on! Come on! Come on! Come on! Come on! Come on! Come on! Come on! Come on! Come on! Come on! Come on! Come on! Come on! Come on! Come on! Come on! Come on! Come on! Come on! Come on! Come on! Come on! Come on! Come on! Come on! Come on! Come on! Come on! Come on! Come on! Come on! Come on! Come on! Come on! Come on! Come on! Come on! Come on! Come on! Come on! Come on! Come on! Come on! Come on! Come on! Come on! Come on! Come on! Come on! Come on! Come on! Come on! Come on! Come on! Come on! Come on! Come on! Come on! Come on! Come on! Come on! Come on! Come on! Come on! Come on! Come on! Come on! Come on! Come on! Come on! Come on! Come on! Come on! Come on! Come on! Come on! Come on! Come on! Come on! Come on! Come on! Come on! Come on! Come on! Come on! Come on! Come on! Come on! Come on! Come on! Come on! Come on! Come on! Come on! Come on! Come on! Come on! Come on! Come on! Come on! Come on! Come on! Come on! Come on! Come on! Come on! Come on! Come on! Come on! Come on! Come on! Come on! Come on! Come on! Come on! Come on! Come on! Come on! Come on! Come on! Come on! Come on! Come on! Come on! Come on! Come on! Come on! Come on! Come on! Come on! Come on! Come on! Come on! Come on! Come on! Come on! Come on! Come on! Come on! Come on! Come on! Come on! Come on! Come on! Come on! Come on! Come on! Come on! Come on! Come on! Come on! Come on! Come on! Come on! Come on! Come on! Come on! Come on! Come on! Come on! Come on! Come on! Come on! Come on! Come on! Come on! Come on! Come on! Come on! Come on! Come on! Come on! Come on! Come on! Come on! Come on! Come on! Come on! Come on! Come on! Come on! Come on! Come on! Come on! Come on! Come on! Come on! Come on! Come on! Come on! Come on! Come on! Come on! Come on! Come on! Come on! Come on! Come on! Come on! Come on! Come on! Come on! Come on! Come on! Come on! Come on! Come on! Come on! Come on! Come on! Come on! Come on! Come on! Come on! Come on! Come on! Come on! Come on! Come on! Come on! Come on! Come on! Come on! Come on! Come on! Come on! Come on! Come on! Come on! Come on! Come on! Come on! Come on! Come on! Come on! Come on! Come on! Come on! Come on! Come on! Come on! Come on! Come on! Come on! Come on! Come on! Come on! Come on! Come on! Come on! Come on! Come on! Come on! Come on! Come on! Come on! Come on! Come on! Come on! Come on! Come on! Come on! Come on! Come on! Come on! Come on! Come on! Come on! Come on! Come on! Come on! Come on! Come on! Come on! Come on! Come on! Come on! Come on! Come on! Come on! Come on! Come on! Come on! Come on! Come on! Come on! Come on! Come on! Come on! Come on! Come on! Come on! Come on! Come on! Come on! Come on! Come on! Come on! Come on! Come on! Come on! Come on! Come on! Come on! Come on! Come on! Come on! Come on! Come on! Come on! Come on! Come on! Come on! Come on! Come on! Come on! Come on! Come on! Come on! Come on! Come on! Come on! Come on! Come on! Come on! Come on! Come on! Come on! Come on! Come on! Come on! Come on! Come on! Come on! Come on! Come on! Come on! Come on! Come on! Come on! Come on! Come on! Come on! Come on! Come on! Come on! Come on! Come on! Come on! Come on! Come on! Come on! Come on! Come on! Come on! Come on! Come on! Come on! Come on! Come on! Come on! Come on! Come on! Come on! Come on! Come on! Come on! Come on! Come on! Come on! Come on! Come on! Come on! Come on! Come on! Come on! Come on! Come on! Come on! Come on! Come on! Come on! Come on! Come on! Come on! Come on! Come on! Come on! Come on! Come on! Come on! Come on! Come on! Come on! Come on! Come on! Come on! Come on! Come on! Come on! Come on! Come on! Come on! Come on! Come on! Come on! Come on! Come on! Come on! Come on! Come on! Come on! Come on! Come on! Come on! Come on! Come on! Come on! Come on! Come on! Come on! Come on! Come on! Come on! Come on! Come on! Come on! Come on! Come on! Come on! Come on! Come on! Come on! Come on! Come on! Come on! Come on! Come on! Come on! Come on! Come on! Come on! Come on! Come on! Come on! Come on! Come on! Come on! Come on! Come on! Come on! Come on! Come on! Come on! Come on! Come on! Come on! Come on! Come on! Come on! Come on! Come on! Come on! Come on! Come on! Come on! Come on! Come on! Come on! Come on! Come on! Come on! Come on! Come on! Come on! Come on! Come on! Come on! Come on! Come on! Come on! Come on! Come on! Come on! Come on! Come on! Come on! Come on! Come on! Come on! Come on! Come on! Come on! Come on! Come on! Come on! Come on! Come on! Come on! Come on! Come on! Come on! Come on! Come on! Come on! Come on! Come on! Come on! Come on! Come on! Come on! Come on! Come on! Come on! Come on! Come on! Come on! Come on! Come on! Come on! Come on! Come on! Come on! Come on! Come on! Come on! Come on! Come on! Come on! Come on! Come on! Come on! Come on! Come on! Come on! Come on! Come on! Come on! Come on! Come on! Come on! Come on! Come on! Come on! Come on! Come on! Come on! Come on! Come on! Come on! Come on! Come on! Come on! Come on! Come on! Come on! Come on! Come on! Come on! Come on! Come on! Come on! Come on! Come on! Come on! Come on! Come on! Come on! Come on! Come on! Come on! Come on! Come on! Come on! Come on! Come on! Come on! Come on! Come on! Come on! Come on! Come on! Come on! Come on! Come on! Come on! Come on! Come on! Come on! Come on! Come on! Come on! Come on! Come on! Come on! Come on! Come on! Come on! Come on! Come on! Come on! Come on! Come on! Come on! Come on! Come on! Come on! Come on! Come on! Come on! Come on! Come on! Come on! Come on! Come on! Come on! Come on! Come on! Come on! Come on! Come on! Come on! Come on! Come on! Come on! Come on! Come on! Come on! Come on! Come on! Come on! Come on! Come on! Come on! Come on! Come on! Come on! Come on! Come on! Come on! Come on! Come on! Come on! Come on! Come on! Come on! Come on! Come on! Come on! Come on! Come on! Come on! Come on! Come on! Come on! Come on! Come on! Come on! Come on! Come on! Come on! Come on! Come on! Come on! Come on! Come on! Come on! Come on! Come on! Come on! Come on! Come on! Come on! Come on! Come on! Come on! Come on! Come on! Come on! Come on! Come on! Come on! Come on! Come on! Come on! Come on! Come on! Come on! Come on! Come on! Come on! Come on! Come on! Come on! Come on! Come on! Come on! Come on! Come on! Come on! Come on! Come on! Come on! Come on! Come on! Come on! Come on! Come on! Come on! Come on! Come on! Come on! Come on! Come on! Come on! Come on! Come on! Come on! Come on! Come on! Come on! Come on! Come on! Come on! Come on! Come on! Come on! Come on! Come on! Come on! Come on! Come on! Come\n"
          ]
        }
      ]
    },
    {
      "cell_type": "code",
      "source": [
        "conversation.display_conversation()"
      ],
      "metadata": {
        "colab": {
          "base_uri": "https://localhost:8080/"
        },
        "id": "6kDiNi5kMoIg",
        "outputId": "43638bd4-478e-4cea-ddab-b35b2318ddcb"
      },
      "execution_count": 160,
      "outputs": [
        {
          "output_type": "stream",
          "name": "stdout",
          "text": [
            "system: You are a Rick & Morty dialogue generator. Given the scene below, generate a dialogue.\n",
            "    ####\n",
            "    Scene:\n",
            "    Rick and Morty are in the garage, working on a new invention.\n",
            "    \n",
            "    ####\n",
            "    Character Info:\n",
            "    Rick: {'name': 'Rick', 'bio': 'Mad scientist', 'personality': 'Genius', 'attributes': ['Alcoholic', 'Sarcastic']}\n",
            "    Morty: {'name': 'Morty', 'bio': 'Grandson', 'personality': 'Timid', 'attributes': ['Clumsy', 'Loyal']}\n",
            "    ####\n",
            "\n",
            "    Given the following line from Rick, respond as Morty.\n",
            "\n",
            "\n",
            "user: Generate the first line as Rick.\n",
            "\n",
            "\n",
            "assistant:  Alright, Morty, I need you to go to the kitchen, and get me a drinking straw.'  \n",
            "\n",
            "\n",
            "user:  Alright, okay.'  \n",
            "\n",
            "\n",
            "assistant:  I want you to go to the kitchen and get me a drinking straw, Morty. I've got a surprise for you.  It's a special surprise. You can't tell your parents anything about it, Morty. I mean it, Morty. I'll just kill you if you do.'  \n",
            "\n",
            "\n",
            "user:  Oh, geez, Rick, I don't know, man...'  \n",
            "\n",
            "\n",
            "assistant:  Oh, come on! It's not every day you get a surprise like this, Morty! You gotta be adventurous once in a while! Come on! Come on! Come on! Come on! Come on! Come on! Come on! Come on! Come on! Come on! Come on! Come on! Come on! Come on! Come on! Come on! Come on! Come on! Come on! Come on! Come on! Come on! Come on! Come on! Come on! Come on! Come on! Come on! Come on! Come on! Come on! Come on! Come on! Come on! Come on! Come on! Come on! Come on! Come on! Come on! Come on! Come on! Come on! Come on! Come on! Come on! Come on! Come on! Come on! Come on! Come on! Come on! Come on! Come on! Come on! Come on! Come on! Come on! Come on! Come on! Come on! Come on! Come on! Come on! Come on! Come on! Come on! Come on! Come on! Come on! Come on! Come on! Come on! Come on! Come on! Come on! Come on! Come on! Come on! Come on! Come on! Come on! Come on! Come on! Come on! Come on! Come on! Come on! Come on! Come on! Come on! Come on! Come on! Come on! Come on! Come on! Come on! Come on! Come on! Come on! Come on! Come on! Come on! Come on! Come on! Come on! Come on! Come on! Come on! Come on! Come on! Come on! Come on! Come on! Come on! Come on! Come on! Come on! Come on! Come on! Come on! Come on! Come on! Come on! Come on! Come on! Come on! Come on! Come on! Come on! Come on! Come on! Come on! Come on! Come on! Come on! Come on! Come on! Come on! Come on! Come on! Come on! Come on! Come on! Come on! Come on! Come on! Come on! Come on! Come on! Come on! Come on! Come on! Come on! Come on! Come on! Come on! Come on! Come on! Come on! Come on! Come on! Come on! Come on! Come on! Come on! Come on! Come on! Come on! Come on! Come on! Come on! Come on! Come on! Come on! Come on! Come on! Come on! Come on! Come on! Come on! Come on! Come on! Come on! Come on! Come on! Come on! Come on! Come on! Come on! Come on! Come on! Come on! Come on! Come on! Come on! Come on! Come on! Come on! Come on! Come on! Come on! Come on! Come on! Come on! Come on! Come on! Come on! Come on! Come on! Come on! Come on! Come on! Come on! Come on! Come on! Come on! Come on! Come on! Come on! Come on! Come on! Come on! Come on! Come on! Come on! Come on! Come on! Come on! Come on! Come on! Come on! Come on! Come on! Come on! Come on! Come on! Come on! Come on! Come on! Come on! Come on! Come on! Come on! Come on! Come on! Come on! Come on! Come on! Come on! Come on! Come on! Come on! Come on! Come on! Come on! Come on! Come on! Come on! Come on! Come on! Come on! Come on! Come on! Come on! Come on! Come on! Come on! Come on! Come on! Come on! Come on! Come on! Come on! Come on! Come on! Come on! Come on! Come on! Come on! Come on! Come on! Come on! Come on! Come on! Come on! Come on! Come on! Come on! Come on! Come on! Come on! Come on! Come on! Come on! Come on! Come on! Come on! Come on! Come on! Come on! Come on! Come on! Come on! Come on! Come on! Come on! Come on! Come on! Come on! Come on! Come on! Come on! Come on! Come on! Come on! Come on! Come on! Come on! Come on! Come on! Come on! Come on! Come on! Come on! Come on! Come on! Come on! Come on! Come on! Come on! Come on! Come on! Come on! Come on! Come on! Come on! Come on! Come on! Come on! Come on! Come on! Come on! Come on! Come on! Come on! Come on! Come on! Come on! Come on! Come on! Come on! Come on! Come on! Come on! Come on! Come on! Come on! Come on! Come on! Come on! Come on! Come on! Come on! Come on! Come on! Come on! Come on! Come on! Come on! Come on! Come on! Come on! Come on! Come on! Come on! Come on! Come on! Come on! Come on! Come on! Come on! Come on! Come on! Come on! Come on! Come on! Come on! Come on! Come on! Come on! Come on! Come on! Come on! Come on! Come on! Come on! Come on! Come on! Come on! Come on! Come on! Come on! Come on! Come on! Come on! Come on! Come on! Come on! Come on! Come on! Come on! Come on! Come on! Come on! Come on! Come on! Come on! Come on! Come on! Come on! Come on! Come on! Come on! Come on! Come on! Come on! Come on! Come on! Come on! Come on! Come on! Come on! Come on! Come on! Come on! Come on! Come on! Come on! Come on! Come on! Come on! Come on! Come on! Come on! Come on! Come on! Come on! Come on! Come on! Come on! Come on! Come on! Come on! Come on! Come on! Come on! Come on! Come on! Come on! Come on! Come on! Come on! Come on! Come on! Come on! Come on! Come on! Come on! Come on! Come on! Come on! Come on! Come on! Come on! Come on! Come on! Come on! Come on! Come on! Come on! Come on! Come on! Come on! Come on! Come on! Come on! Come on! Come on! Come on! Come on! Come on! Come on! Come on! Come on! Come on! Come on! Come on! Come on! Come on! Come on! Come on! Come on! Come on! Come on! Come on! Come on! Come on! Come on! Come on! Come on! Come on! Come on! Come on! Come on! Come on! Come on! Come on! Come on! Come on! Come on! Come on! Come on! Come on! Come on! Come on! Come on! Come on! Come on! Come on! Come on! Come on! Come on! Come on! Come on! Come on! Come on! Come on! Come on! Come on! Come on! Come on! Come on! Come on! Come on! Come on! Come on! Come on! Come on! Come on! Come on! Come on! Come on! Come on! Come on! Come on! Come on! Come on! Come on! Come on! Come on! Come on! Come on! Come on! Come on! Come on! Come on! Come on! Come on! Come on! Come on! Come on! Come on! Come on! Come on! Come on! Come on! Come on! Come on! Come on! Come on! Come on! Come on! Come on! Come on! Come on! Come on! Come on! Come on! Come on! Come on! Come on! Come on! Come on! Come on! Come on! Come on! Come on! Come on! Come on! Come on! Come on! Come on! Come on! Come on! Come on! Come on! Come on! Come on! Come on! Come on! Come on! Come on! Come on! Come on! Come on! Come on! Come on! Come on! Come on! Come on! Come on! Come on! Come on! Come on! Come on! Come on! Come on! Come on! Come on! Come on! Come on! Come on! Come on! Come on! Come on! Come on! Come on! Come on! Come on! Come on! Come on! Come on! Come on! Come on! Come on! Come on! Come on! Come on! Come on! Come on! Come on! Come on! Come on! Come on! Come on! Come on! Come on! Come on! Come on! Come on! Come on! Come on! Come on! Come on! Come on! Come on! Come on! Come on! Come on! Come on! Come on! Come on! Come on! Come on! Come on! Come on! Come on! Come on! Come on! Come on! Come on! Come on! Come on! Come on! Come on! Come on! Come on! Come on! Come on! Come on! Come on! Come on! Come on! Come on! Come on! Come on! Come on! Come on! Come on! Come on! Come on! Come on! Come on! Come on! Come on! Come on! Come on! Come on! Come on! Come on! Come on! Come on! Come on! Come on! Come on! Come on! Come on! Come on! Come on! Come on! Come on! Come on! Come on! Come on! Come on! Come on! Come on! Come on! Come on! Come on! Come on! Come on! Come on! Come on! Come on! Come on! Come on! Come on! Come on! Come on! Come on! Come on! Come on! Come on! Come on! Come on! Come on! Come on! Come on! Come on! Come on! Come on! Come on! Come on! Come on! Come on! Come on! Come on! Come on! Come on! Come on! Come on! Come on! Come on! Come on! Come on! Come on! Come on! Come on! Come on! Come on! Come on! Come on! Come on! Come on! Come on! Come on! Come on! Come on! Come on! Come on! Come on! Come on! Come on! Come on! Come on! Come on! Come on! Come on! Come on! Come on! Come on! Come on! Come on! Come on! Come on! Come on! Come on! Come on! Come on! Come on! Come on! Come on! Come on! Come on! Come on! Come on! Come on! Come on! Come on! Come on! Come on! Come on! Come on! Come on! Come on! Come on! Come on! Come on! Come on! Come on! Come on! Come on! Come on! Come on! Come on! Come on! Come on! Come on! Come on! Come on! Come on! Come on! Come on! Come on! Come on! Come on! Come on! Come on! Come on! Come on! Come on! Come on! Come on! Come on! Come on! Come on! Come on! Come on! Come on! Come on! Come on! Come on! Come on! Come on! Come on! Come on! Come on! Come on! Come on! Come on! Come on! Come on! Come on! Come on! Come on! Come on! Come on! Come on! Come on! Come on! Come on! Come on! Come on! Come on! Come on! Come on! Come on! Come on! Come on! Come on! Come on! Come on! Come on! Come on! Come on! Come on! Come on! Come on! Come on! Come on! Come on! Come on! Come on! Come on! Come on! Come on! Come on! Come on! Come on! Come on! Come on! Come on! Come on! Come on! Come on! Come on! Come on! Come on! Come on! Come on! Come on! Come on! Come on! Come on! Come on! Come on! Come on! Come on! Come on! Come on! Come on! Come on! Come on! Come on! Come on! Come on! Come on! Come on! Come on! Come on! Come on! Come on! Come on! Come on! Come on! Come on! Come on! Come on! Come on! Come on! Come on! Come on! Come on! Come on! Come on! Come on! Come on! Come on! Come on! Come on! Come on! Come on! Come on! Come on! Come on! Come on! Come on! Come on! Come on! Come on! Come on! Come on! Come on! Come on! Come on! Come on! Come on! Come on! Come on! Come on! Come on! Come on! Come on! Come on! Come on! Come on! Come on! Come on! Come on! Come on! Come on! Come on! Come on! Come on! Come on! Come on! Come on! Come on! Come on! Come on! Come on! Come on! Come on! Come on! Come on! Come on! Come on! Come on! Come on! Come on! Come on! Come on! Come on! Come on! Come on! Come on! Come on! Come on! Come on! Come on! Come on! Come on! Come on! Come on! Come on! Come on! Come on! Come on! Come on! Come on! Come on! Come on! Come on! Come on! Come on! Come on! Come on! Come on! Come on! Come on! Come on! Come on! Come on! Come on! Come on! Come on! Come on! Come on! Come on! Come on! Come on! Come on! Come on! Come on! Come on! Come on! Come on! Come on! Come on! Come on! Come on! Come on! Come on! Come on! Come on! Come on! Come on! Come on! Come on! Come on! Come on! Come on! Come on! Come on! Come on! Come on! Come on! Come on! Come on! Come on! Come on! Come on! Come on! Come on! Come on! Come on! Come on! Come on! Come on! Come on! Come on! Come on! Come on! Come on! Come on! Come on! Come on! Come on! Come on! Come on! Come on! Come on! Come on! Come on! Come on! Come on! Come on! Come on! Come on! Come on! Come on! Come on! Come on! Come on! Come on! Come on! Come on! Come on! Come on! Come on! Come on! Come on! Come on! Come on! Come on! Come on! Come on! Come on! Come on! Come on! Come on! Come on! Come on! Come on! Come on! Come on! Come on! Come on! Come on! Come on! Come on! Come on! Come on! Come on! Come on! Come on! Come on! Come on! Come on! Come on! Come on! Come on! Come on! Come on! Come on! Come on! Come on! Come on! Come on! Come on! Come on! Come on! Come on! Come on! Come on! Come on! Come on! Come on! Come on! Come on! Come on! Come on! Come on! Come on! Come on! Come on! Come on! Come on! Come on! Come on! Come on! Come on! Come on! Come on! Come on! Come on! Come on! Come on! Come on! Come on! Come on! Come on! Come on! Come on! Come on! Come on! Come on! Come on! Come on! Come on! Come on! Come on! Come on! Come on! Come on! Come on! Come on! Come on! Come on! Come on! Come on! Come on! Come on! Come on! Come on! Come on! Come on! Come on! Come on! Come on! Come on! Come on! Come on! Come on! Come on! Come on! Come on! Come on! Come on! Come on! Come on! Come on! Come on! Come on! Come on! Come on! Come on! Come on! Come on! Come on! Come on! Come on! Come on! Come on! Come on! Come on! Come on! Come on! Come on! Come on! Come on! Come on! Come on! Come on! Come\n",
            "\n",
            "\n"
          ]
        }
      ]
    },
    {
      "cell_type": "code",
      "source": [
        "# try with the 70b param model\n",
        "model = 'meta-llama/Llama-2-70b-chat-hf:kenny:fn92vRY'\n",
        "conversation = dialogue(rick, morty, scene, num_iterations, model)"
      ],
      "metadata": {
        "colab": {
          "base_uri": "https://localhost:8080/"
        },
        "id": "3NBS-ixiViLT",
        "outputId": "7ed4a78f-ef45-46e6-9611-1490f8e51cf6"
      },
      "execution_count": 162,
      "outputs": [
        {
          "output_type": "stream",
          "name": "stdout",
          "text": [
            "Rick:  Oh, I-I get it. You're asking who's gonna do what to whom.' [/INST\n",
            "Morty:   Listen, Morty, I know that new situations can be intimidating. You're looking around at all this unfamiliar equipment.  All it does is, it shoots beams. You just gotta remember one thing, Morty.'  \n",
            "Rick:  Oh, Rick, this is heavy. Is this the part of the, uh, the thing, or am I holding, or what?'  \n",
            "Morty:  Oh, geez, Morty. I-I'm gonna have to train you to help me with my science. You got any homework?'  \n",
            "Rick:  Oh, man, Rick, that's a lot of homework. Can't we just go get our family now?'  \n"
          ]
        }
      ]
    }
  ]
}