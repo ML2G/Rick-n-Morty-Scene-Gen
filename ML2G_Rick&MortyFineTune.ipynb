{
  "nbformat": 4,
  "nbformat_minor": 0,
  "metadata": {
    "colab": {
      "provenance": []
    },
    "kernelspec": {
      "name": "python3",
      "display_name": "Python 3"
    },
    "language_info": {
      "name": "python"
    }
  },
  "cells": [
    {
      "cell_type": "markdown",
      "source": [
        "# Hack Sunday - Rick & Morty Digital Twins\n",
        "\n",
        "Using Anyscale Endpoints with Huggingface Datasets to write an OpenAI compatible script that trains a LlaMA model on Rick & Morty to create digital twins.\n",
        "\n",
        "After training a model, we'll create a system to generate new dialogue between characters.\n",
        "\n",
        "![Your Logo/Picture Here](https://media.discordapp.net/attachments/876355397412335616/1187666234381189141/anyscale-endpoints-llama-2.png?ex=6597b760&is=65854260&hm=f8430b2b0a4dfc67ff3e7f5de5da09ecf7f4de359175adff88743f03e0a08b7d&=&format=webp&quality=lossless&width=1793&height=1194)\n",
        "\n",
        "To run this notebook, you will need to create an Anyscale account and API key. You can create one for free [here](https://app.endpoints.anyscale.com/welcome). Anyscale will provide you with $10 in free credits when you create your account."
      ],
      "metadata": {
        "id": "7oVnwAV2ECYX"
      }
    },
    {
      "cell_type": "markdown",
      "source": [
        "## Setup"
      ],
      "metadata": {
        "id": "e-_LxfWREaV_"
      }
    },
    {
      "cell_type": "markdown",
      "source": [
        "The first step is to install dependencies. After running this cell, comment it out and restart the notebook."
      ],
      "metadata": {
        "id": "t1GYY_GhEc8a"
      }
    },
    {
      "cell_type": "code",
      "source": [
        "# !pip install datasets\n",
        "# !pip install openai"
      ],
      "metadata": {
        "id": "BazqBJa1iWIM"
      },
      "execution_count": 1,
      "outputs": []
    },
    {
      "cell_type": "markdown",
      "source": [
        "Import libraries."
      ],
      "metadata": {
        "id": "ZojrYZzdEmiE"
      }
    },
    {
      "cell_type": "code",
      "source": [
        "import json\n",
        "import pandas as pd\n",
        "import openai\n",
        "import transformers\n",
        "from datasets import load_dataset\n",
        "from termcolor import colored\n",
        "from IPython.display import display, JSON\n",
        "from google.colab import drive\n"
      ],
      "metadata": {
        "id": "d7LWJDHAiL1f"
      },
      "execution_count": 2,
      "outputs": []
    },
    {
      "cell_type": "code",
      "source": [
        "# Mount google drive to store and access training\n",
        "drive.mount('/content/drive')"
      ],
      "metadata": {
        "colab": {
          "base_uri": "https://localhost:8080/"
        },
        "id": "TKh7OccvKJ80",
        "outputId": "15f223e5-685b-46a0-f2f3-5d7aec0abd7a"
      },
      "execution_count": 3,
      "outputs": [
        {
          "output_type": "stream",
          "name": "stdout",
          "text": [
            "Mounted at /content/drive\n"
          ]
        }
      ]
    },
    {
      "cell_type": "markdown",
      "source": [
        "## Training"
      ],
      "metadata": {
        "id": "w_aDTmDoEowY"
      }
    },
    {
      "cell_type": "markdown",
      "source": [
        "### Load rick & morty dataset from huggingface"
      ],
      "metadata": {
        "id": "LyrGljjZEtKR"
      }
    },
    {
      "cell_type": "code",
      "source": [
        "dataset = load_dataset(\"ysharma/rickandmorty\", split='train')\n",
        "# Convert the dataset to a pandas DataFrame\n",
        "df = pd.DataFrame(dataset)\n",
        "\n",
        "# print the first row of the dataframe\n",
        "print(df.iloc[0])"
      ],
      "metadata": {
        "colab": {
          "base_uri": "https://localhost:8080/"
        },
        "id": "qU7xH2lgjlxi",
        "outputId": "c20299a0-8566-45d6-e86e-4cb275168f20"
      },
      "execution_count": 55,
      "outputs": [
        {
          "output_type": "stream",
          "name": "stderr",
          "text": [
            "/usr/local/lib/python3.10/dist-packages/huggingface_hub/repocard.py:105: UserWarning: Repo card metadata block was not found. Setting CardData to empty.\n",
            "  warnings.warn(\"Repo card metadata block was not found. Setting CardData to empty.\")\n"
          ]
        },
        {
          "output_type": "stream",
          "name": "stdout",
          "text": [
            "index                                                           0\n",
            "season no.                                                      1\n",
            "episode no.                                                     1\n",
            "episode name                                                Pilot\n",
            "name                                                         Rick\n",
            "line            Morty! You gotta come on. Jus'... you gotta co...\n",
            "Name: 0, dtype: object\n"
          ]
        }
      ]
    },
    {
      "cell_type": "markdown",
      "source": [
        "Use pandas to transform the dataset object to a dataframe, making it a bit easier for us to work with."
      ],
      "metadata": {
        "id": "g_9KXEzYE2a3"
      }
    },
    {
      "cell_type": "markdown",
      "source": [
        "## Data Transformations\n",
        "\n",
        "Create a function that transforms our data so that prompts are represented by a single characters line, while completions are the next characters line. We also add a `prompt_character` and `completion_character` field to easily extract who is saying what.\n"
      ],
      "metadata": {
        "id": "MxhiSAPmmnDp"
      }
    },
    {
      "cell_type": "code",
      "source": [
        "def transform_dataset(df):\n",
        "  # Initialize columns for 'prompt', 'completion', 'prompt_character', and 'completion_character'\n",
        "  df['prompt'] = None\n",
        "  df['completion'] = None\n",
        "  df['prompt_character'] = None\n",
        "  df['completion_character'] = None\n",
        "\n",
        "  # Iterate through the DataFrame to fill the new columns\n",
        "  for i in range(len(df) - 1):  # Exclude the last row to avoid index out of bounds\n",
        "      # Fill in the prompt and completion text\n",
        "      df.at[i, 'prompt'] = f\"{df.at[i, 'line']}'\"\n",
        "      df.at[i, 'completion'] = f\"{df.at[i + 1, 'line']}'\"\n",
        "\n",
        "      # Fill in the prompt and completion character names\n",
        "      df.at[i, 'prompt_character'] = df.at[i, 'name']\n",
        "      df.at[i, 'completion_character'] = df.at[i + 1, 'name']\n",
        "\n",
        "  # Drop the last row as it does not have a following line for completion\n",
        "  df = df[:-1]\n",
        "\n",
        "  # Display the first few rows to check the new structure\n",
        "  return df[['prompt', 'completion', 'prompt_character', 'completion_character']]\n",
        "\n",
        "df = transform_dataset(df)\n",
        "df.head()"
      ],
      "metadata": {
        "colab": {
          "base_uri": "https://localhost:8080/",
          "height": 206
        },
        "id": "KdX59F7-mpb2",
        "outputId": "36623408-ffed-4d76-d955-f05dbe8f3f48"
      },
      "execution_count": 56,
      "outputs": [
        {
          "output_type": "execute_result",
          "data": {
            "text/plain": [
              "                                              prompt  \\\n",
              "0  Morty! You gotta come on. Jus'... you gotta co...   \n",
              "1                      What, Rick? What’s going on?'   \n",
              "2                  I got a surprise for you, Morty.'   \n",
              "3  It's the middle of the night. What are you tal...   \n",
              "4  Come on, I got a surprise for you.  Come on, h...   \n",
              "\n",
              "                                          completion prompt_character  \\\n",
              "0                      What, Rick? What’s going on?'             Rick   \n",
              "1                  I got a surprise for you, Morty.'            Morty   \n",
              "2  It's the middle of the night. What are you tal...             Rick   \n",
              "3  Come on, I got a surprise for you.  Come on, h...            Morty   \n",
              "4               Ow! Ow! You're tugging me too hard!'             Rick   \n",
              "\n",
              "  completion_character  \n",
              "0                Morty  \n",
              "1                 Rick  \n",
              "2                Morty  \n",
              "3                 Rick  \n",
              "4                Morty  "
            ],
            "text/html": [
              "\n",
              "  <div id=\"df-f9616c93-11fe-47ba-8fcc-fed7c1f72ff3\" class=\"colab-df-container\">\n",
              "    <div>\n",
              "<style scoped>\n",
              "    .dataframe tbody tr th:only-of-type {\n",
              "        vertical-align: middle;\n",
              "    }\n",
              "\n",
              "    .dataframe tbody tr th {\n",
              "        vertical-align: top;\n",
              "    }\n",
              "\n",
              "    .dataframe thead th {\n",
              "        text-align: right;\n",
              "    }\n",
              "</style>\n",
              "<table border=\"1\" class=\"dataframe\">\n",
              "  <thead>\n",
              "    <tr style=\"text-align: right;\">\n",
              "      <th></th>\n",
              "      <th>prompt</th>\n",
              "      <th>completion</th>\n",
              "      <th>prompt_character</th>\n",
              "      <th>completion_character</th>\n",
              "    </tr>\n",
              "  </thead>\n",
              "  <tbody>\n",
              "    <tr>\n",
              "      <th>0</th>\n",
              "      <td>Morty! You gotta come on. Jus'... you gotta co...</td>\n",
              "      <td>What, Rick? What’s going on?'</td>\n",
              "      <td>Rick</td>\n",
              "      <td>Morty</td>\n",
              "    </tr>\n",
              "    <tr>\n",
              "      <th>1</th>\n",
              "      <td>What, Rick? What’s going on?'</td>\n",
              "      <td>I got a surprise for you, Morty.'</td>\n",
              "      <td>Morty</td>\n",
              "      <td>Rick</td>\n",
              "    </tr>\n",
              "    <tr>\n",
              "      <th>2</th>\n",
              "      <td>I got a surprise for you, Morty.'</td>\n",
              "      <td>It's the middle of the night. What are you tal...</td>\n",
              "      <td>Rick</td>\n",
              "      <td>Morty</td>\n",
              "    </tr>\n",
              "    <tr>\n",
              "      <th>3</th>\n",
              "      <td>It's the middle of the night. What are you tal...</td>\n",
              "      <td>Come on, I got a surprise for you.  Come on, h...</td>\n",
              "      <td>Morty</td>\n",
              "      <td>Rick</td>\n",
              "    </tr>\n",
              "    <tr>\n",
              "      <th>4</th>\n",
              "      <td>Come on, I got a surprise for you.  Come on, h...</td>\n",
              "      <td>Ow! Ow! You're tugging me too hard!'</td>\n",
              "      <td>Rick</td>\n",
              "      <td>Morty</td>\n",
              "    </tr>\n",
              "  </tbody>\n",
              "</table>\n",
              "</div>\n",
              "    <div class=\"colab-df-buttons\">\n",
              "\n",
              "  <div class=\"colab-df-container\">\n",
              "    <button class=\"colab-df-convert\" onclick=\"convertToInteractive('df-f9616c93-11fe-47ba-8fcc-fed7c1f72ff3')\"\n",
              "            title=\"Convert this dataframe to an interactive table.\"\n",
              "            style=\"display:none;\">\n",
              "\n",
              "  <svg xmlns=\"http://www.w3.org/2000/svg\" height=\"24px\" viewBox=\"0 -960 960 960\">\n",
              "    <path d=\"M120-120v-720h720v720H120Zm60-500h600v-160H180v160Zm220 220h160v-160H400v160Zm0 220h160v-160H400v160ZM180-400h160v-160H180v160Zm440 0h160v-160H620v160ZM180-180h160v-160H180v160Zm440 0h160v-160H620v160Z\"/>\n",
              "  </svg>\n",
              "    </button>\n",
              "\n",
              "  <style>\n",
              "    .colab-df-container {\n",
              "      display:flex;\n",
              "      gap: 12px;\n",
              "    }\n",
              "\n",
              "    .colab-df-convert {\n",
              "      background-color: #E8F0FE;\n",
              "      border: none;\n",
              "      border-radius: 50%;\n",
              "      cursor: pointer;\n",
              "      display: none;\n",
              "      fill: #1967D2;\n",
              "      height: 32px;\n",
              "      padding: 0 0 0 0;\n",
              "      width: 32px;\n",
              "    }\n",
              "\n",
              "    .colab-df-convert:hover {\n",
              "      background-color: #E2EBFA;\n",
              "      box-shadow: 0px 1px 2px rgba(60, 64, 67, 0.3), 0px 1px 3px 1px rgba(60, 64, 67, 0.15);\n",
              "      fill: #174EA6;\n",
              "    }\n",
              "\n",
              "    .colab-df-buttons div {\n",
              "      margin-bottom: 4px;\n",
              "    }\n",
              "\n",
              "    [theme=dark] .colab-df-convert {\n",
              "      background-color: #3B4455;\n",
              "      fill: #D2E3FC;\n",
              "    }\n",
              "\n",
              "    [theme=dark] .colab-df-convert:hover {\n",
              "      background-color: #434B5C;\n",
              "      box-shadow: 0px 1px 3px 1px rgba(0, 0, 0, 0.15);\n",
              "      filter: drop-shadow(0px 1px 2px rgba(0, 0, 0, 0.3));\n",
              "      fill: #FFFFFF;\n",
              "    }\n",
              "  </style>\n",
              "\n",
              "    <script>\n",
              "      const buttonEl =\n",
              "        document.querySelector('#df-f9616c93-11fe-47ba-8fcc-fed7c1f72ff3 button.colab-df-convert');\n",
              "      buttonEl.style.display =\n",
              "        google.colab.kernel.accessAllowed ? 'block' : 'none';\n",
              "\n",
              "      async function convertToInteractive(key) {\n",
              "        const element = document.querySelector('#df-f9616c93-11fe-47ba-8fcc-fed7c1f72ff3');\n",
              "        const dataTable =\n",
              "          await google.colab.kernel.invokeFunction('convertToInteractive',\n",
              "                                                    [key], {});\n",
              "        if (!dataTable) return;\n",
              "\n",
              "        const docLinkHtml = 'Like what you see? Visit the ' +\n",
              "          '<a target=\"_blank\" href=https://colab.research.google.com/notebooks/data_table.ipynb>data table notebook</a>'\n",
              "          + ' to learn more about interactive tables.';\n",
              "        element.innerHTML = '';\n",
              "        dataTable['output_type'] = 'display_data';\n",
              "        await google.colab.output.renderOutput(dataTable, element);\n",
              "        const docLink = document.createElement('div');\n",
              "        docLink.innerHTML = docLinkHtml;\n",
              "        element.appendChild(docLink);\n",
              "      }\n",
              "    </script>\n",
              "  </div>\n",
              "\n",
              "\n",
              "<div id=\"df-6198a8b1-c104-455a-8342-38ad1701346a\">\n",
              "  <button class=\"colab-df-quickchart\" onclick=\"quickchart('df-6198a8b1-c104-455a-8342-38ad1701346a')\"\n",
              "            title=\"Suggest charts\"\n",
              "            style=\"display:none;\">\n",
              "\n",
              "<svg xmlns=\"http://www.w3.org/2000/svg\" height=\"24px\"viewBox=\"0 0 24 24\"\n",
              "     width=\"24px\">\n",
              "    <g>\n",
              "        <path d=\"M19 3H5c-1.1 0-2 .9-2 2v14c0 1.1.9 2 2 2h14c1.1 0 2-.9 2-2V5c0-1.1-.9-2-2-2zM9 17H7v-7h2v7zm4 0h-2V7h2v10zm4 0h-2v-4h2v4z\"/>\n",
              "    </g>\n",
              "</svg>\n",
              "  </button>\n",
              "\n",
              "<style>\n",
              "  .colab-df-quickchart {\n",
              "      --bg-color: #E8F0FE;\n",
              "      --fill-color: #1967D2;\n",
              "      --hover-bg-color: #E2EBFA;\n",
              "      --hover-fill-color: #174EA6;\n",
              "      --disabled-fill-color: #AAA;\n",
              "      --disabled-bg-color: #DDD;\n",
              "  }\n",
              "\n",
              "  [theme=dark] .colab-df-quickchart {\n",
              "      --bg-color: #3B4455;\n",
              "      --fill-color: #D2E3FC;\n",
              "      --hover-bg-color: #434B5C;\n",
              "      --hover-fill-color: #FFFFFF;\n",
              "      --disabled-bg-color: #3B4455;\n",
              "      --disabled-fill-color: #666;\n",
              "  }\n",
              "\n",
              "  .colab-df-quickchart {\n",
              "    background-color: var(--bg-color);\n",
              "    border: none;\n",
              "    border-radius: 50%;\n",
              "    cursor: pointer;\n",
              "    display: none;\n",
              "    fill: var(--fill-color);\n",
              "    height: 32px;\n",
              "    padding: 0;\n",
              "    width: 32px;\n",
              "  }\n",
              "\n",
              "  .colab-df-quickchart:hover {\n",
              "    background-color: var(--hover-bg-color);\n",
              "    box-shadow: 0 1px 2px rgba(60, 64, 67, 0.3), 0 1px 3px 1px rgba(60, 64, 67, 0.15);\n",
              "    fill: var(--button-hover-fill-color);\n",
              "  }\n",
              "\n",
              "  .colab-df-quickchart-complete:disabled,\n",
              "  .colab-df-quickchart-complete:disabled:hover {\n",
              "    background-color: var(--disabled-bg-color);\n",
              "    fill: var(--disabled-fill-color);\n",
              "    box-shadow: none;\n",
              "  }\n",
              "\n",
              "  .colab-df-spinner {\n",
              "    border: 2px solid var(--fill-color);\n",
              "    border-color: transparent;\n",
              "    border-bottom-color: var(--fill-color);\n",
              "    animation:\n",
              "      spin 1s steps(1) infinite;\n",
              "  }\n",
              "\n",
              "  @keyframes spin {\n",
              "    0% {\n",
              "      border-color: transparent;\n",
              "      border-bottom-color: var(--fill-color);\n",
              "      border-left-color: var(--fill-color);\n",
              "    }\n",
              "    20% {\n",
              "      border-color: transparent;\n",
              "      border-left-color: var(--fill-color);\n",
              "      border-top-color: var(--fill-color);\n",
              "    }\n",
              "    30% {\n",
              "      border-color: transparent;\n",
              "      border-left-color: var(--fill-color);\n",
              "      border-top-color: var(--fill-color);\n",
              "      border-right-color: var(--fill-color);\n",
              "    }\n",
              "    40% {\n",
              "      border-color: transparent;\n",
              "      border-right-color: var(--fill-color);\n",
              "      border-top-color: var(--fill-color);\n",
              "    }\n",
              "    60% {\n",
              "      border-color: transparent;\n",
              "      border-right-color: var(--fill-color);\n",
              "    }\n",
              "    80% {\n",
              "      border-color: transparent;\n",
              "      border-right-color: var(--fill-color);\n",
              "      border-bottom-color: var(--fill-color);\n",
              "    }\n",
              "    90% {\n",
              "      border-color: transparent;\n",
              "      border-bottom-color: var(--fill-color);\n",
              "    }\n",
              "  }\n",
              "</style>\n",
              "\n",
              "  <script>\n",
              "    async function quickchart(key) {\n",
              "      const quickchartButtonEl =\n",
              "        document.querySelector('#' + key + ' button');\n",
              "      quickchartButtonEl.disabled = true;  // To prevent multiple clicks.\n",
              "      quickchartButtonEl.classList.add('colab-df-spinner');\n",
              "      try {\n",
              "        const charts = await google.colab.kernel.invokeFunction(\n",
              "            'suggestCharts', [key], {});\n",
              "      } catch (error) {\n",
              "        console.error('Error during call to suggestCharts:', error);\n",
              "      }\n",
              "      quickchartButtonEl.classList.remove('colab-df-spinner');\n",
              "      quickchartButtonEl.classList.add('colab-df-quickchart-complete');\n",
              "    }\n",
              "    (() => {\n",
              "      let quickchartButtonEl =\n",
              "        document.querySelector('#df-6198a8b1-c104-455a-8342-38ad1701346a button');\n",
              "      quickchartButtonEl.style.display =\n",
              "        google.colab.kernel.accessAllowed ? 'block' : 'none';\n",
              "    })();\n",
              "  </script>\n",
              "</div>\n",
              "\n",
              "    </div>\n",
              "  </div>\n"
            ],
            "application/vnd.google.colaboratory.intrinsic+json": {
              "type": "dataframe",
              "variable_name": "df",
              "summary": "{\n  \"name\": \"df\",\n  \"rows\": 1904,\n  \"fields\": [\n    {\n      \"column\": \"prompt\",\n      \"properties\": {\n        \"dtype\": \"string\",\n        \"samples\": [\n          \"Yeah, and once those seeds wear off, you're gonna lose most of your motor skills, and you're also gonna lose a significant amount of brain functionality for 72 hours, Morty.'\",\n          \"You know, that's a real comforting idea, Rick.'\",\n          \"Not until I finish what I started. And that is how you get level-nine access without a password.'\"\n        ],\n        \"num_unique_values\": 1859,\n        \"semantic_type\": \"\",\n        \"description\": \"\"\n      }\n    },\n    {\n      \"column\": \"completion\",\n      \"properties\": {\n        \"dtype\": \"string\",\n        \"samples\": [\n          \"Ohh, man.  Oh, geez! Ohh.'\",\n          \"What do you know, Morty? What do you know?'\",\n          \"Employee of the month, ladies and gentlemen.'\"\n        ],\n        \"num_unique_values\": 1859,\n        \"semantic_type\": \"\",\n        \"description\": \"\"\n      }\n    },\n    {\n      \"column\": \"prompt_character\",\n      \"properties\": {\n        \"dtype\": \"category\",\n        \"samples\": [\n          \"Cornvelious Daniel\",\n          \"Candidate Morty\",\n          \"Alien Doctor\"\n        ],\n        \"num_unique_values\": 48,\n        \"semantic_type\": \"\",\n        \"description\": \"\"\n      }\n    },\n    {\n      \"column\": \"completion_character\",\n      \"properties\": {\n        \"dtype\": \"category\",\n        \"samples\": [\n          \"Cornvelious Daniel\",\n          \"Candidate Morty\",\n          \"Alien Doctor\"\n        ],\n        \"num_unique_values\": 48,\n        \"semantic_type\": \"\",\n        \"description\": \"\"\n      }\n    }\n  ]\n}"
            }
          },
          "metadata": {},
          "execution_count": 56
        }
      ]
    },
    {
      "cell_type": "markdown",
      "source": [
        "Here we create a function that can split the dataset by character. The dataset contains many characters from Rick and Morty, including Rick, Morty, Summer, Jerry,.. among others. We will focus on just Rick & Morty characters.\n",
        "\n"
      ],
      "metadata": {
        "id": "TaOIfuBY-rxm"
      }
    },
    {
      "cell_type": "code",
      "source": [
        "def split_by_character(df, character):\n",
        "    \"\"\"\n",
        "    Split the dataset by the specified character\n",
        "    \"\"\"\n",
        "    # Filter the dataset to only include rows where the character name matches the specified character\n",
        "    df = df[df['completion_character'] == character]\n",
        "    return df\n",
        "\n",
        "# Split the dataset by the character 'Morty'\n",
        "morty_df = split_by_character(df, 'Morty')\n",
        "\n",
        "# Split the dataset by the character 'John'\n",
        "rick_df = split_by_character(df, 'Rick')"
      ],
      "metadata": {
        "id": "UCQ9Ua2K-wrd"
      },
      "execution_count": 57,
      "outputs": []
    },
    {
      "cell_type": "code",
      "source": [
        "# check the lengths of rick & morty dataset\n",
        "print(len(morty_df))\n",
        "print(len(rick_df))"
      ],
      "metadata": {
        "colab": {
          "base_uri": "https://localhost:8080/"
        },
        "id": "Fua6qsLJQhrk",
        "outputId": "920b33e9-a23d-457c-a494-fa41b95b4384"
      },
      "execution_count": 58,
      "outputs": [
        {
          "output_type": "stream",
          "name": "stdout",
          "text": [
            "347\n",
            "419\n"
          ]
        }
      ]
    },
    {
      "cell_type": "code",
      "source": [
        "# create dataset of only rick and morty characters in the prompt_character and completion_character columns\n",
        "df = df[df['prompt_character'].isin(['Rick', 'Morty'])]\n",
        "df = df[df['completion_character'].isin(['Rick', 'Morty'])]\n",
        "\n",
        "df.head()"
      ],
      "metadata": {
        "colab": {
          "base_uri": "https://localhost:8080/",
          "height": 206
        },
        "id": "xZjG9FxZQVp9",
        "outputId": "fd43e365-06cc-4388-c33e-d6ff903e14a0"
      },
      "execution_count": 59,
      "outputs": [
        {
          "output_type": "execute_result",
          "data": {
            "text/plain": [
              "                                              prompt  \\\n",
              "0  Morty! You gotta come on. Jus'... you gotta co...   \n",
              "1                      What, Rick? What’s going on?'   \n",
              "2                  I got a surprise for you, Morty.'   \n",
              "3  It's the middle of the night. What are you tal...   \n",
              "4  Come on, I got a surprise for you.  Come on, h...   \n",
              "\n",
              "                                          completion prompt_character  \\\n",
              "0                      What, Rick? What’s going on?'             Rick   \n",
              "1                  I got a surprise for you, Morty.'            Morty   \n",
              "2  It's the middle of the night. What are you tal...             Rick   \n",
              "3  Come on, I got a surprise for you.  Come on, h...            Morty   \n",
              "4               Ow! Ow! You're tugging me too hard!'             Rick   \n",
              "\n",
              "  completion_character  \n",
              "0                Morty  \n",
              "1                 Rick  \n",
              "2                Morty  \n",
              "3                 Rick  \n",
              "4                Morty  "
            ],
            "text/html": [
              "\n",
              "  <div id=\"df-66dadd80-7b89-4b5d-bedc-1e6b1bdfcf90\" class=\"colab-df-container\">\n",
              "    <div>\n",
              "<style scoped>\n",
              "    .dataframe tbody tr th:only-of-type {\n",
              "        vertical-align: middle;\n",
              "    }\n",
              "\n",
              "    .dataframe tbody tr th {\n",
              "        vertical-align: top;\n",
              "    }\n",
              "\n",
              "    .dataframe thead th {\n",
              "        text-align: right;\n",
              "    }\n",
              "</style>\n",
              "<table border=\"1\" class=\"dataframe\">\n",
              "  <thead>\n",
              "    <tr style=\"text-align: right;\">\n",
              "      <th></th>\n",
              "      <th>prompt</th>\n",
              "      <th>completion</th>\n",
              "      <th>prompt_character</th>\n",
              "      <th>completion_character</th>\n",
              "    </tr>\n",
              "  </thead>\n",
              "  <tbody>\n",
              "    <tr>\n",
              "      <th>0</th>\n",
              "      <td>Morty! You gotta come on. Jus'... you gotta co...</td>\n",
              "      <td>What, Rick? What’s going on?'</td>\n",
              "      <td>Rick</td>\n",
              "      <td>Morty</td>\n",
              "    </tr>\n",
              "    <tr>\n",
              "      <th>1</th>\n",
              "      <td>What, Rick? What’s going on?'</td>\n",
              "      <td>I got a surprise for you, Morty.'</td>\n",
              "      <td>Morty</td>\n",
              "      <td>Rick</td>\n",
              "    </tr>\n",
              "    <tr>\n",
              "      <th>2</th>\n",
              "      <td>I got a surprise for you, Morty.'</td>\n",
              "      <td>It's the middle of the night. What are you tal...</td>\n",
              "      <td>Rick</td>\n",
              "      <td>Morty</td>\n",
              "    </tr>\n",
              "    <tr>\n",
              "      <th>3</th>\n",
              "      <td>It's the middle of the night. What are you tal...</td>\n",
              "      <td>Come on, I got a surprise for you.  Come on, h...</td>\n",
              "      <td>Morty</td>\n",
              "      <td>Rick</td>\n",
              "    </tr>\n",
              "    <tr>\n",
              "      <th>4</th>\n",
              "      <td>Come on, I got a surprise for you.  Come on, h...</td>\n",
              "      <td>Ow! Ow! You're tugging me too hard!'</td>\n",
              "      <td>Rick</td>\n",
              "      <td>Morty</td>\n",
              "    </tr>\n",
              "  </tbody>\n",
              "</table>\n",
              "</div>\n",
              "    <div class=\"colab-df-buttons\">\n",
              "\n",
              "  <div class=\"colab-df-container\">\n",
              "    <button class=\"colab-df-convert\" onclick=\"convertToInteractive('df-66dadd80-7b89-4b5d-bedc-1e6b1bdfcf90')\"\n",
              "            title=\"Convert this dataframe to an interactive table.\"\n",
              "            style=\"display:none;\">\n",
              "\n",
              "  <svg xmlns=\"http://www.w3.org/2000/svg\" height=\"24px\" viewBox=\"0 -960 960 960\">\n",
              "    <path d=\"M120-120v-720h720v720H120Zm60-500h600v-160H180v160Zm220 220h160v-160H400v160Zm0 220h160v-160H400v160ZM180-400h160v-160H180v160Zm440 0h160v-160H620v160ZM180-180h160v-160H180v160Zm440 0h160v-160H620v160Z\"/>\n",
              "  </svg>\n",
              "    </button>\n",
              "\n",
              "  <style>\n",
              "    .colab-df-container {\n",
              "      display:flex;\n",
              "      gap: 12px;\n",
              "    }\n",
              "\n",
              "    .colab-df-convert {\n",
              "      background-color: #E8F0FE;\n",
              "      border: none;\n",
              "      border-radius: 50%;\n",
              "      cursor: pointer;\n",
              "      display: none;\n",
              "      fill: #1967D2;\n",
              "      height: 32px;\n",
              "      padding: 0 0 0 0;\n",
              "      width: 32px;\n",
              "    }\n",
              "\n",
              "    .colab-df-convert:hover {\n",
              "      background-color: #E2EBFA;\n",
              "      box-shadow: 0px 1px 2px rgba(60, 64, 67, 0.3), 0px 1px 3px 1px rgba(60, 64, 67, 0.15);\n",
              "      fill: #174EA6;\n",
              "    }\n",
              "\n",
              "    .colab-df-buttons div {\n",
              "      margin-bottom: 4px;\n",
              "    }\n",
              "\n",
              "    [theme=dark] .colab-df-convert {\n",
              "      background-color: #3B4455;\n",
              "      fill: #D2E3FC;\n",
              "    }\n",
              "\n",
              "    [theme=dark] .colab-df-convert:hover {\n",
              "      background-color: #434B5C;\n",
              "      box-shadow: 0px 1px 3px 1px rgba(0, 0, 0, 0.15);\n",
              "      filter: drop-shadow(0px 1px 2px rgba(0, 0, 0, 0.3));\n",
              "      fill: #FFFFFF;\n",
              "    }\n",
              "  </style>\n",
              "\n",
              "    <script>\n",
              "      const buttonEl =\n",
              "        document.querySelector('#df-66dadd80-7b89-4b5d-bedc-1e6b1bdfcf90 button.colab-df-convert');\n",
              "      buttonEl.style.display =\n",
              "        google.colab.kernel.accessAllowed ? 'block' : 'none';\n",
              "\n",
              "      async function convertToInteractive(key) {\n",
              "        const element = document.querySelector('#df-66dadd80-7b89-4b5d-bedc-1e6b1bdfcf90');\n",
              "        const dataTable =\n",
              "          await google.colab.kernel.invokeFunction('convertToInteractive',\n",
              "                                                    [key], {});\n",
              "        if (!dataTable) return;\n",
              "\n",
              "        const docLinkHtml = 'Like what you see? Visit the ' +\n",
              "          '<a target=\"_blank\" href=https://colab.research.google.com/notebooks/data_table.ipynb>data table notebook</a>'\n",
              "          + ' to learn more about interactive tables.';\n",
              "        element.innerHTML = '';\n",
              "        dataTable['output_type'] = 'display_data';\n",
              "        await google.colab.output.renderOutput(dataTable, element);\n",
              "        const docLink = document.createElement('div');\n",
              "        docLink.innerHTML = docLinkHtml;\n",
              "        element.appendChild(docLink);\n",
              "      }\n",
              "    </script>\n",
              "  </div>\n",
              "\n",
              "\n",
              "<div id=\"df-9f6df843-3038-4f21-9078-ebae6b3a6f44\">\n",
              "  <button class=\"colab-df-quickchart\" onclick=\"quickchart('df-9f6df843-3038-4f21-9078-ebae6b3a6f44')\"\n",
              "            title=\"Suggest charts\"\n",
              "            style=\"display:none;\">\n",
              "\n",
              "<svg xmlns=\"http://www.w3.org/2000/svg\" height=\"24px\"viewBox=\"0 0 24 24\"\n",
              "     width=\"24px\">\n",
              "    <g>\n",
              "        <path d=\"M19 3H5c-1.1 0-2 .9-2 2v14c0 1.1.9 2 2 2h14c1.1 0 2-.9 2-2V5c0-1.1-.9-2-2-2zM9 17H7v-7h2v7zm4 0h-2V7h2v10zm4 0h-2v-4h2v4z\"/>\n",
              "    </g>\n",
              "</svg>\n",
              "  </button>\n",
              "\n",
              "<style>\n",
              "  .colab-df-quickchart {\n",
              "      --bg-color: #E8F0FE;\n",
              "      --fill-color: #1967D2;\n",
              "      --hover-bg-color: #E2EBFA;\n",
              "      --hover-fill-color: #174EA6;\n",
              "      --disabled-fill-color: #AAA;\n",
              "      --disabled-bg-color: #DDD;\n",
              "  }\n",
              "\n",
              "  [theme=dark] .colab-df-quickchart {\n",
              "      --bg-color: #3B4455;\n",
              "      --fill-color: #D2E3FC;\n",
              "      --hover-bg-color: #434B5C;\n",
              "      --hover-fill-color: #FFFFFF;\n",
              "      --disabled-bg-color: #3B4455;\n",
              "      --disabled-fill-color: #666;\n",
              "  }\n",
              "\n",
              "  .colab-df-quickchart {\n",
              "    background-color: var(--bg-color);\n",
              "    border: none;\n",
              "    border-radius: 50%;\n",
              "    cursor: pointer;\n",
              "    display: none;\n",
              "    fill: var(--fill-color);\n",
              "    height: 32px;\n",
              "    padding: 0;\n",
              "    width: 32px;\n",
              "  }\n",
              "\n",
              "  .colab-df-quickchart:hover {\n",
              "    background-color: var(--hover-bg-color);\n",
              "    box-shadow: 0 1px 2px rgba(60, 64, 67, 0.3), 0 1px 3px 1px rgba(60, 64, 67, 0.15);\n",
              "    fill: var(--button-hover-fill-color);\n",
              "  }\n",
              "\n",
              "  .colab-df-quickchart-complete:disabled,\n",
              "  .colab-df-quickchart-complete:disabled:hover {\n",
              "    background-color: var(--disabled-bg-color);\n",
              "    fill: var(--disabled-fill-color);\n",
              "    box-shadow: none;\n",
              "  }\n",
              "\n",
              "  .colab-df-spinner {\n",
              "    border: 2px solid var(--fill-color);\n",
              "    border-color: transparent;\n",
              "    border-bottom-color: var(--fill-color);\n",
              "    animation:\n",
              "      spin 1s steps(1) infinite;\n",
              "  }\n",
              "\n",
              "  @keyframes spin {\n",
              "    0% {\n",
              "      border-color: transparent;\n",
              "      border-bottom-color: var(--fill-color);\n",
              "      border-left-color: var(--fill-color);\n",
              "    }\n",
              "    20% {\n",
              "      border-color: transparent;\n",
              "      border-left-color: var(--fill-color);\n",
              "      border-top-color: var(--fill-color);\n",
              "    }\n",
              "    30% {\n",
              "      border-color: transparent;\n",
              "      border-left-color: var(--fill-color);\n",
              "      border-top-color: var(--fill-color);\n",
              "      border-right-color: var(--fill-color);\n",
              "    }\n",
              "    40% {\n",
              "      border-color: transparent;\n",
              "      border-right-color: var(--fill-color);\n",
              "      border-top-color: var(--fill-color);\n",
              "    }\n",
              "    60% {\n",
              "      border-color: transparent;\n",
              "      border-right-color: var(--fill-color);\n",
              "    }\n",
              "    80% {\n",
              "      border-color: transparent;\n",
              "      border-right-color: var(--fill-color);\n",
              "      border-bottom-color: var(--fill-color);\n",
              "    }\n",
              "    90% {\n",
              "      border-color: transparent;\n",
              "      border-bottom-color: var(--fill-color);\n",
              "    }\n",
              "  }\n",
              "</style>\n",
              "\n",
              "  <script>\n",
              "    async function quickchart(key) {\n",
              "      const quickchartButtonEl =\n",
              "        document.querySelector('#' + key + ' button');\n",
              "      quickchartButtonEl.disabled = true;  // To prevent multiple clicks.\n",
              "      quickchartButtonEl.classList.add('colab-df-spinner');\n",
              "      try {\n",
              "        const charts = await google.colab.kernel.invokeFunction(\n",
              "            'suggestCharts', [key], {});\n",
              "      } catch (error) {\n",
              "        console.error('Error during call to suggestCharts:', error);\n",
              "      }\n",
              "      quickchartButtonEl.classList.remove('colab-df-spinner');\n",
              "      quickchartButtonEl.classList.add('colab-df-quickchart-complete');\n",
              "    }\n",
              "    (() => {\n",
              "      let quickchartButtonEl =\n",
              "        document.querySelector('#df-9f6df843-3038-4f21-9078-ebae6b3a6f44 button');\n",
              "      quickchartButtonEl.style.display =\n",
              "        google.colab.kernel.accessAllowed ? 'block' : 'none';\n",
              "    })();\n",
              "  </script>\n",
              "</div>\n",
              "\n",
              "    </div>\n",
              "  </div>\n"
            ],
            "application/vnd.google.colaboratory.intrinsic+json": {
              "type": "dataframe",
              "variable_name": "df",
              "summary": "{\n  \"name\": \"df\",\n  \"rows\": 450,\n  \"fields\": [\n    {\n      \"column\": \"prompt\",\n      \"properties\": {\n        \"dtype\": \"string\",\n        \"samples\": [\n          \"That\\u2019s it!'\",\n          \"Oh, geez, Rick, that's not good. W-what are we gonna do? I-I have to be back at school right now. How are we gonna get back home?'\",\n          \"That, Morty, is why you don't go to therapy.'\"\n        ],\n        \"num_unique_values\": 440,\n        \"semantic_type\": \"\",\n        \"description\": \"\"\n      }\n    },\n    {\n      \"column\": \"completion\",\n      \"properties\": {\n        \"dtype\": \"string\",\n        \"samples\": [\n          \"Whoa, whoa! Morty! Give me that!'\",\n          \"There's ways to get back home, Morty. It's just it's just gonna be a little bit of a hassle. We're gonna have to go through interdimensional customs, so you're gonna have to do me a real solid.'\",\n          \"Don't let any of those things get away, Morty. If their DNA gets into Earth's food chain, our entire species could be sterilized.'\"\n        ],\n        \"num_unique_values\": 440,\n        \"semantic_type\": \"\",\n        \"description\": \"\"\n      }\n    },\n    {\n      \"column\": \"prompt_character\",\n      \"properties\": {\n        \"dtype\": \"category\",\n        \"samples\": [\n          \"Morty\",\n          \"Rick\"\n        ],\n        \"num_unique_values\": 2,\n        \"semantic_type\": \"\",\n        \"description\": \"\"\n      }\n    },\n    {\n      \"column\": \"completion_character\",\n      \"properties\": {\n        \"dtype\": \"category\",\n        \"samples\": [\n          \"Rick\",\n          \"Morty\"\n        ],\n        \"num_unique_values\": 2,\n        \"semantic_type\": \"\",\n        \"description\": \"\"\n      }\n    }\n  ]\n}"
            }
          },
          "metadata": {},
          "execution_count": 59
        }
      ]
    },
    {
      "cell_type": "code",
      "source": [
        "# check the lengths of the combined dataset\n",
        "print(len(df))"
      ],
      "metadata": {
        "colab": {
          "base_uri": "https://localhost:8080/"
        },
        "id": "v74daMF9QxMD",
        "outputId": "dfc53de0-f84a-450e-f740-324814345e83"
      },
      "execution_count": 60,
      "outputs": [
        {
          "output_type": "stream",
          "name": "stdout",
          "text": [
            "450\n"
          ]
        }
      ]
    },
    {
      "cell_type": "markdown",
      "source": [
        "## Train, test, split"
      ],
      "metadata": {
        "id": "v5cca4zILMl-"
      }
    },
    {
      "cell_type": "markdown",
      "source": [
        "This dataset doesn't have a test split defined in the hugginface file so we'll create one."
      ],
      "metadata": {
        "id": "7hoJFjraqD5O"
      }
    },
    {
      "cell_type": "code",
      "source": [
        "# train, test, split\n",
        "from sklearn.model_selection import train_test_split\n",
        "\n",
        "# Split the dataset into train and test sets\n",
        "train_df, test_df = train_test_split(df, test_size=0.2, random_state=42)\n",
        "\n",
        "# Display the first few rows of the train and test sets\n",
        "display(train_df.head())\n",
        "display(test_df.head())"
      ],
      "metadata": {
        "colab": {
          "base_uri": "https://localhost:8080/",
          "height": 395
        },
        "id": "IwGrlqHiP3dE",
        "outputId": "a9077294-d200-46eb-b8d8-9f269a5e2180"
      },
      "execution_count": 61,
      "outputs": [
        {
          "output_type": "display_data",
          "data": {
            "text/plain": [
              "                                                prompt  \\\n",
              "24        I don't care about Jessica! Y-Yyyyyyyyyyou—'   \n",
              "17                        And Jessica's gonna be Eve.'   \n",
              "135  Yeah, I can see that. But do you think you'll ...   \n",
              "316       Whooooa! Whoooooooa! Whoa! Whooooooooaaaaa!'   \n",
              "815                  Rick, are you really a musician?'   \n",
              "\n",
              "                                            completion prompt_character  \\\n",
              "24   You know what, Morty? You're right.  Let's for...            Morty   \n",
              "17                                         Whhhh-wha?'             Rick   \n",
              "135  Are you kidding me?! That's it, Rick! That's t...             Rick   \n",
              "316      AAAAAAAAAAAAAAAAAAAAAAAAHHHHHHHHHH!!!!!!!!!!'            Morty   \n",
              "815                      Who’s NOT a musician, Morty?'            Morty   \n",
              "\n",
              "    completion_character  \n",
              "24                  Rick  \n",
              "17                 Morty  \n",
              "135                Morty  \n",
              "316                Morty  \n",
              "815                 Rick  "
            ],
            "text/html": [
              "\n",
              "  <div id=\"df-e3f855a2-bef4-4716-9593-5d90679ba195\" class=\"colab-df-container\">\n",
              "    <div>\n",
              "<style scoped>\n",
              "    .dataframe tbody tr th:only-of-type {\n",
              "        vertical-align: middle;\n",
              "    }\n",
              "\n",
              "    .dataframe tbody tr th {\n",
              "        vertical-align: top;\n",
              "    }\n",
              "\n",
              "    .dataframe thead th {\n",
              "        text-align: right;\n",
              "    }\n",
              "</style>\n",
              "<table border=\"1\" class=\"dataframe\">\n",
              "  <thead>\n",
              "    <tr style=\"text-align: right;\">\n",
              "      <th></th>\n",
              "      <th>prompt</th>\n",
              "      <th>completion</th>\n",
              "      <th>prompt_character</th>\n",
              "      <th>completion_character</th>\n",
              "    </tr>\n",
              "  </thead>\n",
              "  <tbody>\n",
              "    <tr>\n",
              "      <th>24</th>\n",
              "      <td>I don't care about Jessica! Y-Yyyyyyyyyyou—'</td>\n",
              "      <td>You know what, Morty? You're right.  Let's for...</td>\n",
              "      <td>Morty</td>\n",
              "      <td>Rick</td>\n",
              "    </tr>\n",
              "    <tr>\n",
              "      <th>17</th>\n",
              "      <td>And Jessica's gonna be Eve.'</td>\n",
              "      <td>Whhhh-wha?'</td>\n",
              "      <td>Rick</td>\n",
              "      <td>Morty</td>\n",
              "    </tr>\n",
              "    <tr>\n",
              "      <th>135</th>\n",
              "      <td>Yeah, I can see that. But do you think you'll ...</td>\n",
              "      <td>Are you kidding me?! That's it, Rick! That's t...</td>\n",
              "      <td>Rick</td>\n",
              "      <td>Morty</td>\n",
              "    </tr>\n",
              "    <tr>\n",
              "      <th>316</th>\n",
              "      <td>Whooooa! Whoooooooa! Whoa! Whooooooooaaaaa!'</td>\n",
              "      <td>AAAAAAAAAAAAAAAAAAAAAAAAHHHHHHHHHH!!!!!!!!!!'</td>\n",
              "      <td>Morty</td>\n",
              "      <td>Morty</td>\n",
              "    </tr>\n",
              "    <tr>\n",
              "      <th>815</th>\n",
              "      <td>Rick, are you really a musician?'</td>\n",
              "      <td>Who’s NOT a musician, Morty?'</td>\n",
              "      <td>Morty</td>\n",
              "      <td>Rick</td>\n",
              "    </tr>\n",
              "  </tbody>\n",
              "</table>\n",
              "</div>\n",
              "    <div class=\"colab-df-buttons\">\n",
              "\n",
              "  <div class=\"colab-df-container\">\n",
              "    <button class=\"colab-df-convert\" onclick=\"convertToInteractive('df-e3f855a2-bef4-4716-9593-5d90679ba195')\"\n",
              "            title=\"Convert this dataframe to an interactive table.\"\n",
              "            style=\"display:none;\">\n",
              "\n",
              "  <svg xmlns=\"http://www.w3.org/2000/svg\" height=\"24px\" viewBox=\"0 -960 960 960\">\n",
              "    <path d=\"M120-120v-720h720v720H120Zm60-500h600v-160H180v160Zm220 220h160v-160H400v160Zm0 220h160v-160H400v160ZM180-400h160v-160H180v160Zm440 0h160v-160H620v160ZM180-180h160v-160H180v160Zm440 0h160v-160H620v160Z\"/>\n",
              "  </svg>\n",
              "    </button>\n",
              "\n",
              "  <style>\n",
              "    .colab-df-container {\n",
              "      display:flex;\n",
              "      gap: 12px;\n",
              "    }\n",
              "\n",
              "    .colab-df-convert {\n",
              "      background-color: #E8F0FE;\n",
              "      border: none;\n",
              "      border-radius: 50%;\n",
              "      cursor: pointer;\n",
              "      display: none;\n",
              "      fill: #1967D2;\n",
              "      height: 32px;\n",
              "      padding: 0 0 0 0;\n",
              "      width: 32px;\n",
              "    }\n",
              "\n",
              "    .colab-df-convert:hover {\n",
              "      background-color: #E2EBFA;\n",
              "      box-shadow: 0px 1px 2px rgba(60, 64, 67, 0.3), 0px 1px 3px 1px rgba(60, 64, 67, 0.15);\n",
              "      fill: #174EA6;\n",
              "    }\n",
              "\n",
              "    .colab-df-buttons div {\n",
              "      margin-bottom: 4px;\n",
              "    }\n",
              "\n",
              "    [theme=dark] .colab-df-convert {\n",
              "      background-color: #3B4455;\n",
              "      fill: #D2E3FC;\n",
              "    }\n",
              "\n",
              "    [theme=dark] .colab-df-convert:hover {\n",
              "      background-color: #434B5C;\n",
              "      box-shadow: 0px 1px 3px 1px rgba(0, 0, 0, 0.15);\n",
              "      filter: drop-shadow(0px 1px 2px rgba(0, 0, 0, 0.3));\n",
              "      fill: #FFFFFF;\n",
              "    }\n",
              "  </style>\n",
              "\n",
              "    <script>\n",
              "      const buttonEl =\n",
              "        document.querySelector('#df-e3f855a2-bef4-4716-9593-5d90679ba195 button.colab-df-convert');\n",
              "      buttonEl.style.display =\n",
              "        google.colab.kernel.accessAllowed ? 'block' : 'none';\n",
              "\n",
              "      async function convertToInteractive(key) {\n",
              "        const element = document.querySelector('#df-e3f855a2-bef4-4716-9593-5d90679ba195');\n",
              "        const dataTable =\n",
              "          await google.colab.kernel.invokeFunction('convertToInteractive',\n",
              "                                                    [key], {});\n",
              "        if (!dataTable) return;\n",
              "\n",
              "        const docLinkHtml = 'Like what you see? Visit the ' +\n",
              "          '<a target=\"_blank\" href=https://colab.research.google.com/notebooks/data_table.ipynb>data table notebook</a>'\n",
              "          + ' to learn more about interactive tables.';\n",
              "        element.innerHTML = '';\n",
              "        dataTable['output_type'] = 'display_data';\n",
              "        await google.colab.output.renderOutput(dataTable, element);\n",
              "        const docLink = document.createElement('div');\n",
              "        docLink.innerHTML = docLinkHtml;\n",
              "        element.appendChild(docLink);\n",
              "      }\n",
              "    </script>\n",
              "  </div>\n",
              "\n",
              "\n",
              "<div id=\"df-e0b194e0-2146-4127-9b77-86a5a0751c55\">\n",
              "  <button class=\"colab-df-quickchart\" onclick=\"quickchart('df-e0b194e0-2146-4127-9b77-86a5a0751c55')\"\n",
              "            title=\"Suggest charts\"\n",
              "            style=\"display:none;\">\n",
              "\n",
              "<svg xmlns=\"http://www.w3.org/2000/svg\" height=\"24px\"viewBox=\"0 0 24 24\"\n",
              "     width=\"24px\">\n",
              "    <g>\n",
              "        <path d=\"M19 3H5c-1.1 0-2 .9-2 2v14c0 1.1.9 2 2 2h14c1.1 0 2-.9 2-2V5c0-1.1-.9-2-2-2zM9 17H7v-7h2v7zm4 0h-2V7h2v10zm4 0h-2v-4h2v4z\"/>\n",
              "    </g>\n",
              "</svg>\n",
              "  </button>\n",
              "\n",
              "<style>\n",
              "  .colab-df-quickchart {\n",
              "      --bg-color: #E8F0FE;\n",
              "      --fill-color: #1967D2;\n",
              "      --hover-bg-color: #E2EBFA;\n",
              "      --hover-fill-color: #174EA6;\n",
              "      --disabled-fill-color: #AAA;\n",
              "      --disabled-bg-color: #DDD;\n",
              "  }\n",
              "\n",
              "  [theme=dark] .colab-df-quickchart {\n",
              "      --bg-color: #3B4455;\n",
              "      --fill-color: #D2E3FC;\n",
              "      --hover-bg-color: #434B5C;\n",
              "      --hover-fill-color: #FFFFFF;\n",
              "      --disabled-bg-color: #3B4455;\n",
              "      --disabled-fill-color: #666;\n",
              "  }\n",
              "\n",
              "  .colab-df-quickchart {\n",
              "    background-color: var(--bg-color);\n",
              "    border: none;\n",
              "    border-radius: 50%;\n",
              "    cursor: pointer;\n",
              "    display: none;\n",
              "    fill: var(--fill-color);\n",
              "    height: 32px;\n",
              "    padding: 0;\n",
              "    width: 32px;\n",
              "  }\n",
              "\n",
              "  .colab-df-quickchart:hover {\n",
              "    background-color: var(--hover-bg-color);\n",
              "    box-shadow: 0 1px 2px rgba(60, 64, 67, 0.3), 0 1px 3px 1px rgba(60, 64, 67, 0.15);\n",
              "    fill: var(--button-hover-fill-color);\n",
              "  }\n",
              "\n",
              "  .colab-df-quickchart-complete:disabled,\n",
              "  .colab-df-quickchart-complete:disabled:hover {\n",
              "    background-color: var(--disabled-bg-color);\n",
              "    fill: var(--disabled-fill-color);\n",
              "    box-shadow: none;\n",
              "  }\n",
              "\n",
              "  .colab-df-spinner {\n",
              "    border: 2px solid var(--fill-color);\n",
              "    border-color: transparent;\n",
              "    border-bottom-color: var(--fill-color);\n",
              "    animation:\n",
              "      spin 1s steps(1) infinite;\n",
              "  }\n",
              "\n",
              "  @keyframes spin {\n",
              "    0% {\n",
              "      border-color: transparent;\n",
              "      border-bottom-color: var(--fill-color);\n",
              "      border-left-color: var(--fill-color);\n",
              "    }\n",
              "    20% {\n",
              "      border-color: transparent;\n",
              "      border-left-color: var(--fill-color);\n",
              "      border-top-color: var(--fill-color);\n",
              "    }\n",
              "    30% {\n",
              "      border-color: transparent;\n",
              "      border-left-color: var(--fill-color);\n",
              "      border-top-color: var(--fill-color);\n",
              "      border-right-color: var(--fill-color);\n",
              "    }\n",
              "    40% {\n",
              "      border-color: transparent;\n",
              "      border-right-color: var(--fill-color);\n",
              "      border-top-color: var(--fill-color);\n",
              "    }\n",
              "    60% {\n",
              "      border-color: transparent;\n",
              "      border-right-color: var(--fill-color);\n",
              "    }\n",
              "    80% {\n",
              "      border-color: transparent;\n",
              "      border-right-color: var(--fill-color);\n",
              "      border-bottom-color: var(--fill-color);\n",
              "    }\n",
              "    90% {\n",
              "      border-color: transparent;\n",
              "      border-bottom-color: var(--fill-color);\n",
              "    }\n",
              "  }\n",
              "</style>\n",
              "\n",
              "  <script>\n",
              "    async function quickchart(key) {\n",
              "      const quickchartButtonEl =\n",
              "        document.querySelector('#' + key + ' button');\n",
              "      quickchartButtonEl.disabled = true;  // To prevent multiple clicks.\n",
              "      quickchartButtonEl.classList.add('colab-df-spinner');\n",
              "      try {\n",
              "        const charts = await google.colab.kernel.invokeFunction(\n",
              "            'suggestCharts', [key], {});\n",
              "      } catch (error) {\n",
              "        console.error('Error during call to suggestCharts:', error);\n",
              "      }\n",
              "      quickchartButtonEl.classList.remove('colab-df-spinner');\n",
              "      quickchartButtonEl.classList.add('colab-df-quickchart-complete');\n",
              "    }\n",
              "    (() => {\n",
              "      let quickchartButtonEl =\n",
              "        document.querySelector('#df-e0b194e0-2146-4127-9b77-86a5a0751c55 button');\n",
              "      quickchartButtonEl.style.display =\n",
              "        google.colab.kernel.accessAllowed ? 'block' : 'none';\n",
              "    })();\n",
              "  </script>\n",
              "</div>\n",
              "\n",
              "    </div>\n",
              "  </div>\n"
            ],
            "application/vnd.google.colaboratory.intrinsic+json": {
              "type": "dataframe",
              "summary": "{\n  \"name\": \"display(test_df\",\n  \"rows\": 5,\n  \"fields\": [\n    {\n      \"column\": \"prompt\",\n      \"properties\": {\n        \"dtype\": \"string\",\n        \"samples\": [\n          \"And Jessica's gonna be Eve.'\",\n          \"Rick, are you really a musician?'\",\n          \"Yeah, I can see that. But do you think you'll still be able to help me collect my seeds, Morty?'\"\n        ],\n        \"num_unique_values\": 5,\n        \"semantic_type\": \"\",\n        \"description\": \"\"\n      }\n    },\n    {\n      \"column\": \"completion\",\n      \"properties\": {\n        \"dtype\": \"string\",\n        \"samples\": [\n          \"Whhhh-wha?'\",\n          \"Who\\u2019s NOT a musician, Morty?'\",\n          \"Are you kidding me?! That's it, Rick! That's the last straw! I can't believe this! I'm sitting here with both of my legs broken, and you're still asking me about getting those seeds?! Ooh! Ow! Oh! Y-y-you're a monster. Y-you're like Hitler, but-but even Hitler cared about Germany or something.'\"\n        ],\n        \"num_unique_values\": 5,\n        \"semantic_type\": \"\",\n        \"description\": \"\"\n      }\n    },\n    {\n      \"column\": \"prompt_character\",\n      \"properties\": {\n        \"dtype\": \"category\",\n        \"samples\": [\n          \"Rick\",\n          \"Morty\"\n        ],\n        \"num_unique_values\": 2,\n        \"semantic_type\": \"\",\n        \"description\": \"\"\n      }\n    },\n    {\n      \"column\": \"completion_character\",\n      \"properties\": {\n        \"dtype\": \"category\",\n        \"samples\": [\n          \"Morty\",\n          \"Rick\"\n        ],\n        \"num_unique_values\": 2,\n        \"semantic_type\": \"\",\n        \"description\": \"\"\n      }\n    }\n  ]\n}"
            }
          },
          "metadata": {}
        },
        {
          "output_type": "display_data",
          "data": {
            "text/plain": [
              "                                                 prompt  \\\n",
              "1634  I-It's just something Rick starts talking abou...   \n",
              "1745  Well, you can keep wondering that while we go ...   \n",
              "236   Full disclosure, Morty it's not. Temporary sup...   \n",
              "30    Alright. I'll-I'll land. I'll land. I'll land....   \n",
              "1661  Jesus Christ, what a shitty neutrino bomb. it'...   \n",
              "\n",
              "                                             completion prompt_character  \\\n",
              "1634  W-What? In w--In w-w-what--In what way? Like, ...            Morty   \n",
              "1745                    Man. Glad I’m not one of them!'             Rick   \n",
              "236                                           Aw, man.'             Rick   \n",
              "30    We'll park it right here, Morty. Right here on...             Rick   \n",
              "1661  Oh, I don't know. You managed to destroy just ...             Rick   \n",
              "\n",
              "     completion_character  \n",
              "1634                 Rick  \n",
              "1745                Morty  \n",
              "236                 Morty  \n",
              "30                   Rick  \n",
              "1661                Morty  "
            ],
            "text/html": [
              "\n",
              "  <div id=\"df-41259fc9-44cc-40c5-9448-09135860d997\" class=\"colab-df-container\">\n",
              "    <div>\n",
              "<style scoped>\n",
              "    .dataframe tbody tr th:only-of-type {\n",
              "        vertical-align: middle;\n",
              "    }\n",
              "\n",
              "    .dataframe tbody tr th {\n",
              "        vertical-align: top;\n",
              "    }\n",
              "\n",
              "    .dataframe thead th {\n",
              "        text-align: right;\n",
              "    }\n",
              "</style>\n",
              "<table border=\"1\" class=\"dataframe\">\n",
              "  <thead>\n",
              "    <tr style=\"text-align: right;\">\n",
              "      <th></th>\n",
              "      <th>prompt</th>\n",
              "      <th>completion</th>\n",
              "      <th>prompt_character</th>\n",
              "      <th>completion_character</th>\n",
              "    </tr>\n",
              "  </thead>\n",
              "  <tbody>\n",
              "    <tr>\n",
              "      <th>1634</th>\n",
              "      <td>I-It's just something Rick starts talking abou...</td>\n",
              "      <td>W-What? In w--In w-w-what--In what way? Like, ...</td>\n",
              "      <td>Morty</td>\n",
              "      <td>Rick</td>\n",
              "    </tr>\n",
              "    <tr>\n",
              "      <th>1745</th>\n",
              "      <td>Well, you can keep wondering that while we go ...</td>\n",
              "      <td>Man. Glad I’m not one of them!'</td>\n",
              "      <td>Rick</td>\n",
              "      <td>Morty</td>\n",
              "    </tr>\n",
              "    <tr>\n",
              "      <th>236</th>\n",
              "      <td>Full disclosure, Morty it's not. Temporary sup...</td>\n",
              "      <td>Aw, man.'</td>\n",
              "      <td>Rick</td>\n",
              "      <td>Morty</td>\n",
              "    </tr>\n",
              "    <tr>\n",
              "      <th>30</th>\n",
              "      <td>Alright. I'll-I'll land. I'll land. I'll land....</td>\n",
              "      <td>We'll park it right here, Morty. Right here on...</td>\n",
              "      <td>Rick</td>\n",
              "      <td>Rick</td>\n",
              "    </tr>\n",
              "    <tr>\n",
              "      <th>1661</th>\n",
              "      <td>Jesus Christ, what a shitty neutrino bomb. it'...</td>\n",
              "      <td>Oh, I don't know. You managed to destroy just ...</td>\n",
              "      <td>Rick</td>\n",
              "      <td>Morty</td>\n",
              "    </tr>\n",
              "  </tbody>\n",
              "</table>\n",
              "</div>\n",
              "    <div class=\"colab-df-buttons\">\n",
              "\n",
              "  <div class=\"colab-df-container\">\n",
              "    <button class=\"colab-df-convert\" onclick=\"convertToInteractive('df-41259fc9-44cc-40c5-9448-09135860d997')\"\n",
              "            title=\"Convert this dataframe to an interactive table.\"\n",
              "            style=\"display:none;\">\n",
              "\n",
              "  <svg xmlns=\"http://www.w3.org/2000/svg\" height=\"24px\" viewBox=\"0 -960 960 960\">\n",
              "    <path d=\"M120-120v-720h720v720H120Zm60-500h600v-160H180v160Zm220 220h160v-160H400v160Zm0 220h160v-160H400v160ZM180-400h160v-160H180v160Zm440 0h160v-160H620v160ZM180-180h160v-160H180v160Zm440 0h160v-160H620v160Z\"/>\n",
              "  </svg>\n",
              "    </button>\n",
              "\n",
              "  <style>\n",
              "    .colab-df-container {\n",
              "      display:flex;\n",
              "      gap: 12px;\n",
              "    }\n",
              "\n",
              "    .colab-df-convert {\n",
              "      background-color: #E8F0FE;\n",
              "      border: none;\n",
              "      border-radius: 50%;\n",
              "      cursor: pointer;\n",
              "      display: none;\n",
              "      fill: #1967D2;\n",
              "      height: 32px;\n",
              "      padding: 0 0 0 0;\n",
              "      width: 32px;\n",
              "    }\n",
              "\n",
              "    .colab-df-convert:hover {\n",
              "      background-color: #E2EBFA;\n",
              "      box-shadow: 0px 1px 2px rgba(60, 64, 67, 0.3), 0px 1px 3px 1px rgba(60, 64, 67, 0.15);\n",
              "      fill: #174EA6;\n",
              "    }\n",
              "\n",
              "    .colab-df-buttons div {\n",
              "      margin-bottom: 4px;\n",
              "    }\n",
              "\n",
              "    [theme=dark] .colab-df-convert {\n",
              "      background-color: #3B4455;\n",
              "      fill: #D2E3FC;\n",
              "    }\n",
              "\n",
              "    [theme=dark] .colab-df-convert:hover {\n",
              "      background-color: #434B5C;\n",
              "      box-shadow: 0px 1px 3px 1px rgba(0, 0, 0, 0.15);\n",
              "      filter: drop-shadow(0px 1px 2px rgba(0, 0, 0, 0.3));\n",
              "      fill: #FFFFFF;\n",
              "    }\n",
              "  </style>\n",
              "\n",
              "    <script>\n",
              "      const buttonEl =\n",
              "        document.querySelector('#df-41259fc9-44cc-40c5-9448-09135860d997 button.colab-df-convert');\n",
              "      buttonEl.style.display =\n",
              "        google.colab.kernel.accessAllowed ? 'block' : 'none';\n",
              "\n",
              "      async function convertToInteractive(key) {\n",
              "        const element = document.querySelector('#df-41259fc9-44cc-40c5-9448-09135860d997');\n",
              "        const dataTable =\n",
              "          await google.colab.kernel.invokeFunction('convertToInteractive',\n",
              "                                                    [key], {});\n",
              "        if (!dataTable) return;\n",
              "\n",
              "        const docLinkHtml = 'Like what you see? Visit the ' +\n",
              "          '<a target=\"_blank\" href=https://colab.research.google.com/notebooks/data_table.ipynb>data table notebook</a>'\n",
              "          + ' to learn more about interactive tables.';\n",
              "        element.innerHTML = '';\n",
              "        dataTable['output_type'] = 'display_data';\n",
              "        await google.colab.output.renderOutput(dataTable, element);\n",
              "        const docLink = document.createElement('div');\n",
              "        docLink.innerHTML = docLinkHtml;\n",
              "        element.appendChild(docLink);\n",
              "      }\n",
              "    </script>\n",
              "  </div>\n",
              "\n",
              "\n",
              "<div id=\"df-caaba9be-17bf-4a93-8791-3aaa0fcf01d0\">\n",
              "  <button class=\"colab-df-quickchart\" onclick=\"quickchart('df-caaba9be-17bf-4a93-8791-3aaa0fcf01d0')\"\n",
              "            title=\"Suggest charts\"\n",
              "            style=\"display:none;\">\n",
              "\n",
              "<svg xmlns=\"http://www.w3.org/2000/svg\" height=\"24px\"viewBox=\"0 0 24 24\"\n",
              "     width=\"24px\">\n",
              "    <g>\n",
              "        <path d=\"M19 3H5c-1.1 0-2 .9-2 2v14c0 1.1.9 2 2 2h14c1.1 0 2-.9 2-2V5c0-1.1-.9-2-2-2zM9 17H7v-7h2v7zm4 0h-2V7h2v10zm4 0h-2v-4h2v4z\"/>\n",
              "    </g>\n",
              "</svg>\n",
              "  </button>\n",
              "\n",
              "<style>\n",
              "  .colab-df-quickchart {\n",
              "      --bg-color: #E8F0FE;\n",
              "      --fill-color: #1967D2;\n",
              "      --hover-bg-color: #E2EBFA;\n",
              "      --hover-fill-color: #174EA6;\n",
              "      --disabled-fill-color: #AAA;\n",
              "      --disabled-bg-color: #DDD;\n",
              "  }\n",
              "\n",
              "  [theme=dark] .colab-df-quickchart {\n",
              "      --bg-color: #3B4455;\n",
              "      --fill-color: #D2E3FC;\n",
              "      --hover-bg-color: #434B5C;\n",
              "      --hover-fill-color: #FFFFFF;\n",
              "      --disabled-bg-color: #3B4455;\n",
              "      --disabled-fill-color: #666;\n",
              "  }\n",
              "\n",
              "  .colab-df-quickchart {\n",
              "    background-color: var(--bg-color);\n",
              "    border: none;\n",
              "    border-radius: 50%;\n",
              "    cursor: pointer;\n",
              "    display: none;\n",
              "    fill: var(--fill-color);\n",
              "    height: 32px;\n",
              "    padding: 0;\n",
              "    width: 32px;\n",
              "  }\n",
              "\n",
              "  .colab-df-quickchart:hover {\n",
              "    background-color: var(--hover-bg-color);\n",
              "    box-shadow: 0 1px 2px rgba(60, 64, 67, 0.3), 0 1px 3px 1px rgba(60, 64, 67, 0.15);\n",
              "    fill: var(--button-hover-fill-color);\n",
              "  }\n",
              "\n",
              "  .colab-df-quickchart-complete:disabled,\n",
              "  .colab-df-quickchart-complete:disabled:hover {\n",
              "    background-color: var(--disabled-bg-color);\n",
              "    fill: var(--disabled-fill-color);\n",
              "    box-shadow: none;\n",
              "  }\n",
              "\n",
              "  .colab-df-spinner {\n",
              "    border: 2px solid var(--fill-color);\n",
              "    border-color: transparent;\n",
              "    border-bottom-color: var(--fill-color);\n",
              "    animation:\n",
              "      spin 1s steps(1) infinite;\n",
              "  }\n",
              "\n",
              "  @keyframes spin {\n",
              "    0% {\n",
              "      border-color: transparent;\n",
              "      border-bottom-color: var(--fill-color);\n",
              "      border-left-color: var(--fill-color);\n",
              "    }\n",
              "    20% {\n",
              "      border-color: transparent;\n",
              "      border-left-color: var(--fill-color);\n",
              "      border-top-color: var(--fill-color);\n",
              "    }\n",
              "    30% {\n",
              "      border-color: transparent;\n",
              "      border-left-color: var(--fill-color);\n",
              "      border-top-color: var(--fill-color);\n",
              "      border-right-color: var(--fill-color);\n",
              "    }\n",
              "    40% {\n",
              "      border-color: transparent;\n",
              "      border-right-color: var(--fill-color);\n",
              "      border-top-color: var(--fill-color);\n",
              "    }\n",
              "    60% {\n",
              "      border-color: transparent;\n",
              "      border-right-color: var(--fill-color);\n",
              "    }\n",
              "    80% {\n",
              "      border-color: transparent;\n",
              "      border-right-color: var(--fill-color);\n",
              "      border-bottom-color: var(--fill-color);\n",
              "    }\n",
              "    90% {\n",
              "      border-color: transparent;\n",
              "      border-bottom-color: var(--fill-color);\n",
              "    }\n",
              "  }\n",
              "</style>\n",
              "\n",
              "  <script>\n",
              "    async function quickchart(key) {\n",
              "      const quickchartButtonEl =\n",
              "        document.querySelector('#' + key + ' button');\n",
              "      quickchartButtonEl.disabled = true;  // To prevent multiple clicks.\n",
              "      quickchartButtonEl.classList.add('colab-df-spinner');\n",
              "      try {\n",
              "        const charts = await google.colab.kernel.invokeFunction(\n",
              "            'suggestCharts', [key], {});\n",
              "      } catch (error) {\n",
              "        console.error('Error during call to suggestCharts:', error);\n",
              "      }\n",
              "      quickchartButtonEl.classList.remove('colab-df-spinner');\n",
              "      quickchartButtonEl.classList.add('colab-df-quickchart-complete');\n",
              "    }\n",
              "    (() => {\n",
              "      let quickchartButtonEl =\n",
              "        document.querySelector('#df-caaba9be-17bf-4a93-8791-3aaa0fcf01d0 button');\n",
              "      quickchartButtonEl.style.display =\n",
              "        google.colab.kernel.accessAllowed ? 'block' : 'none';\n",
              "    })();\n",
              "  </script>\n",
              "</div>\n",
              "\n",
              "    </div>\n",
              "  </div>\n"
            ],
            "application/vnd.google.colaboratory.intrinsic+json": {
              "type": "dataframe",
              "summary": "{\n  \"name\": \"display(test_df\",\n  \"rows\": 5,\n  \"fields\": [\n    {\n      \"column\": \"prompt\",\n      \"properties\": {\n        \"dtype\": \"string\",\n        \"samples\": [\n          \"Well, you can keep wondering that while we go on our fun, fresh, self-contained adventure to Atlantis.  Anyone continuing to explore the Citadel is either stupid, or one of the unfortunate millions held hostage by their terrible ideas.'\",\n          \"Jesus Christ, what a shitty neutrino bomb. it's a miracle I actually every destroy anything.'\",\n          \"Full disclosure, Morty it's not. Temporary superintelligence is just a side effect of the mega seeds dissolving in your rectal cavity.'\"\n        ],\n        \"num_unique_values\": 5,\n        \"semantic_type\": \"\",\n        \"description\": \"\"\n      }\n    },\n    {\n      \"column\": \"completion\",\n      \"properties\": {\n        \"dtype\": \"string\",\n        \"samples\": [\n          \"Man. Glad I\\u2019m not one of them!'\",\n          \"Oh, I don't know. You managed to destroy just about everything today; the villains, the heroes, the lines between them, my childhood...'\",\n          \"Aw, man.'\"\n        ],\n        \"num_unique_values\": 5,\n        \"semantic_type\": \"\",\n        \"description\": \"\"\n      }\n    },\n    {\n      \"column\": \"prompt_character\",\n      \"properties\": {\n        \"dtype\": \"category\",\n        \"samples\": [\n          \"Rick\",\n          \"Morty\"\n        ],\n        \"num_unique_values\": 2,\n        \"semantic_type\": \"\",\n        \"description\": \"\"\n      }\n    },\n    {\n      \"column\": \"completion_character\",\n      \"properties\": {\n        \"dtype\": \"category\",\n        \"samples\": [\n          \"Morty\",\n          \"Rick\"\n        ],\n        \"num_unique_values\": 2,\n        \"semantic_type\": \"\",\n        \"description\": \"\"\n      }\n    }\n  ]\n}"
            }
          },
          "metadata": {}
        }
      ]
    },
    {
      "cell_type": "markdown",
      "source": [
        "## jsonl object & file generation\n",
        "\n",
        "The file structure required for training payload using Anyscale is .jsonl, which is also the same type needed for training with the openAI api."
      ],
      "metadata": {
        "id": "Qlyi4eYwh0jI"
      }
    },
    {
      "cell_type": "markdown",
      "source": [
        "Create a function to convert a row to the specified JSON structure."
      ],
      "metadata": {
        "id": "eURUYoJGh966"
      }
    },
    {
      "cell_type": "code",
      "source": [
        "def row_to_jsonl(row):\n",
        "    prompt_character = row['prompt_character']\n",
        "    completion_character = row['completion_character']\n",
        "    return {\n",
        "        'messages': [\n",
        "            {'role': 'system', 'content': f'You are a Rick & Morty dialogue generator. Given the following {prompt_character} line, respond as {completion_character}.' },\n",
        "            {'role': 'user', 'content': row['prompt']},\n",
        "            {'role': 'assistant', 'content': row['completion']}\n",
        "        ]\n",
        "    }\n",
        "\n",
        "for i in range(5):\n",
        "    print(row_to_jsonl(train_df.iloc[i]))"
      ],
      "metadata": {
        "colab": {
          "base_uri": "https://localhost:8080/"
        },
        "id": "nG3ej4Msh_45",
        "outputId": "8d883efa-3b7a-449b-f62c-861a0f4f97b2"
      },
      "execution_count": 62,
      "outputs": [
        {
          "output_type": "stream",
          "name": "stdout",
          "text": [
            "{'messages': [{'role': 'system', 'content': 'You are a Rick & Morty dialogue generator. Given the following Morty line, respond as Rick.'}, {'role': 'user', 'content': \"I don't care about Jessica! Y-Yyyyyyyyyyou—'\"}, {'role': 'assistant', 'content': \"You know what, Morty? You're right.  Let's forget the girl altogether. She, she's probably nothing but trouble, anyways.'\"}]}\n",
            "{'messages': [{'role': 'system', 'content': 'You are a Rick & Morty dialogue generator. Given the following Rick line, respond as Morty.'}, {'role': 'user', 'content': \"And Jessica's gonna be Eve.'\"}, {'role': 'assistant', 'content': \"Whhhh-wha?'\"}]}\n",
            "{'messages': [{'role': 'system', 'content': 'You are a Rick & Morty dialogue generator. Given the following Rick line, respond as Morty.'}, {'role': 'user', 'content': \"Yeah, I can see that. But do you think you'll still be able to help me collect my seeds, Morty?'\"}, {'role': 'assistant', 'content': \"Are you kidding me?! That's it, Rick! That's the last straw! I can't believe this! I'm sitting here with both of my legs broken, and you're still asking me about getting those seeds?! Ooh! Ow! Oh! Y-y-you're a monster. Y-you're like Hitler, but-but even Hitler cared about Germany or something.'\"}]}\n",
            "{'messages': [{'role': 'system', 'content': 'You are a Rick & Morty dialogue generator. Given the following Morty line, respond as Morty.'}, {'role': 'user', 'content': \"Whooooa! Whoooooooa! Whoa! Whooooooooaaaaa!'\"}, {'role': 'assistant', 'content': \"AAAAAAAAAAAAAAAAAAAAAAAAHHHHHHHHHH!!!!!!!!!!'\"}]}\n",
            "{'messages': [{'role': 'system', 'content': 'You are a Rick & Morty dialogue generator. Given the following Morty line, respond as Rick.'}, {'role': 'user', 'content': \"Rick, are you really a musician?'\"}, {'role': 'assistant', 'content': \"Who’s NOT a musician, Morty?'\"}]}\n"
          ]
        }
      ]
    },
    {
      "cell_type": "markdown",
      "source": [
        "Convert each row in the filtered DataFrame to the desired JSON structure"
      ],
      "metadata": {
        "id": "l6Kylp6NiBeb"
      }
    },
    {
      "cell_type": "code",
      "source": [
        "train_json_objects = [row_to_jsonl(row) for index, row in train_df.iterrows()]\n",
        "test_json_objects = [row_to_jsonl(row) for index, row in test_df.iterrows()]"
      ],
      "metadata": {
        "id": "TkAb1uRQiCfk"
      },
      "execution_count": 63,
      "outputs": []
    },
    {
      "cell_type": "code",
      "source": [
        "print(train_json_objects[0])\n",
        "print(test_json_objects[0])"
      ],
      "metadata": {
        "colab": {
          "base_uri": "https://localhost:8080/"
        },
        "id": "ZMSdHlxQDXLw",
        "outputId": "44bdb3c1-6591-4043-868d-ba4b51bff211"
      },
      "execution_count": 64,
      "outputs": [
        {
          "output_type": "stream",
          "name": "stdout",
          "text": [
            "{'messages': [{'role': 'system', 'content': 'You are a Rick & Morty dialogue generator. Given the following Morty line, respond as Rick.'}, {'role': 'user', 'content': \"I don't care about Jessica! Y-Yyyyyyyyyyou—'\"}, {'role': 'assistant', 'content': \"You know what, Morty? You're right.  Let's forget the girl altogether. She, she's probably nothing but trouble, anyways.'\"}]}\n",
            "{'messages': [{'role': 'system', 'content': 'You are a Rick & Morty dialogue generator. Given the following Morty line, respond as Rick.'}, {'role': 'user', 'content': \"I-It's just something Rick starts talking about whenever he's blackout drunk.'\"}, {'role': 'assistant', 'content': \"W-What? In w--In w-w-what--In what way? Like, w-w-what's my point?'\"}]}\n"
          ]
        }
      ]
    },
    {
      "cell_type": "markdown",
      "source": [
        "Define the path for the output .jsonl file"
      ],
      "metadata": {
        "id": "F3Mxe7PWiFE7"
      }
    },
    {
      "cell_type": "code",
      "source": [
        "train_output_file_path = 'converted_train_rick_n_morty.jsonl'\n",
        "test_output_file_path = 'converted_test_rick_n_morty.jsonl'"
      ],
      "metadata": {
        "id": "FVhoKSnNiHDX"
      },
      "execution_count": 65,
      "outputs": []
    },
    {
      "cell_type": "markdown",
      "source": [
        "Write the JSON objects to a .jsonl file"
      ],
      "metadata": {
        "id": "y2cqSML5iI8-"
      }
    },
    {
      "cell_type": "code",
      "source": [
        "with open(train_output_file_path, 'w') as outfile:\n",
        "    for obj in train_json_objects:\n",
        "        json_line = json.dumps(obj)  # Convert the dictionary to a JSON string\n",
        "        outfile.write(json_line + '\\n')"
      ],
      "metadata": {
        "id": "QB208xEgiH-9"
      },
      "execution_count": 66,
      "outputs": []
    },
    {
      "cell_type": "code",
      "source": [
        "with open(test_output_file_path, 'w') as outfile:\n",
        "    for obj in test_json_objects:\n",
        "        json_line = json.dumps(obj)  # Convert the dictionary to a JSON string\n",
        "        outfile.write(json_line + '\\n')"
      ],
      "metadata": {
        "id": "GgvOiVL4RYzS"
      },
      "execution_count": 67,
      "outputs": []
    },
    {
      "cell_type": "markdown",
      "source": [
        "# Anyscale Training"
      ],
      "metadata": {
        "id": "9IGcYTcYG4TW"
      }
    },
    {
      "cell_type": "markdown",
      "source": [
        "Get our API key. You can set up yours with the little keys icon on the left-side pane in colab."
      ],
      "metadata": {
        "id": "ChnJLNfhVovC"
      }
    },
    {
      "cell_type": "code",
      "source": [
        "from google.colab import userdata\n",
        "# userdata.get('ANYSCALE_API_KEY')"
      ],
      "metadata": {
        "id": "QBfzzwzwG7aK"
      },
      "execution_count": 68,
      "outputs": []
    },
    {
      "cell_type": "markdown",
      "source": [
        "Initiate the openAI client pointed at the Anyscale endpoint."
      ],
      "metadata": {
        "id": "DzMTk4XnVvL3"
      }
    },
    {
      "cell_type": "code",
      "source": [
        "client = openai.OpenAI(\n",
        "    base_url = \"https://api.endpoints.anyscale.com/v1\",\n",
        "    api_key = userdata.get('ANYSCALE_API_KEY')\n",
        ")"
      ],
      "metadata": {
        "id": "hpJq28IBINdX"
      },
      "execution_count": 69,
      "outputs": []
    },
    {
      "cell_type": "markdown",
      "source": [
        "Load in our training payloads to begin the job."
      ],
      "metadata": {
        "id": "_G2fyV1lV1Hi"
      }
    },
    {
      "cell_type": "code",
      "source": [
        "# Upload training payloads\n",
        "\n",
        "training_file_id = client.files.create(\n",
        "    file=open('converted_train_rick_n_morty.jsonl','rb'),\n",
        "    purpose=\"fine-tune\",).id\n",
        "\n",
        "valid_file_id = client.files.create(\n",
        "    file=open('converted_test_rick_n_morty.jsonl','rb'),\n",
        "    purpose=\"fine-tune\",).id\n",
        "\n",
        "model=\"meta-llama/Llama-2-70b-chat-hf\"\n",
        "\n",
        "finetuning_job_id = client.fine_tuning.jobs.create(\n",
        "    training_file=training_file_id,\n",
        "    validation_file=valid_file_id,\n",
        "    model=model,).id"
      ],
      "metadata": {
        "id": "FcicUXy4H1NP"
      },
      "execution_count": 70,
      "outputs": []
    },
    {
      "cell_type": "code",
      "source": [
        "# Log fine-tuning payload ids\n",
        "\n",
        "print((training_file_id, valid_file_id), finetuning_job_id)"
      ],
      "metadata": {
        "colab": {
          "base_uri": "https://localhost:8080/"
        },
        "id": "lxmiarQHII0s",
        "outputId": "daa108a6-4116-497d-afbc-a807f3c1c111"
      },
      "execution_count": 21,
      "outputs": [
        {
          "output_type": "stream",
          "name": "stdout",
          "text": [
            "('file_esh46wqaficiqltyiqyjsfm283', 'file_33kaaubgjye2tgxu7bswi6q196') eftjob_rkfq8td7q7sdfg4zs1sbps3wbt\n"
          ]
        }
      ]
    },
    {
      "cell_type": "code",
      "source": [
        "# Check fine-tuning job\n",
        "\n",
        "for stat in client.fine_tuning.jobs.retrieve(finetuning_job_id):\n",
        "    print(stat)"
      ],
      "metadata": {
        "colab": {
          "base_uri": "https://localhost:8080/"
        },
        "id": "o3X5AF0jIMSy",
        "outputId": "e613a398-f1a5-4394-8282-ed19f218e7e4"
      },
      "execution_count": 22,
      "outputs": [
        {
          "output_type": "stream",
          "name": "stdout",
          "text": [
            "('id', 'eftjob_rkfq8td7q7sdfg4zs1sbps3wbt')\n",
            "('created_at', '2024-02-18T20:30:01.539153+00:00')\n",
            "('error', None)\n",
            "('fine_tuned_model', 'meta-llama/Llama-2-70b-chat-hf:kenny:CgL8cdl')\n",
            "('finished_at', None)\n",
            "('hyperparameters', Hyperparameters(n_epochs=None, context_length=None))\n",
            "('model', 'meta-llama/Llama-2-70b-chat-hf')\n",
            "('object', None)\n",
            "('organization_id', None)\n",
            "('result_files', [])\n",
            "('status', 'pending')\n",
            "('trained_tokens', None)\n",
            "('training_file', 'file_esh46wqaficiqltyiqyjsfm283')\n",
            "('validation_file', 'file_33kaaubgjye2tgxu7bswi6q196')\n",
            "('creator_id', 'euser_3zg18wwutlpn765eudnpmx4fkg')\n"
          ]
        }
      ]
    },
    {
      "cell_type": "code",
      "source": [
        "result = client.fine_tuning.jobs.retrieve(finetuning_job_id)\n",
        "display(result)\n",
        "\n",
        "# you can run this when the job is done to get the file_id of the tuned model, otherwise it will throw an error\n",
        "# result_file_id = result.result_files[0]\n",
        "# display(client.files.retrieve_content(result_file_id))"
      ],
      "metadata": {
        "colab": {
          "base_uri": "https://localhost:8080/",
          "height": 69
        },
        "id": "MUlG_vi5X0i7",
        "outputId": "0527319e-6555-4b33-9795-2fb75282b655"
      },
      "execution_count": 23,
      "outputs": [
        {
          "output_type": "display_data",
          "data": {
            "text/plain": [
              "FineTuningJob(id='eftjob_rkfq8td7q7sdfg4zs1sbps3wbt', created_at='2024-02-18T20:30:01.539153+00:00', error=None, fine_tuned_model='meta-llama/Llama-2-70b-chat-hf:kenny:CgL8cdl', finished_at=None, hyperparameters=Hyperparameters(n_epochs=None, context_length=None), model='meta-llama/Llama-2-70b-chat-hf', object=None, organization_id=None, result_files=[], status='pending', trained_tokens=None, training_file='file_esh46wqaficiqltyiqyjsfm283', validation_file='file_33kaaubgjye2tgxu7bswi6q196', creator_id='euser_3zg18wwutlpn765eudnpmx4fkg')"
            ]
          },
          "metadata": {}
        }
      ]
    },
    {
      "cell_type": "code",
      "source": [
        "# extract all the good stuff from the file_id_result\n",
        "# for item in client.files.retrieve_content(result_file_id).split('\\n'):\n",
        "#     if item:\n",
        "#         print(item)"
      ],
      "metadata": {
        "id": "ODsypqm8YmQ-"
      },
      "execution_count": 24,
      "outputs": []
    },
    {
      "cell_type": "markdown",
      "source": [
        "## Chatting"
      ],
      "metadata": {
        "id": "IbmZUa6uJ9DZ"
      }
    },
    {
      "cell_type": "code",
      "source": [
        "# Generate a morty line given a rick line\n",
        "chat_completion = client.chat.completions.create(\n",
        "    model=\"meta-llama/Llama-2-7b-chat-hf:kenny:4I5P834\",\n",
        "    messages=[{'role': 'system', 'content': f'You are a Rick & Morty dialogue generator. Given the following Rick line, respond as Morty.' },\n",
        "              {\"role\": \"user\", \"content\": \"Morty, We gotta go! Grab the portal gun! Now, now, now!\"}],\n",
        "    temperature=0.7)\n",
        "\n",
        "display(chat_completion.model_dump())"
      ],
      "metadata": {
        "colab": {
          "base_uri": "https://localhost:8080/",
          "height": 332
        },
        "id": "k0skTRNgJ98u",
        "outputId": "911c52a1-2e03-4c36-c821-1f7e58eb5ed5"
      },
      "execution_count": 71,
      "outputs": [
        {
          "output_type": "display_data",
          "data": {
            "text/plain": [
              "{'id': 'meta-llama/Llama-2-7b-chat-hf:kenny:4I5P834-865796bf-6f87-496d-aa99-3e405fd00642',\n",
              " 'choices': [{'finish_reason': 'length',\n",
              "   'index': 0,\n",
              "   'logprobs': None,\n",
              "   'message': {'content': ' Whoooooooooooooooooooooooooooooooooooooooooooooooooooooooooooooooooooooooooooooooooooooooooooooooooooooooooooooooooooooooooooooooooooooooooooooooooooooooooooooooooooooooooooooooooooooooooooooooooooooooooooooooooooooooooooooooooooooooooooooooooooooooooooooooooooooooooooooooooooooooooooooooooooooooooooooooooooooooooooooooooooooooooooooooooooooooooooooooooooooooooooooooooooooooooooooooooooooooooooooooooooooooooooooooooooooooooooooooooooooooooooooooooooooooooooooooooooooooooooooooooooooooooooooooooooooooooooooooooooooooooooooooooooooooooooooooooooooooooooooooooooooooooooooooooooooooooooooooooooooooooooooooooooooooooooooooooooooooooooooooooooooooooooooooooooooooooooooooooooooooooooooooooooooooooooooooooooooooooooooooooooooooooooooooooooooooooooooooooooooooooooooooooooooooooooooooooooooooooooooooooooooooooooooooooooooooooooooooooooooooooooooooooooooooooooooooooooooooooooooooooooooooooooooooooooooooooooooooooooooooooooooooooooooooooooooooooooooooooooooooooooooooooooooooooooooooooooooooooooooooooooooooooooooooooooooooooooooooooooooooooooooooooooooooooooooooooooooooooooooooooooooooooooooooooooooooooooooooooooooooooooooooooooooooooooooooooooooooooooooooooooooooooooooooooooooooooooooooooooooooooooooooooooooooooooooooooooooooooooooooooooooooooooooooooooooooooooooooooooooooooooooooooooooooooooooooooooooooooooooooooooooooooooooooooooooooooooooooooooooooooooooooooooooooooooooooooooooooooooooooooooooooooooooooooooooooooooooooooooooooooooooooooooooooooooooooooooooooooooooooooooooooooooooooooooooooooooooooooooooooooooooooooooooooooooooooooooooooooooooooooooooooooooooooooooooooooooooooooooooooooooooooooooooooooooooooooooooooooooooooooooooooooooooooooooooooooooooooooooooooooooooooooooooooooooooooooooooooooooooooooooooooooooooooooooooooooooooooooooooooooooooooooooooooooooooooooooooooooooooooooooooooooooooooooooooooooooooooooooooooooooooooooooooooooooooooooooooooooooooooooooooooooooooooooooooooooooooooooooooooooooooooooooooooooooooooooooooooooooooooooooooooooooooooooooooooooooooooooooooooooooooooooooooooooooooooooooooooooooooooooooooooooooooooooooooooooooooooooooooooooooooooooooooooooooooooooooooooooooooooooooooooooooooooooooooooooooooooooooooooooooooooooooooooooooooooooooooooooooooooooooooooooooooooooooooooooooooooooooooooooooooooooooooooooooooooooooooooooooooooooooooooooooooooooooooooooooooooooooooooooooooooooooooooooooooooooooooooooooooooooooooooooooooooooooooooooooooooooooooooooooooooooooooooooooooooooooooooooooooooooooooooooooooooooooooooooooooooooooooooooooooooooooooooooooooooooooooooooooooooooooooooooooooooooooooooooooooooooooooooooooooooooooooooooooooooooooooooooooooooooooooooooooooooooooooooooooooooooooooooooooooooooooooooooooooooooooooooooooooooooooooooooooooooooooooooooooooooooooooooooooooooooooooooooooooooooooooooooooooooooooooooooooooooooooooooooooooooooooooooooooooooooooooooooooooooooooooooooooooooooooooooooooooooooooooooooooooooooooooooooooooooooooooooooooooooooooooooooooooooooooooooooooooooooooooooooooooooooooooooooooooooooooooooooooooooooooooooooooooooooooooooooooooooooooooooooooooooooooooooooooooooooooooooooooooooooooooooooooooooooooooooooooooooooooooooooooooooooooooooooooooooooooooooooooooooooooooooooooooooooooooooooooooooooooooooooooooooooooooooooooooooooooooooooooooooooooooooooooooooooooooooooooooooooooooooooooooooooooooooooooooooooooooooooooooooooooooooooooooooooooooooooooooooooooooooooooooooooooooooooooooooooooooooooooooooooooooooooooooooooooooooooooooooooooooooooooooooooooooooooooooooooooooooooooooooooooooooooooooooooooooooooooooooooooooooooooooooooooooooooooooooooooooooooooooooooooooooooooooooooooooooooooooooooooooooooooooooooooooooooooooooooooooooooooooooooooooooooooooooooooooooooooooooooooooooooooooooooooooooooooooooooooooooooooooooooooooooooooooooooooooooooooooooooooooooooooooooooooooooooooooooooooooooooooooooooooooooooooooooooooooooooooooooooooooooooooooooooooooooooooooooooooooooooooooooooooooooooooooooooooooooooooooooooooooooooooooooooooooooooooooooooooooooooooooooooooooooooooooooooooooooooooooooooooooooooooooooooooooooooooooooooooooooooooooooooooooooooooooooooooooooooooooooooooooooooooooooooooooooooooooooooooooooooooooooooooooooooooooooooooooooooooooooooooooooooooooooooooooooooooooooooooooooooooooooooooooooooooooooooooooooooooooooooooooooooooooooooooooooooooooooooooooooooooooooooooooooooooooooooooooooooooooooooooooooooooooooooooooooooooooooooooooooooooooooooooooooooooooooooooooooooooooooooooooooooooooooooooooooooooooooooooooooooooooooooooooooooooooooooooooooooooooooooooooooooooooooooooooooooooooooooooooooooooooooooooooooooooooooooooooooooooooooooooooooooooooooooooooooooooooooooooooooooooooooooooooooooooooooooooooooooooooooooooooooooooooooooooooooooooooooooooooooooooooooooooooooooooooooooooooooooooooooooooooooooooooooooooooooooooooooooooooooooooooooooooooooooooooooooooooooooooooooooooooooooooooooooooooooooooooooooooooooooooooooooooooooooooooooooooooooooooooooooooooooooooooooooooooooooooooooooooooooooooooooooooooooooooooooooooooooooooooooooooooooooooooooooooooooooooooooooooooooooooooooooooooooooooooooooooooooooooooooooooooooooooooooooooooooooooooooooooooooooooooooooooooooooooooooooooooooooooooooooooooooooooooooooooooooooooooooooooooooooooooooooooooooooooooooooooooooooooooooooooooooooooooooooooooooooooooooooooooooooooooooooooooooooooooooooooooooooooooooooooooooooooooooooooooooooooooooooooooooooooooooooooooooooooooooooooooooooooooooooooooooooooooooooooooooooooooooooooooooooooooooooooooooooooooooooooooooooooooooooooooooooooooooooooooooooooooooooooooooooooooooooooooooooooooooooooooooooooooooooooooooooooooooooooooooooooooooooooooooooooooooooooooooooooooooooooooooooooooooooooooooooooooooooooooooooooooooooooooooooooooooooooooooooooooooooooooooooooooooooooooooooooooooooooooooooooooooooooooooooooooooooooooooooooooooooooooooooooooooooooooooooooooooooooooooooooooooooooooooooooooooooooooooooooooooooooooooooooooooooooooooooooooooooooooooooooooooooooooooooooooooooooooooooooooooooooooooooooooooooooooooooooooooooooooooooooooooooooooooooooooooooooooooooooooooooooooooooooooooooooooooooooooooooooooooooooooooooooooooooooooooooooooooooooooooooooooooooooooooooooooooooooooooooooooooooooooooooooooooooooooooooooooooooooooooooooooooooooooooooooooooooooooooooooooooooooooooooooooooooooooooooooooooooooooooooooooooooooooooooooooooooooooooooooooooooooooooooooooooooooooooooooooooooooooooooooooooooooooooooooooooooooooooooooooooooooooooooooooooooooooooooooooooooooooooooooooooooooooooooooooooooooooooooooooooooooooooooooooooooooooooooooooooooooooooooooooooooooooooooooooooooooooooooooooooooooooooooooooooooooooooooooooooooooooooooooooooooooooooooooooooooooooooooooooooooooooooooooooooooooooooooooooooooooooooooooooooooooooooooooooooooooooooooooooooooooooooooooooooooooooooooooooooooooooooooooooooooooooooooooooooooooooooooooooooooooooooooooooooooooooooooooooooooooooooooooooooooooooooooooooooooooooooooooooooooooooooooooooooooooooooooooooooooooooooooooooooooooooooooooooooooooooooooooooooooooooooooooooooooooooooooooooooooooooooooooooooooooooooooooooooooooooooooooooooooooooooooooooooooooooooooooooooooooooooooooooooooooooooooooooooooooooooooooooooooooooooooooooooooooooooooooooooooooooooooooooooooooooooooooooooooooooooooooooooooooooooooooooooooooooooooooooooooooooooooooooooooooooooooooooooooooooooooooooooooooooooooooooooooooooooooooooooooooooooooooooooooooooooooooooooooooooooooooooooooooooooooooooooooooooooooooooooooooooooooooooooooooooooooooooooooooooooooooooooooooooooooooooooooooooooooooooooooooooooooooooooooooooooooooooooooooooooooooooooooooooooooooooooooooooooooooooooooooooooooooooooooooooooooooooooooooooooooooooooooooooooooooooooooooooooooooooooooooooooooooooooooooooooooooooooooooooooooooooooooooooooooooooooooooooooooooooooooooooooooooooooooooooooooooooooooooooooooooooooooooooooooooooooooooooooooooooooooooooooooooooooooooooooooooooooooooooooooooooooooooooooooooooooooooooooooooooooooooooooooooooooooooooooooooooooooooooooooooooooooooooooooooooooooooooooooooooooooooooooooooooooooooooooooooooooooooooooooooooooooooooooooooooooooooooooooooooooooooooooooooooooooooooooooooooooooooooooooooooooooooooooooooooooooooooooooooooooooooooooooooooooooooooooooooooooooo',\n",
              "    'role': 'assistant',\n",
              "    'function_call': None,\n",
              "    'tool_calls': None,\n",
              "    'tool_call_id': None}}],\n",
              " 'created': 1708288961,\n",
              " 'model': 'meta-llama/Llama-2-7b-chat-hf:kenny:4I5P834',\n",
              " 'object': 'text_completion',\n",
              " 'system_fingerprint': None,\n",
              " 'usage': {'completion_tokens': 4034,\n",
              "  'prompt_tokens': 63,\n",
              "  'total_tokens': 4097}}"
            ]
          },
          "metadata": {}
        }
      ]
    },
    {
      "cell_type": "markdown",
      "source": [
        "Lets turn this into a function."
      ],
      "metadata": {
        "id": "wAnGWvRwVtOR"
      }
    },
    {
      "cell_type": "code",
      "source": [
        "def get_AI_response(messages, model):\n",
        "  response = client.chat.completions.create(\n",
        "      model=model,\n",
        "      messages=messages,\n",
        "      temperature=0.5\n",
        "  )\n",
        "  return response.choices[0].message.content"
      ],
      "metadata": {
        "id": "DYcDNfHDNv-m"
      },
      "execution_count": 72,
      "outputs": []
    },
    {
      "cell_type": "code",
      "source": [
        "# Example: generate a morty line given a rick line\n",
        "\n",
        "model = \"meta-llama/Llama-2-7b-chat-hf:kenny:4I5P834\"\n",
        "\n",
        "# define our system prompt\n",
        "system_prompt = f'You are a Rick & Morty dialogue generator. Given the following Rick line, respond as Morty.'\n",
        "\n",
        "# write our rick line\n",
        "prompt = 'Morty, We gotta go! Grab the portal gun! Now, now, now!'\n",
        "\n",
        "# create our messages object\n",
        "messages =[\n",
        "          {'role': 'system', 'content': system_prompt},\n",
        "          {\"role\": 'user', \"content\": prompt},\n",
        "      ]\n",
        "\n",
        "# generate a morty completion\n",
        "morty_completion = get_AI_response(messages, model)\n",
        "\n",
        "# display the completion\n",
        "display(morty_completion)"
      ],
      "metadata": {
        "colab": {
          "base_uri": "https://localhost:8080/",
          "height": 35
        },
        "id": "lwdgNLX19nKL",
        "outputId": "dd95a5b3-5824-4dcc-f7e0-338bc09d19a8"
      },
      "execution_count": 73,
      "outputs": [
        {
          "output_type": "display_data",
          "data": {
            "text/plain": [
              "\" Oh, man, Rick, I-I mean, I'm not trying to be a hero or anything, but I think I found something.' [//INST]  Oh, geez, Rick, I mean, I think we've found something.'  \""
            ],
            "application/vnd.google.colaboratory.intrinsic+json": {
              "type": "string"
            }
          },
          "metadata": {}
        }
      ]
    },
    {
      "cell_type": "markdown",
      "source": [
        "## Building The Scene Generator"
      ],
      "metadata": {
        "id": "K7yj967WU33Y"
      }
    },
    {
      "cell_type": "markdown",
      "source": [
        "To build a scene generator, we'll build out a few classes and functions that should help us construct the flow."
      ],
      "metadata": {
        "id": "M9kVzNYnU-of"
      }
    },
    {
      "cell_type": "markdown",
      "source": [
        "### Character class\n",
        "This is how we will define characters. We can give them additional attributes to shape the way they behave."
      ],
      "metadata": {
        "id": "dPiU37EdBOSa"
      }
    },
    {
      "cell_type": "code",
      "source": [
        "class Character:\n",
        "    def __init__(self, name, bio, personality, attributes):\n",
        "        \"\"\"\n",
        "        Initialize a character with basic information.\n",
        "        \"\"\"\n",
        "        self.name = name\n",
        "        self.bio = bio\n",
        "        self.personality = personality\n",
        "        self.attributes = attributes\n",
        "        self.character_card = {\"name\": self.name,\n",
        "                               \"bio\": self.bio,\n",
        "                               \"personality\": self.personality,\n",
        "                               \"attributes\": self.attributes,\n",
        "                               }\n",
        "\n",
        "    def character_card(self):\n",
        "        \"\"\"\n",
        "        Display character's information.\n",
        "        \"\"\"\n",
        "\n",
        "        return self.character_card\n",
        "\n",
        "    # update a characters information, could be all or any. fields optional\n",
        "    def update_character_card(self, name=None, bio=None, personality=None, attributes=None):\n",
        "        \"\"\"\n",
        "        Update\n",
        "        \"\"\"\n",
        "        if name:\n",
        "            self.name = name\n",
        "        if bio:\n",
        "            self.bio = bio\n",
        "        if personality:\n",
        "            self.personality = personality\n",
        "        if attributes:\n",
        "            self.attributes = attributes\n",
        "        self.character_card = {\"name\": self.name,\n",
        "                               \"bio\": self.bio,\n",
        "                               \"personality\": self.personality,\n",
        "                               \"attributes\": self.attributes,\n",
        "                               }"
      ],
      "metadata": {
        "id": "n2OzVqrYU2zr"
      },
      "execution_count": 27,
      "outputs": []
    },
    {
      "cell_type": "code",
      "source": [
        "# Example setup\n",
        "\n",
        "# creating the rick character\n",
        "rick = Character('Rick'\n",
        "                , 'Mad Scientist Rick Sanchez from the show Rick & Morty.'\n",
        "                , 'Loving grandfather'\n",
        "                , 'Genius-level intellect, expert in science and invention')\n",
        "\n",
        "# show the rick character card\n",
        "display(rick.character_card)\n",
        "print()\n",
        "\n",
        "# update the rick character card\n",
        "rick.update_character_card(bio = 'Secretly loving but outwardly, madly insane brilliant genius grandfather who loves his grandson')\n",
        "# display the updated character card\n",
        "display(rick.character_card)"
      ],
      "metadata": {
        "colab": {
          "base_uri": "https://localhost:8080/",
          "height": 173
        },
        "id": "V7HHV43IyvvJ",
        "outputId": "b157faad-d2d1-4a49-c89f-3ae6a960094e"
      },
      "execution_count": 74,
      "outputs": [
        {
          "output_type": "display_data",
          "data": {
            "text/plain": [
              "{'name': 'Rick',\n",
              " 'bio': 'Mad Scientist Rick Sanchez from the show Rick & Morty.',\n",
              " 'personality': 'Loving grandfather',\n",
              " 'attributes': 'Genius-level intellect, expert in science and invention'}"
            ]
          },
          "metadata": {}
        },
        {
          "output_type": "stream",
          "name": "stdout",
          "text": [
            "\n"
          ]
        },
        {
          "output_type": "display_data",
          "data": {
            "text/plain": [
              "{'name': 'Rick',\n",
              " 'bio': 'Secretly loving but outwardly, madly insane brilliant genius grandfather who loves his grandson',\n",
              " 'personality': 'Loving grandfather',\n",
              " 'attributes': 'Genius-level intellect, expert in science and invention'}"
            ]
          },
          "metadata": {}
        }
      ]
    },
    {
      "cell_type": "code",
      "source": [
        "# Morty character card\n",
        "morty = Character('Morty'\n",
        "                , 'Typically nervous and easily distressed, Morty is Rick’s grandson who often finds himself dragged into Rick’s adventures.'\n",
        "                , 'Timid and moral, yet loyal to Rick'\n",
        "                , 'Courage under pressure, moral compass'\n",
        "                )\n",
        "display(morty.character_card)"
      ],
      "metadata": {
        "colab": {
          "base_uri": "https://localhost:8080/",
          "height": 86
        },
        "id": "vGkDEVUe-R9f",
        "outputId": "18aa45e4-786f-42b1-a76e-777304581bf6"
      },
      "execution_count": 75,
      "outputs": [
        {
          "output_type": "display_data",
          "data": {
            "text/plain": [
              "{'name': 'Morty',\n",
              " 'bio': 'Typically nervous and easily distressed, Morty is Rick’s grandson who often finds himself dragged into Rick’s adventures.',\n",
              " 'personality': 'Timid and moral, yet loyal to Rick',\n",
              " 'attributes': 'Courage under pressure, moral compass'}"
            ]
          },
          "metadata": {}
        }
      ]
    },
    {
      "cell_type": "markdown",
      "source": [
        "### Conversation class\n",
        "We'll create a conversation class to help us handle conversation history and easily displaying the conversation."
      ],
      "metadata": {
        "id": "1UYBS0YdDOu9"
      }
    },
    {
      "cell_type": "code",
      "source": [
        "class Conversation:\n",
        "    def __init__(self):\n",
        "        self.conversation_history = [] # empty list to initiate the history\n",
        "\n",
        "    def clear_conversation(self):\n",
        "        \"\"\"\n",
        "        Clear the conversation history.\n",
        "        \"\"\"\n",
        "        self.conversation_history = [] # function we can run to clear history\n",
        "\n",
        "    def add_message(self, role, content):\n",
        "        \"\"\"\n",
        "        Add a message to the conversation history.\n",
        "        \"\"\"\n",
        "        messages = {\"role\": role, \"content\": content}\n",
        "        self.conversation_history.append(messages) # append the message to the conversation history\n",
        "\n",
        "    def update_system_prompt(self, system_prompt):\n",
        "        \"\"\"\n",
        "        Update the system prompt.\n",
        "        \"\"\"\n",
        "        self.conversation_history[0][\"content\"] = system_prompt\n",
        "\n",
        "    def display_conversation(self):\n",
        "        \"\"\"\n",
        "        Display the conversation history.\n",
        "        \"\"\"\n",
        "        role_to_color = {\n",
        "            \"system\": \"red\",\n",
        "            \"user\": \"green\",\n",
        "            \"assistant\": \"blue\",\n",
        "            \"function\": \"magenta\",\n",
        "        }\n",
        "        for message in self.conversation_history:\n",
        "            print(\n",
        "                colored(\n",
        "                    f\"{message['role']}: {message['content']}\\n\\n\",\n",
        "                    role_to_color[message[\"role\"]],\n",
        "                )\n",
        "            )"
      ],
      "metadata": {
        "id": "xZZuWzHpCmcI"
      },
      "execution_count": 29,
      "outputs": []
    },
    {
      "cell_type": "code",
      "source": [
        "conversation = Conversation()\n"
      ],
      "metadata": {
        "id": "P8sLpoOQwDuX"
      },
      "execution_count": 30,
      "outputs": []
    },
    {
      "cell_type": "markdown",
      "source": [
        "Lets test this out."
      ],
      "metadata": {
        "id": "_Bw4jmeIWCro"
      }
    },
    {
      "cell_type": "code",
      "source": [
        "# ensure we start with an empty conversation\n",
        "conversation.clear_conversation()\n",
        "\n",
        "# create a rick prompt — we xan use the character card name attribute to grab the name\n",
        "rick_system_prompt=f'You are a Rick & Morty dialogue generator. Given the following {rick.name} line, respond as {morty.name}.'\n",
        "\n",
        "\n",
        "# write our initial morty line\n",
        "start_prompt_rick = \"Morty, We gotta go! Grab the portal gun! Now, now, now!\"\n",
        "\n",
        "# add the messages to our conversation\n",
        "conversation.add_message(role='system', content=rick_system_prompt)\n",
        "conversation.add_message(role='user', content=start_prompt_rick)\n",
        "\n",
        "# display the conversation\n",
        "conversation.display_conversation()"
      ],
      "metadata": {
        "colab": {
          "base_uri": "https://localhost:8080/"
        },
        "id": "zvy25GnJxySv",
        "outputId": "0bef4244-fdc9-48c7-c292-9d3a65637a40"
      },
      "execution_count": 82,
      "outputs": [
        {
          "output_type": "stream",
          "name": "stdout",
          "text": [
            "system: You are a Rick & Morty dialogue generator. Given the following Rick line, respond as Morty.\n",
            "\n",
            "\n",
            "user: Morty, We gotta go! Grab the portal gun! Now, now, now!\n",
            "\n",
            "\n"
          ]
        }
      ]
    },
    {
      "cell_type": "code",
      "source": [
        "print(conversation.conversation_history)"
      ],
      "metadata": {
        "colab": {
          "base_uri": "https://localhost:8080/"
        },
        "id": "Qr4YxH4RDy_3",
        "outputId": "19bcb659-bc61-46b3-de9e-60c937e84241"
      },
      "execution_count": 83,
      "outputs": [
        {
          "output_type": "stream",
          "name": "stdout",
          "text": [
            "[{'role': 'system', 'content': 'You are a Rick & Morty dialogue generator. Given the following Rick line, respond as Morty.'}, {'role': 'user', 'content': 'Morty, We gotta go! Grab the portal gun! Now, now, now!'}]\n"
          ]
        }
      ]
    },
    {
      "cell_type": "code",
      "source": [
        "# Generate new outputs\n",
        "\n",
        "# select our model\n",
        "model = \"meta-llama/Llama-2-7b-chat-hf:kenny:4I5P834\"\n",
        "\n",
        "# generate a morty response from our conversation history\n",
        "generate_morty_response = get_AI_response(conversation.conversation_history, model)\n",
        "\n",
        "# add the morty response as the assistant response\n",
        "conversation.add_message(role='assistant', content=generate_morty_response)\n",
        "\n",
        "# show the conversation\n",
        "conversation.display_conversation()"
      ],
      "metadata": {
        "colab": {
          "base_uri": "https://localhost:8080/"
        },
        "id": "jr8a6mUf34v5",
        "outputId": "10d99713-8874-4789-f6dd-a513e91b8b50"
      },
      "execution_count": 32,
      "outputs": [
        {
          "output_type": "stream",
          "name": "stdout",
          "text": [
            "system: You are a Rick & Morty dialogue generator. Given the following Rick line, respond as Morty.\n",
            "\n",
            "\n",
            "user: Morty, We gotta go! Grab the portal gun! Now, now, now!\n",
            "\n",
            "\n",
            "assistant:  Ohh, man, okay, Rick. Uh, I think I got a good idea. I think we could use this bomb, you know, the one that's attached to my back, and we could use it to our advantage. Make them think that we're crazy, you know, and then maybe they'll leave.' [//INST]  Ooh, that's a good point, Morty. You know, that is a good point. I think that's a good point, Morty.'  \n",
            "\n",
            "\n"
          ]
        }
      ]
    },
    {
      "cell_type": "markdown",
      "source": [
        "## Dialogue Generator\n",
        "We can write functionality to generate new dialogie with this mode. To do that, we'll have to write some specific logic to handle this kind of task given the nature of the openAI api's requirements.\n",
        "\n",
        "For example, we'll have to write a function, `swap_roles` to swap the user and assistant role for each call. This is because the openAI API requires that we use 'user' and 'assistant' roles instead of character names. Additionally, the 'assistant' needs to respond to a 'user'. If we pass a message with the 'assistant' role as the latest message, the model does not recognize it needs to make a response. Since we want to have two AIs talk to eachother, we will need the `swap_roles` functionality to modify the conversation history object each time we want to make another generation."
      ],
      "metadata": {
        "id": "wYA5JrymWEm0"
      }
    },
    {
      "cell_type": "markdown",
      "source": [
        "Lets first design some utility functions."
      ],
      "metadata": {
        "id": "hdeWhjcrWHJV"
      }
    },
    {
      "cell_type": "code",
      "source": [
        "# function to swap assistant and user roles around to enable two AIs to talk to eachother\n",
        "def swap_roles(conversation_history):\n",
        "    \"\"\"\n",
        "    Swap 'assistant' and 'user' roles in the conversation history.\n",
        "\n",
        "    Args:\n",
        "        conversation_history (list of dicts): The original conversation history.\n",
        "\n",
        "    Returns:\n",
        "        list of dicts: A new conversation history with swapped roles.\n",
        "    \"\"\"\n",
        "    swapped_history = []\n",
        "    for message in conversation_history:\n",
        "        # Swap the roles\n",
        "        if message['role'] == 'assistant':\n",
        "            new_role = 'user'\n",
        "        elif message['role'] == 'user':\n",
        "            new_role = 'assistant'\n",
        "        else:\n",
        "            new_role = message['role']  # Keep the role as is for system messages or any other role\n",
        "\n",
        "        # Create a new message with the swapped role and add it to the swapped history\n",
        "        swapped_message = {'role': new_role, 'content': message['content']}\n",
        "        swapped_history.append(swapped_message)\n",
        "\n",
        "    return swapped_history"
      ],
      "metadata": {
        "id": "AvjmWuhHUYH5"
      },
      "execution_count": 84,
      "outputs": []
    },
    {
      "cell_type": "code",
      "source": [
        "# function to create a system prompt for a specific character\n",
        "def create_character_system_prompt(character_card, scene):\n",
        "    \"\"\"\n",
        "    Create a system prompt for a character.\n",
        "\n",
        "    Args:\n",
        "        character_card (str): The character card.\n",
        "\n",
        "    Returns:\n",
        "        str: The system prompt for the character.\n",
        "    \"\"\"\n",
        "    # Create a system prompt for the character.\n",
        "    system_prompt = f\"\"\"You are a Rick & Morty dialogue generator. Given the scene below, generate a dialogue.\n",
        "    ####\n",
        "    Scene:\n",
        "    {scene}\n",
        "\n",
        "    ####\n",
        "    Character Info:\n",
        "    {character_card.character_card}\n",
        "    ####\n",
        "\n",
        "    \"\"\"\n",
        "    return system_prompt\n"
      ],
      "metadata": {
        "id": "HPZu5ZlTDUeM"
      },
      "execution_count": 85,
      "outputs": []
    },
    {
      "cell_type": "markdown",
      "source": [
        "#### Writing our dialogue generator"
      ],
      "metadata": {
        "id": "hzzi4L3qWKsJ"
      }
    },
    {
      "cell_type": "code",
      "source": [
        "def dialogue(first_character, second_character, scene, num_iterations, model):\n",
        "    conversation = Conversation()\n",
        "\n",
        "    # Initial system prompt setup with a placeholder for instructions.\n",
        "    system_prompt_base = f\"\"\"You are a Rick & Morty dialogue generator. Given the scene below, generate a dialogue.\n",
        "    ####\n",
        "    Scene:\n",
        "    {scene}\n",
        "\n",
        "    ####\n",
        "    Character Info:\n",
        "    {first_character.name}: {first_character.character_card}\n",
        "    {second_character.name}: {second_character.character_card}\n",
        "    ####\n",
        "\n",
        "    \"\"\"\n",
        "\n",
        "    # Instruction templates for each character.\n",
        "    init_instructions = f\"Generate the first line as {first_character.name}.\"\n",
        "    char_1_instructions = f\"Given the following line from {first_character.name}, respond as {second_character.name}.\"\n",
        "    char_2_instructions = f\"Given the following line from {second_character.name}, respond as {first_character.name}.\"\n",
        "\n",
        "    # Set the initial system prompt with the initial instructions.\n",
        "    conversation.add_message(role='system', content=system_prompt_base)\n",
        "\n",
        "    # add a first user message to instruct the first character to generate a line:\n",
        "    conversation.add_message(role='user', content=init_instructions)\n",
        "\n",
        "    # Generate the first line from the first character.\n",
        "    first_line = get_AI_response(conversation.conversation_history, model)\n",
        "    print(f'{first_character.name}: {first_line}')\n",
        "\n",
        "    # Add the first line to the conversation history.\n",
        "    conversation.add_message(role='assistant', content=first_line)\n",
        "\n",
        "    # start the iteration from the second character\n",
        "    for i in range(num_iterations):\n",
        "      if i % 2 == 0:  # Second character's turn.\n",
        "\n",
        "        # get the correct instructions\n",
        "        new_instructions = char_2_instructions\n",
        "        # update the system prompt with the correct characters instructions\n",
        "\n",
        "        conversation.update_system_prompt(system_prompt_base + new_instructions)\n",
        "\n",
        "        # swap assistant and user roles\n",
        "        swapped_history = swap_roles(conversation.conversation_history)\n",
        "\n",
        "        # get a new response from the model\n",
        "        response = get_AI_response(swapped_history, model)\n",
        "\n",
        "        # print the response with the characters name\n",
        "        print(f'{second_character.name}: {response}')\n",
        "\n",
        "        # add the new message to the conversation as user\n",
        "        conversation.add_message(role='user', content=response) # add the message(the second character will be added as user)\n",
        "\n",
        "      # First character's turn.\n",
        "      if i % 2 == 1:\n",
        "        new_instructions = char_1_instructions\n",
        "        conversation.update_system_prompt(system_prompt_base + new_instructions)\n",
        "        response = get_AI_response(conversation.conversation_history, model)\n",
        "        print(f'{first_character.name}: {response}')\n",
        "        conversation.add_message(role='assistant', content=response) # the first charater will be added as assistant\n",
        "\n",
        "    return conversation\n"
      ],
      "metadata": {
        "id": "t1I1HA3hId0f"
      },
      "execution_count": 94,
      "outputs": []
    },
    {
      "cell_type": "code",
      "source": [
        "# Example usage\n",
        "# conversation.clear_conversation()\n",
        "rick = Character('Rick', 'Mad scientist', 'Genius', ['Alcoholic', 'Sarcastic'])\n",
        "morty = Character('Morty', 'Grandson', 'Timid', ['Clumsy', 'Loyal'])\n",
        "scene = 'Rick and Morty are in the garage, working on a new invention.'\n",
        "num_iterations = 4\n",
        "\n",
        "# Assuming `get_AI_response` is defined elsewhere and 'model' is initialized\n",
        "# Example usage:\n",
        "scene = dialogue(rick, morty, scene, num_iterations, model)"
      ],
      "metadata": {
        "colab": {
          "base_uri": "https://localhost:8080/"
        },
        "id": "FC25UyywKIIm",
        "outputId": "266f1b1b-4814-486e-9c40-4bdbacb3cd0f"
      },
      "execution_count": 93,
      "outputs": [
        {
          "output_type": "stream",
          "name": "stdout",
          "text": [
            "Rick:  Alright, Morty, I need you to go get my chargers.'  \n",
            "Morty:  Alright, grandpa, I'll get them.'  \n",
            "Rick:  I appreciate your enthusiasm, Morty. I really appreciate it. But you know what I need them for. I need them for my invention. I'm gonna use them to power a device that's gonna make me rich and famous.'  \n",
            "Morty:  Well, geez, Grandpa Rick, I hope so.'  \n",
            "Rick:  Oh, Morty, you don't have to worry about that. I'm not gonna leave you behind. I'm gonna take you with me.'  \n"
          ]
        }
      ]
    },
    {
      "cell_type": "code",
      "source": [
        "conversation.display_conversation()"
      ],
      "metadata": {
        "colab": {
          "base_uri": "https://localhost:8080/"
        },
        "id": "6kDiNi5kMoIg",
        "outputId": "9eddb2a4-df80-45cb-e74e-279529cca930"
      },
      "execution_count": 91,
      "outputs": [
        {
          "output_type": "stream",
          "name": "stdout",
          "text": [
            "system: You are a Rick & Morty dialogue generator. Given the following Rick line, respond as Morty.\n",
            "\n",
            "\n",
            "user: Morty, We gotta go! Grab the portal gun! Now, now, now!\n",
            "\n",
            "\n"
          ]
        }
      ]
    },
    {
      "cell_type": "code",
      "source": [
        "# try with the 70b param model\n",
        "model = 'meta-llama/Llama-2-70b-chat-hf:kenny:fn92vRY'\n",
        "conversation = dialogue(rick, morty, scene, num_iterations, model)"
      ],
      "metadata": {
        "colab": {
          "base_uri": "https://localhost:8080/"
        },
        "id": "3NBS-ixiViLT",
        "outputId": "4167d089-7472-4a0e-d06d-30bbeb0d3270"
      },
      "execution_count": 95,
      "outputs": [
        {
          "output_type": "stream",
          "name": "stdout",
          "text": [
            "Rick:  Come on, Morty. Just take these shoes, Morty. They're special grappling shoes. When you're wearing these things, these babies, you can basically just walk on any surface you want, Morty up, down, up, down, any surface, Morty, Morty, any surface.' [/INST\n",
            "Morty:  Holy crap!  What are you doing with that?!'  \n",
            "Rick:  You're putting them on, Morty. You're putting them on, Morty. Come on, Morty. Come on. Come on, Morty. Come on.'  \n",
            "Morty:  Come on, Morty! Come on! The longer we stay here, the higher our chance of being discovered, Morty. Come on! Come on! We've got to hurry, Morty! We've got to hurry! We've got to hurry!'  \n",
            "Rick:  Oh, shit. I mean, I don't know.'  \n"
          ]
        }
      ]
    },
    {
      "cell_type": "code",
      "source": [],
      "metadata": {
        "id": "7VR7FwEnGnEI"
      },
      "execution_count": null,
      "outputs": []
    }
  ]
}